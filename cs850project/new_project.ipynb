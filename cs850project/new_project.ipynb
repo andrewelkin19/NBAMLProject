{
 "cells": [
  {
   "cell_type": "code",
   "execution_count": 288,
   "id": "72b1c491",
   "metadata": {},
   "outputs": [],
   "source": [
    "import pandas as pd\n",
    "import numpy as np\n",
    "import time\n",
    "from concurrent.futures import ThreadPoolExecutor, as_completed\n",
    "from nba_api.stats.static import teams as static_teams\n",
    "from nba_api.stats.endpoints import BoxScoreFourFactorsV3, TeamGameLog, LeagueStandingsV3\n",
    "from sklearn.linear_model import LinearRegression, LassoCV\n",
    "from sklearn.model_selection import train_test_split\n",
    "import matplotlib.pyplot as plt\n",
    "import plotly.express as px\n",
    "from requests.exceptions import ReadTimeout, ConnectionError\n",
    "import random, math\n",
    "import pathlib\n",
    "from sklearn.pipeline import make_pipeline\n",
    "from sklearn.preprocessing import StandardScaler\n",
    "from sklearn.model_selection import cross_val_score\n",
    "from sklearn.metrics import root_mean_squared_error, r2_score, mean_absolute_error, median_absolute_error, explained_variance_score\n",
    "\n",
    "\n",
    "RANDOM_SEED = 1\n",
    "np.random.seed(RANDOM_SEED)\n",
    "random.seed(RANDOM_SEED)"
   ]
  },
  {
   "cell_type": "markdown",
   "id": "fba7f6e4",
   "metadata": {},
   "source": [
    "# Linear Regression\n",
    "### Goal: Predict Final Record of NBA Teams\n",
    "First, I will be using the Four Factors statistics (Effective Field Goal Percentage, Free Throw Rate, Turnover Percentage, Offensive Rebound Rate,\n",
    "Opponent Effective Field Goal Percentage, Opponent Free Throw Rate, Opponent Turnover Percentage, Opponent rebound Rate), which are established to\n",
    "be excellent predictors of team success, with a Linear Regression model trained on the first n games of a season, and then test on a different season\n",
    "given the Four Factor stats from the first n games of that season. "
   ]
  },
  {
   "cell_type": "code",
   "execution_count": 289,
   "id": "e1770fd2",
   "metadata": {},
   "outputs": [],
   "source": [
    "COMMON_HEADERS = {\n",
    "    \"User-Agent\": \"Mozilla/5.0 (Windows NT 10.0; Win64; x64) \"\n",
    "                  \"AppleWebKit/537.36 (KHTML, like Gecko) \"\n",
    "                  \"Chrome/124.0 Safari/537.36\",\n",
    "    \"Accept\": \"application/json, text/plain, */*\",\n",
    "    \"Origin\": \"https://www.nba.com\",\n",
    "    \"Referer\": \"https://www.nba.com/\",\n",
    "}\n",
    "\n",
    "CACHE_DIR = pathlib.Path(\"cache_pkl\")\n",
    "CACHE_DIR.mkdir(exist_ok=True)\n",
    "NETWORK_CALLS = 0\n",
    "\n",
    "# Reusable method to pull data from an endpoint of NBA_API, checks if the data has already been saved locally\n",
    "def endpoint(endpoint_cls, *, cache_key=None, max_retries=3, base_sleep=1.5, **kwargs):\n",
    "    global NETWORK_CALLS\n",
    "\n",
    "    # Check if the data has already been retrieved\n",
    "    if cache_key:\n",
    "        path = CACHE_DIR / f\"{cache_key}.pkl\"\n",
    "        if path.exists():\n",
    "            frames = pd.read_pickle(path)\n",
    "\n",
    "            stub = type(\"Stub\", (), {})()\n",
    "            stub.get_data_frames = lambda f=frames: f\n",
    "            stub.team_stats = type(\"DS\", (), {\n",
    "                \"get_data_frame\": staticmethod(lambda df=frames[1] if len(frames) > 1 else frames[0]: df)\n",
    "            })()\n",
    "            stub._from_cache = True\n",
    "            return stub\n",
    "    \n",
    "    # If not pull it from the API\n",
    "    for attempt in range(max_retries):\n",
    "        try:\n",
    "            obj = endpoint_cls(\n",
    "                headers=COMMON_HEADERS,\n",
    "                timeout=60,\n",
    "                **kwargs\n",
    "            )\n",
    "            NETWORK_CALLS += 1\n",
    "            # Save the data to speed up subsequent program runs\n",
    "            if cache_key:\n",
    "                pd.to_pickle(obj.get_data_frames(),\n",
    "                             CACHE_DIR / f\"{cache_key}.pkl\")\n",
    "                    \n",
    "            obj._from_cache = False\n",
    "            return obj\n",
    "        \n",
    "        except (ReadTimeout, ConnectionError):\n",
    "            wait = base_sleep * (2 ** attempt) + random.uniform(0, 0.5)\n",
    "            print(f\"{endpoint_cls.__name__} retry {attempt+1}/{max_retries}\"\n",
    "                  f\" - sleeping {wait:.1f}s\")\n",
    "            time.sleep(wait)\n",
    "            \n",
    "    # Error if we hit max retries\n",
    "    raise RuntimeError(f\"{endpoint_cls.__name__} failed after {max_retries} retries\")\n",
    "            "
   ]
  },
  {
   "cell_type": "code",
   "execution_count": 290,
   "id": "0c338fd2",
   "metadata": {},
   "outputs": [],
   "source": [
    "# Function to get the game IDs from the training set\n",
    "def get_game_ids(team_id, season, n_games):\n",
    "    games = endpoint(\n",
    "        TeamGameLog,\n",
    "        cache_key=f\"gamelog_{team_id}_{season}\",\n",
    "        team_id=team_id,\n",
    "        season=season,\n",
    "        season_type_all_star=\"Regular Season\"\n",
    "        ).get_data_frames()[0]\n",
    "    return games.sort_values(\"GAME_DATE\")[\"Game_ID\"].head(n_games).tolist()"
   ]
  },
  {
   "cell_type": "code",
   "execution_count": 291,
   "id": "f0869292",
   "metadata": {},
   "outputs": [],
   "source": [
    "\n",
    "\n",
    "# Features we will be using\n",
    "FEATURES = [\n",
    "    \"effectiveFieldGoalPercentage\",\n",
    "    \"freeThrowAttemptRate\",\n",
    "    \"teamTurnoverPercentage\",\n",
    "    \"offensiveReboundPercentage\",\n",
    "    \"oppEffectiveFieldGoalPercentage\",\n",
    "    \"oppFreeThrowAttemptRate\",\n",
    "    \"oppTeamTurnoverPercentage\",\n",
    "    \"oppOffensiveReboundPercentage\"\n",
    "]\n",
    "\n",
    "# Speed up data retrieval\n",
    "MAX_THREADS = 4\n",
    "PER_REQUEST_SLEEP = 0.5\n",
    "\n",
    "\n",
    "# Get the features from the API endpoint\n",
    "def get_features(game_id, team_id):\n",
    "        stats = endpoint(\n",
    "            BoxScoreFourFactorsV3,\n",
    "            cache_key=f\"bsff_{game_id}\",\n",
    "            game_id=game_id,\n",
    "            start_period=1, start_range=0,\n",
    "            end_period=1, end_range=0,\n",
    "            range_type=0)\n",
    "        team_df = stats.team_stats.get_data_frame()\n",
    "        row = team_df.loc[team_df[\"teamId\"] == team_id, FEATURES]\n",
    "        # Avoid making the API mad\n",
    "        if not getattr(stats, \"_from_cache\", False):\n",
    "            time.sleep(PER_REQUEST_SLEEP)\n",
    "        return row.squeeze().astype(float)\n",
    "    \n"
   ]
  },
  {
   "cell_type": "code",
   "execution_count": 292,
   "id": "ffdc21c2",
   "metadata": {},
   "outputs": [],
   "source": [
    "def combine_rows(team_id, season, n_games):\n",
    "    ids = get_game_ids(team_id, season, n_games)\n",
    "    rows = []\n",
    "    with ThreadPoolExecutor(max_workers=MAX_THREADS) as pool:\n",
    "        futures = [pool.submit(get_features, id, team_id) for id in ids]\n",
    "        for future in as_completed(futures):\n",
    "            rows.append(future.result())\n",
    "    \n",
    "    # Return the mean features for n_games\n",
    "    return pd.concat(rows, axis=1).mean(axis=1)"
   ]
  },
  {
   "cell_type": "code",
   "execution_count": 293,
   "id": "e0ae70f0",
   "metadata": {},
   "outputs": [],
   "source": [
    "def generate_df(season, n_games):\n",
    "    records = []\n",
    "    for team in static_teams.get_teams():\n",
    "        row = combine_rows(team[\"id\"], season, n_games)\n",
    "        row[\"TEAM_NAME\"] = team[\"full_name\"]\n",
    "        row[\"TEAM_ID\"] = team[\"id\"]\n",
    "        records.append(row)\n",
    "    return pd.DataFrame(records)"
   ]
  },
  {
   "cell_type": "code",
   "execution_count": 294,
   "id": "cc954163",
   "metadata": {},
   "outputs": [],
   "source": [
    "# Get the number of wins for each team\n",
    "def get_wins(season, season_type=\"Regular Season\"):\n",
    "    df = endpoint(\n",
    "        LeagueStandingsV3,\n",
    "        cache_key=f\"stand_{season}\",\n",
    "        season=season,\n",
    "        season_type=season_type\n",
    "    ).get_data_frames()[0]\n",
    "    \n",
    "    df = df.rename(columns={\"TeamID\" : \"TEAM_ID\",\n",
    "                            \"TeamName\" : \"TEAM_NAME\",\n",
    "                            \"WINS\" : \"W\"})\n",
    "    return df.drop(columns=[\"TEAM_NAME\"])"
   ]
  },
  {
   "cell_type": "code",
   "execution_count": 295,
   "id": "0720949d",
   "metadata": {},
   "outputs": [],
   "source": [
    "def generate_season_matrix(season, n_games):\n",
    "    features = generate_df(season, n_games)\n",
    "    wins = get_wins(season)\n",
    "    df = features.merge(wins, on=\"TEAM_ID\", how=\"inner\")\n",
    "    df.dropna(subset=FEATURES, inplace=True)\n",
    "    return df\n",
    "    "
   ]
  },
  {
   "cell_type": "code",
   "execution_count": 296,
   "id": "2ac8d554",
   "metadata": {},
   "outputs": [],
   "source": [
    "# Function to fit a linear regression model to the training data\n",
    "def train_lr_model(X_train, y_train):\n",
    "    model = LinearRegression()\n",
    "    model.fit(X_train, y_train)\n",
    "    return model"
   ]
  },
  {
   "cell_type": "code",
   "execution_count": 297,
   "id": "77806a34",
   "metadata": {},
   "outputs": [],
   "source": [
    "# Function to valuate the fit of the Linear Regression model\n",
    "def evaluate_model_lr(model, X_test, y_test):\n",
    "    score = model.score(X_test, y_test)\n",
    "    print(f\"R^2 Stat on test set: {score: .4f}\")"
   ]
  },
  {
   "cell_type": "code",
   "execution_count": 298,
   "id": "c1b15c33",
   "metadata": {},
   "outputs": [],
   "source": [
    "# Plot with Plotly for interactivity\n",
    "def plotly_plot_lr(df, model_name, actual_col=\"Actual_Wins\", predicted_col=\"Predicted_Wins\"):\n",
    "    fig = px.scatter(\n",
    "        df,\n",
    "        x=actual_col,\n",
    "        y=predicted_col,\n",
    "        hover_data=[\"TEAM_NAME\"],\n",
    "        labels={actual_col: \"Actual Wins\", predicted_col: \"Predicted Wins\"},\n",
    "        title=f\"({model_name}) Actual Wins vs. Predicted Wins (Test Season: 2023-24)\"\n",
    "    )\n",
    "    \n",
    "    # Plot regression\n",
    "    min_val = min(df[actual_col].min(), df[predicted_col].min())\n",
    "    max_val = max(df[actual_col].max(), df[predicted_col].max())\n",
    "    fig.add_shape(\n",
    "        type=\"line\",\n",
    "        x0=min_val, y0=min_val, x1=max_val, y1=max_val,\n",
    "        line=dict(color=\"red\", dash=\"dash\")\n",
    "    )\n",
    "    \n",
    "    fig.show()"
   ]
  },
  {
   "cell_type": "code",
   "execution_count": 299,
   "id": "549ec4ac",
   "metadata": {},
   "outputs": [],
   "source": [
    "# Generate final team record predictions from Linear Regression Model\n",
    "def predict_final_record_lr(model, df, features=FEATURES):\n",
    "\n",
    "    X_current = df[features]\n",
    "    predicted_wins = model.predict(X_current)\n",
    "\n",
    "    results_df = pd.DataFrame({\n",
    "        \"TEAM_NAME\": df[\"TEAM_NAME\"],\n",
    "        \"Predicted_Wins\": predicted_wins\n",
    "    })\n",
    "\n",
    "    # Round prediction to nearest integer\n",
    "    results_df[\"Predicted_Wins\"] = results_df[\"Predicted_Wins\"].round().astype(int)\n",
    "    results_df[\"Predicted_Losses\"] = 82 - results_df[\"Predicted_Wins\"]\n",
    "    \n",
    "    return results_df"
   ]
  },
  {
   "cell_type": "code",
   "execution_count": 300,
   "id": "4fb2004b",
   "metadata": {},
   "outputs": [
    {
     "name": "stdout",
     "output_type": "stream",
     "text": [
      "Network Calls:  0\n",
      "R2 on 2023-2024 data: 0.76\n",
      "             TEAM_NAME  Actual_Wins  Predicted_Wins  Predicted_Losses\n",
      "        Boston Celtics           64              69                13\n",
      "        Denver Nuggets           57              60                22\n",
      " Oklahoma City Thunder           57              59                23\n",
      "Minnesota Timberwolves           56              53                29\n",
      "  Los Angeles Clippers           51              50                32\n",
      "      Dallas Mavericks           50              46                36\n",
      "       New York Knicks           50              43                39\n",
      "          Phoenix Suns           49              44                38\n",
      "       Milwaukee Bucks           49              54                28\n",
      "  New Orleans Pelicans           49              48                34\n",
      "   Cleveland Cavaliers           48              43                39\n",
      "        Indiana Pacers           47              47                35\n",
      "    Los Angeles Lakers           47              51                31\n",
      "    Philadelphia 76ers           47              70                12\n",
      "         Orlando Magic           47              37                45\n",
      " Golden State Warriors           46              52                30\n",
      "      Sacramento Kings           46              48                34\n",
      "            Miami Heat           46              48                34\n",
      "       Houston Rockets           41              40                42\n",
      "         Chicago Bulls           39              42                40\n",
      "         Atlanta Hawks           36              27                55\n",
      "         Brooklyn Nets           32              35                47\n",
      "             Utah Jazz           31              29                53\n",
      "     Memphis Grizzlies           27              34                48\n",
      "       Toronto Raptors           25              28                54\n",
      "     San Antonio Spurs           22              33                49\n",
      "Portland Trail Blazers           21              23                59\n",
      "     Charlotte Hornets           21              19                63\n",
      "    Washington Wizards           15              24                58\n",
      "       Detroit Pistons           14              12                70\n"
     ]
    }
   ],
   "source": [
    "N_GAMES = 20\n",
    "# Train Model\n",
    "train_df = generate_season_matrix(\"2022-23\", N_GAMES)\n",
    "X_train = train_df[FEATURES]\n",
    "y_train = train_df[\"W\"]\n",
    "\n",
    "model = train_lr_model(X_train, y_train)\n",
    "\n",
    "test_df = generate_season_matrix(\"2023-24\", N_GAMES)\n",
    "X_test = test_df[FEATURES]\n",
    "y_test = test_df[\"W\"]\n",
    "\n",
    "\n",
    "# Generate Predictions\n",
    "y_pred = model.predict(X_test).round()\n",
    "\n",
    "result = test_df[[\"TEAM_NAME\", \"W\"]].copy()\n",
    "result[\"Predicted_Wins\"] = y_pred.astype(int)\n",
    "result[\"Predicted_Losses\"] = 82 - result[\"Predicted_Wins\"]\n",
    "\n",
    "print(\"Network Calls: \", NETWORK_CALLS)\n",
    "# Get R^2\n",
    "r2 = model.score(X_test, y_test)\n",
    "\n",
    "print(f\"R2 on 2023-2024 data: {r2:.2f}\")\n",
    "\n",
    "# Generate plot\n",
    "#plotly_plot_lr(result, actual_col=\"W\", predicted_col=\"Predicted_Wins\")\n",
    "\n",
    "# Print chart of Predicted vs. Actual Wins\n",
    "show_df = result.rename(columns={\"W\" : \"Actual_Wins\"}).sort_values(\"Actual_Wins\", ascending=False)\n",
    "print(show_df.to_string(index=False))\n"
   ]
  },
  {
   "cell_type": "code",
   "execution_count": 301,
   "id": "46afe431",
   "metadata": {},
   "outputs": [
    {
     "data": {
      "text/plain": [
       "'def fit_model_and_evaluate(name, model, X_train, y_train, X_test, y_test):\\n    model.fit(X_train, y_train)\\n    r2 = model.score(X_test, y_test)\\n    print(f\"{name}:  R^2 Score: {r2:.3f}\")\\n    result_df = predict_final_record_lr(model, test_df)\\n    result_df[\"Actual_Wins\"] = y_test.values\\n\\n    plotly_plot_lr(result_df)\\n\\n    return model'"
      ]
     },
     "execution_count": 301,
     "metadata": {},
     "output_type": "execute_result"
    }
   ],
   "source": [
    "'''def fit_model_and_evaluate(name, model, X_train, y_train, X_test, y_test):\n",
    "    model.fit(X_train, y_train)\n",
    "    r2 = model.score(X_test, y_test)\n",
    "    print(f\"{name}:  R^2 Score: {r2:.3f}\")\n",
    "    result_df = predict_final_record_lr(model, test_df)\n",
    "    result_df[\"Actual_Wins\"] = y_test.values\n",
    "\n",
    "    plotly_plot_lr(result_df)\n",
    "    \n",
    "    return model'''"
   ]
  },
  {
   "cell_type": "code",
   "execution_count": 302,
   "id": "9b33ba35",
   "metadata": {},
   "outputs": [],
   "source": [
    "#ols = fit_model_and_evaluate(\"Linear Regression\", LinearRegression(), X_train, y_train, X_test, y_test)\n"
   ]
  },
  {
   "cell_type": "markdown",
   "id": "67559fcb",
   "metadata": {},
   "source": [
    "### Linear Model Evaluation\n",
    "It appears that, at least with a linear model, Effective Field Goal Percentage is by far the most important feature being used in the predictions, followed by Opponent Effective Field Goal Percentage. This makes sense as points scored vs points allowed would be the most directly linked variable related to the outcome of games, and efficiency in scoring and defending should make a big difference in that.\n",
    "\n",
    "The coefficients show that the features are strongly correlated with wins (with the exception of free throw rates)."
   ]
  },
  {
   "cell_type": "code",
   "execution_count": 303,
   "id": "d00b53b6",
   "metadata": {},
   "outputs": [
    {
     "name": "stdout",
     "output_type": "stream",
     "text": [
      "                            OLS Regression Results                            \n",
      "==============================================================================\n",
      "Dep. Variable:                      W   R-squared:                       0.761\n",
      "Model:                            OLS   Adj. R-squared:                  0.670\n",
      "Method:                 Least Squares   F-statistic:                     8.362\n",
      "Date:                Mon, 05 May 2025   Prob (F-statistic):           4.59e-05\n",
      "Time:                        16:12:39   Log-Likelihood:                -89.735\n",
      "No. Observations:                  30   AIC:                             197.5\n",
      "Df Residuals:                      21   BIC:                             210.1\n",
      "Df Model:                           8                                         \n",
      "Covariance Type:            nonrobust                                         \n",
      "===================================================================================================\n",
      "                                      coef    std err          t      P>|t|      [0.025      0.975]\n",
      "---------------------------------------------------------------------------------------------------\n",
      "const                              68.5264     73.328      0.935      0.361     -83.967     221.020\n",
      "effectiveFieldGoalPercentage      363.4426     85.788      4.237      0.000     185.036     541.849\n",
      "freeThrowAttemptRate               39.4908     52.236      0.756      0.458     -69.139     148.121\n",
      "teamTurnoverPercentage           -294.8676    123.479     -2.388      0.026    -551.655     -38.080\n",
      "offensiveReboundPercentage        120.7183     51.016      2.366      0.028      14.625     226.811\n",
      "oppEffectiveFieldGoalPercentage  -375.8589     74.529     -5.043      0.000    -530.851    -220.867\n",
      "oppFreeThrowAttemptRate          -110.6476     55.333     -2.000      0.059    -225.719       4.424\n",
      "oppTeamTurnoverPercentage         305.2604     89.318      3.418      0.003     119.513     491.008\n",
      "oppOffensiveReboundPercentage    -132.7997     56.868     -2.335      0.030    -251.063     -14.536\n",
      "==============================================================================\n",
      "Omnibus:                        4.884   Durbin-Watson:                   2.294\n",
      "Prob(Omnibus):                  0.087   Jarque-Bera (JB):                3.209\n",
      "Skew:                           0.680   Prob(JB):                        0.201\n",
      "Kurtosis:                       3.849   Cond. No.                         183.\n",
      "==============================================================================\n",
      "\n",
      "Notes:\n",
      "[1] Standard Errors assume that the covariance matrix of the errors is correctly specified.\n"
     ]
    }
   ],
   "source": [
    "import statsmodels.api as sm\n",
    "\n",
    "X_sm = sm.add_constant(train_df[FEATURES])\n",
    "ols = sm.OLS(train_df[\"W\"], X_sm).fit()\n",
    "print(ols.summary())\n",
    "\n"
   ]
  },
  {
   "cell_type": "code",
   "execution_count": 304,
   "id": "b24e2604",
   "metadata": {},
   "outputs": [],
   "source": [
    "\n",
    "# Generic function to fit a model, plot it, and generate a bunch of info\n",
    "def evaluate_model(name, model, X_train, y_train, X_test, y_test, test_df, plot=True):\n",
    "    model.fit(X_train, y_train)\n",
    "    \n",
    "    y_hat = model.predict(X_test)\n",
    "    \n",
    "    # Check performance on the Training data to check for overfitting\n",
    "    y_hat_train = model.predict(X_train)\n",
    "    train_r2 = r2_score(y_train, y_hat_train)\n",
    "    \n",
    "    # Model Metrics:\n",
    "    r2 = r2_score(y_test, y_hat)\n",
    "    mae = mean_absolute_error(y_test, y_hat)\n",
    "    rmse = root_mean_squared_error(y_test, y_hat)\n",
    "    medae = median_absolute_error(y_test, y_hat)\n",
    "    evs = explained_variance_score(y_test, y_hat)\n",
    "    \n",
    "    '''if plot:\n",
    "        plot_fit = predict_final_record_lr(model, test_df)\\\n",
    "            .merge(test_df[[\"TEAM_NAME\", \"W\"]], on=\"TEAM_NAME\")\\\n",
    "            .rename(columns={\"W\": \"Actual_Wins\"})\n",
    "        plotly_plot_lr(plot_fit, actual_col=\"Actual_Wins\", predicted_col=\"Predicted_Wins\")'''\n",
    "        \n",
    "    return {\n",
    "        \"Model\" : name,\n",
    "        \"Training R2\" : train_r2,\n",
    "        \"R2\" : r2,\n",
    "        \"MAE\" : mae,\n",
    "        \"RMSE\" : rmse,\n",
    "        \"MedAE\" : medae,\n",
    "        \"ExpVar\" : evs\n",
    "    }\n",
    "    "
   ]
  },
  {
   "cell_type": "code",
   "execution_count": 305,
   "id": "ed38ffd7",
   "metadata": {},
   "outputs": [],
   "source": [
    "train_seasons = [\"2018-19\", \"2019-20\", \"2020-21\", \"2021-22\", \"2022-23\"]\n",
    "test_season = \"2023-24\"\n",
    "\n",
    "def generate_multi_season_matrix(seasons=train_seasons, n_games=N_GAMES):\n",
    "    dfs = []\n",
    "    for season in seasons:\n",
    "        df_season = generate_season_matrix(season, n_games)\n",
    "        df_season[\"season\"] = season\n",
    "        dfs.append(df_season)\n",
    "    return pd.concat(dfs, ignore_index=True)\n",
    "\n",
    "multi_season_df = generate_multi_season_matrix()\n",
    "X_multi = multi_season_df[FEATURES]\n",
    "y_multi = multi_season_df[\"W\"]\n",
    "\n",
    "\n"
   ]
  },
  {
   "cell_type": "code",
   "execution_count": 306,
   "id": "19b42d87",
   "metadata": {},
   "outputs": [],
   "source": [
    "# Improved Train/Test/Validation Splitting function\n",
    "def split_data(seasons=train_seasons, test_season=\"2023-24\", val_size=0.2):\n",
    "    # Generate datasets\n",
    "    train_val_df = generate_multi_season_matrix(seasons=seasons, n_games=N_GAMES)\n",
    "    test_df = generate_season_matrix(test_season, N_GAMES)\n",
    "    \n",
    "    # Split data randomly\n",
    "    split_idx = np.random.RandomState(RANDOM_SEED).rand(len(train_val_df)) > val_size\n",
    "    train_df = train_val_df[split_idx]\n",
    "    val_df = train_val_df[~split_idx]\n",
    "    \n",
    "    # Get features and target\n",
    "    X_train = train_df[FEATURES]\n",
    "    y_train = train_df['W']\n",
    "    \n",
    "    X_val = val_df[FEATURES]\n",
    "    y_val = val_df['W']\n",
    "    \n",
    "    X_test = test_df[FEATURES]\n",
    "    \n",
    "    return (X_train, y_train), (X_val, y_val), (X_test, test_df['W']), test_df\n",
    "    \n",
    "    \n",
    "    "
   ]
  },
  {
   "cell_type": "code",
   "execution_count": 307,
   "id": "713439dd",
   "metadata": {},
   "outputs": [],
   "source": [
    "(X_train, y_train), (X_val, y_val), (X_test, test_df['W']), test_df = split_data()\n",
    "# Improved model training and evaluation function\n",
    "def fit_model_and_evaluate(name, model, X_train, y_train, X_val, y_val, X_test, y_test):\n",
    "    # Fit model\n",
    "    model.fit(X_train, y_train)\n",
    "    \n",
    "    # Get validation and test scores\n",
    "    val_score = model.score(X_val, y_val)\n",
    "    test_score = model.score(X_test, y_test)\n",
    "    \n",
    "    print(f\"{name} Scores: \")\n",
    "    print(f\"Validation R^2: {val_score:.3f}\")\n",
    "    print(f\"Test R^2: {test_score:.3f}\")\n",
    "    \n",
    "    y_pred = model.predict(X_test)\n",
    "    result_df = pd.DataFrame({\n",
    "        \"TEAM_NAME\" : test_df[\"TEAM_NAME\"],\n",
    "        \"Predicted_Wins\" :y_pred.round().astype(int),\n",
    "        \"Actual_Wins\" : y_test\n",
    "    })\n",
    "    result_df[\"Predicted_Losses\"] = 82 - result_df[\"Predicted_Wins\"]\n",
    "    plotly_plot_lr(result_df, model_name=name)\n",
    "    \n",
    "    \n",
    "    return model\n",
    "    \n",
    "    \n"
   ]
  },
  {
   "cell_type": "code",
   "execution_count": 308,
   "id": "1320dc2b",
   "metadata": {},
   "outputs": [],
   "source": [
    "# Function to rank the importance of each Feature in Linear Models\n",
    "def get_importance(model, features):\n",
    "    if hasattr(model, 'named_steps'):\n",
    "        for step_name, step in model.named_steps.items():\n",
    "            if hasattr(step, 'coef_') or hasattr(step, 'feature_importances_'):\n",
    "                model = step\n",
    "                break\n",
    "    if hasattr(model, 'coef_'):\n",
    "        importances = np.abs(model.coef_)\n",
    "    elif hasattr(model, 'feature_importances_'):\n",
    "        importances = model.feature_importances_\n",
    "    else:\n",
    "        return -1\n",
    "        \n",
    "    \n",
    "    importance_df = pd.DataFrame({\n",
    "        'feature': features,\n",
    "        'importance': importances\n",
    "    }).sort_values('importance', ascending=False)\n",
    "    \n",
    "    return importance_df\n",
    "\n"
   ]
  },
  {
   "cell_type": "markdown",
   "id": "c33f2824",
   "metadata": {},
   "source": [
    "# Linear Regression\n",
    "Now I will fit an Ordinary Least Squares Linear Regression Model and see what our baseline performance is with the features.\n",
    "\n",
    "### Measurements:\n",
    "R^2:                       0.762\n",
    "Mean Absolute Error:       4.709\n",
    "Root Mean Squared Error:   6.426\n",
    "Median Absolute Error:     3.120\n",
    "Explained Variance:        0.771\n",
    "\n",
    "### Analysis:\n",
    "R^2: of 0.762 (76.2% of the variance in NBA team wins explained by our model) is a very solid start. This suggests that the features I am working with are very good predictors of team success, even when only getting a quarter of the data.\n",
    "\n",
    "MAE: Mean absolute error of 4.71 wins per team.\n",
    "\n",
    "RMSE: 6.43, slightly higher due to a couple of outliers that were way off. i.e. 76ers predicted wins.\n",
    "\n",
    "MedAE: 3.29, 50% of predictions are within 3.12 wins.\n",
    "\n",
    "ExpVar: 0.77, checking if it was close to R^2 as it should be.\n"
   ]
  },
  {
   "cell_type": "markdown",
   "id": "1bf79136",
   "metadata": {},
   "source": [
    "# New Linear Regression"
   ]
  },
  {
   "cell_type": "code",
   "execution_count": 309,
   "id": "4e9ef63b",
   "metadata": {},
   "outputs": [
    {
     "name": "stdout",
     "output_type": "stream",
     "text": [
      "Linear Regression Scores: \n",
      "Validation R^2: 0.594\n",
      "Test R^2: 0.743\n"
     ]
    },
    {
     "data": {
      "application/vnd.plotly.v1+json": {
       "config": {
        "plotlyServerURL": "https://plot.ly"
       },
       "data": [
        {
         "customdata": [
          [
           "Atlanta Hawks"
          ],
          [
           "Boston Celtics"
          ],
          [
           "Cleveland Cavaliers"
          ],
          [
           "New Orleans Pelicans"
          ],
          [
           "Chicago Bulls"
          ],
          [
           "Dallas Mavericks"
          ],
          [
           "Denver Nuggets"
          ],
          [
           "Golden State Warriors"
          ],
          [
           "Houston Rockets"
          ],
          [
           "Los Angeles Clippers"
          ],
          [
           "Los Angeles Lakers"
          ],
          [
           "Miami Heat"
          ],
          [
           "Milwaukee Bucks"
          ],
          [
           "Minnesota Timberwolves"
          ],
          [
           "Brooklyn Nets"
          ],
          [
           "New York Knicks"
          ],
          [
           "Orlando Magic"
          ],
          [
           "Indiana Pacers"
          ],
          [
           "Philadelphia 76ers"
          ],
          [
           "Phoenix Suns"
          ],
          [
           "Portland Trail Blazers"
          ],
          [
           "Sacramento Kings"
          ],
          [
           "San Antonio Spurs"
          ],
          [
           "Oklahoma City Thunder"
          ],
          [
           "Toronto Raptors"
          ],
          [
           "Utah Jazz"
          ],
          [
           "Memphis Grizzlies"
          ],
          [
           "Washington Wizards"
          ],
          [
           "Detroit Pistons"
          ],
          [
           "Charlotte Hornets"
          ]
         ],
         "hovertemplate": "Actual Wins=%{x}<br>Predicted Wins=%{y}<br>TEAM_NAME=%{customdata[0]}<extra></extra>",
         "legendgroup": "",
         "marker": {
          "color": "#636efa",
          "symbol": "circle"
         },
         "mode": "markers",
         "name": "",
         "orientation": "v",
         "showlegend": false,
         "type": "scatter",
         "x": {
          "bdata": "JEAwMScyOS4pMy8uMTggMi8vLzEVLhY5GR8bDw4V",
          "dtype": "i1"
         },
         "xaxis": "x",
         "y": {
          "bdata": "HzcoKyonNS8oLisrMi8iKSQwOigbLB8xGxwhHRMV",
          "dtype": "i1"
         },
         "yaxis": "y"
        }
       ],
       "layout": {
        "legend": {
         "tracegroupgap": 0
        },
        "shapes": [
         {
          "line": {
           "color": "red",
           "dash": "dash"
          },
          "type": "line",
          "x0": 14,
          "x1": 64,
          "y0": 14,
          "y1": 64
         }
        ],
        "template": {
         "data": {
          "bar": [
           {
            "error_x": {
             "color": "#2a3f5f"
            },
            "error_y": {
             "color": "#2a3f5f"
            },
            "marker": {
             "line": {
              "color": "#E5ECF6",
              "width": 0.5
             },
             "pattern": {
              "fillmode": "overlay",
              "size": 10,
              "solidity": 0.2
             }
            },
            "type": "bar"
           }
          ],
          "barpolar": [
           {
            "marker": {
             "line": {
              "color": "#E5ECF6",
              "width": 0.5
             },
             "pattern": {
              "fillmode": "overlay",
              "size": 10,
              "solidity": 0.2
             }
            },
            "type": "barpolar"
           }
          ],
          "carpet": [
           {
            "aaxis": {
             "endlinecolor": "#2a3f5f",
             "gridcolor": "white",
             "linecolor": "white",
             "minorgridcolor": "white",
             "startlinecolor": "#2a3f5f"
            },
            "baxis": {
             "endlinecolor": "#2a3f5f",
             "gridcolor": "white",
             "linecolor": "white",
             "minorgridcolor": "white",
             "startlinecolor": "#2a3f5f"
            },
            "type": "carpet"
           }
          ],
          "choropleth": [
           {
            "colorbar": {
             "outlinewidth": 0,
             "ticks": ""
            },
            "type": "choropleth"
           }
          ],
          "contour": [
           {
            "colorbar": {
             "outlinewidth": 0,
             "ticks": ""
            },
            "colorscale": [
             [
              0,
              "#0d0887"
             ],
             [
              0.1111111111111111,
              "#46039f"
             ],
             [
              0.2222222222222222,
              "#7201a8"
             ],
             [
              0.3333333333333333,
              "#9c179e"
             ],
             [
              0.4444444444444444,
              "#bd3786"
             ],
             [
              0.5555555555555556,
              "#d8576b"
             ],
             [
              0.6666666666666666,
              "#ed7953"
             ],
             [
              0.7777777777777778,
              "#fb9f3a"
             ],
             [
              0.8888888888888888,
              "#fdca26"
             ],
             [
              1,
              "#f0f921"
             ]
            ],
            "type": "contour"
           }
          ],
          "contourcarpet": [
           {
            "colorbar": {
             "outlinewidth": 0,
             "ticks": ""
            },
            "type": "contourcarpet"
           }
          ],
          "heatmap": [
           {
            "colorbar": {
             "outlinewidth": 0,
             "ticks": ""
            },
            "colorscale": [
             [
              0,
              "#0d0887"
             ],
             [
              0.1111111111111111,
              "#46039f"
             ],
             [
              0.2222222222222222,
              "#7201a8"
             ],
             [
              0.3333333333333333,
              "#9c179e"
             ],
             [
              0.4444444444444444,
              "#bd3786"
             ],
             [
              0.5555555555555556,
              "#d8576b"
             ],
             [
              0.6666666666666666,
              "#ed7953"
             ],
             [
              0.7777777777777778,
              "#fb9f3a"
             ],
             [
              0.8888888888888888,
              "#fdca26"
             ],
             [
              1,
              "#f0f921"
             ]
            ],
            "type": "heatmap"
           }
          ],
          "histogram": [
           {
            "marker": {
             "pattern": {
              "fillmode": "overlay",
              "size": 10,
              "solidity": 0.2
             }
            },
            "type": "histogram"
           }
          ],
          "histogram2d": [
           {
            "colorbar": {
             "outlinewidth": 0,
             "ticks": ""
            },
            "colorscale": [
             [
              0,
              "#0d0887"
             ],
             [
              0.1111111111111111,
              "#46039f"
             ],
             [
              0.2222222222222222,
              "#7201a8"
             ],
             [
              0.3333333333333333,
              "#9c179e"
             ],
             [
              0.4444444444444444,
              "#bd3786"
             ],
             [
              0.5555555555555556,
              "#d8576b"
             ],
             [
              0.6666666666666666,
              "#ed7953"
             ],
             [
              0.7777777777777778,
              "#fb9f3a"
             ],
             [
              0.8888888888888888,
              "#fdca26"
             ],
             [
              1,
              "#f0f921"
             ]
            ],
            "type": "histogram2d"
           }
          ],
          "histogram2dcontour": [
           {
            "colorbar": {
             "outlinewidth": 0,
             "ticks": ""
            },
            "colorscale": [
             [
              0,
              "#0d0887"
             ],
             [
              0.1111111111111111,
              "#46039f"
             ],
             [
              0.2222222222222222,
              "#7201a8"
             ],
             [
              0.3333333333333333,
              "#9c179e"
             ],
             [
              0.4444444444444444,
              "#bd3786"
             ],
             [
              0.5555555555555556,
              "#d8576b"
             ],
             [
              0.6666666666666666,
              "#ed7953"
             ],
             [
              0.7777777777777778,
              "#fb9f3a"
             ],
             [
              0.8888888888888888,
              "#fdca26"
             ],
             [
              1,
              "#f0f921"
             ]
            ],
            "type": "histogram2dcontour"
           }
          ],
          "mesh3d": [
           {
            "colorbar": {
             "outlinewidth": 0,
             "ticks": ""
            },
            "type": "mesh3d"
           }
          ],
          "parcoords": [
           {
            "line": {
             "colorbar": {
              "outlinewidth": 0,
              "ticks": ""
             }
            },
            "type": "parcoords"
           }
          ],
          "pie": [
           {
            "automargin": true,
            "type": "pie"
           }
          ],
          "scatter": [
           {
            "fillpattern": {
             "fillmode": "overlay",
             "size": 10,
             "solidity": 0.2
            },
            "type": "scatter"
           }
          ],
          "scatter3d": [
           {
            "line": {
             "colorbar": {
              "outlinewidth": 0,
              "ticks": ""
             }
            },
            "marker": {
             "colorbar": {
              "outlinewidth": 0,
              "ticks": ""
             }
            },
            "type": "scatter3d"
           }
          ],
          "scattercarpet": [
           {
            "marker": {
             "colorbar": {
              "outlinewidth": 0,
              "ticks": ""
             }
            },
            "type": "scattercarpet"
           }
          ],
          "scattergeo": [
           {
            "marker": {
             "colorbar": {
              "outlinewidth": 0,
              "ticks": ""
             }
            },
            "type": "scattergeo"
           }
          ],
          "scattergl": [
           {
            "marker": {
             "colorbar": {
              "outlinewidth": 0,
              "ticks": ""
             }
            },
            "type": "scattergl"
           }
          ],
          "scattermap": [
           {
            "marker": {
             "colorbar": {
              "outlinewidth": 0,
              "ticks": ""
             }
            },
            "type": "scattermap"
           }
          ],
          "scattermapbox": [
           {
            "marker": {
             "colorbar": {
              "outlinewidth": 0,
              "ticks": ""
             }
            },
            "type": "scattermapbox"
           }
          ],
          "scatterpolar": [
           {
            "marker": {
             "colorbar": {
              "outlinewidth": 0,
              "ticks": ""
             }
            },
            "type": "scatterpolar"
           }
          ],
          "scatterpolargl": [
           {
            "marker": {
             "colorbar": {
              "outlinewidth": 0,
              "ticks": ""
             }
            },
            "type": "scatterpolargl"
           }
          ],
          "scatterternary": [
           {
            "marker": {
             "colorbar": {
              "outlinewidth": 0,
              "ticks": ""
             }
            },
            "type": "scatterternary"
           }
          ],
          "surface": [
           {
            "colorbar": {
             "outlinewidth": 0,
             "ticks": ""
            },
            "colorscale": [
             [
              0,
              "#0d0887"
             ],
             [
              0.1111111111111111,
              "#46039f"
             ],
             [
              0.2222222222222222,
              "#7201a8"
             ],
             [
              0.3333333333333333,
              "#9c179e"
             ],
             [
              0.4444444444444444,
              "#bd3786"
             ],
             [
              0.5555555555555556,
              "#d8576b"
             ],
             [
              0.6666666666666666,
              "#ed7953"
             ],
             [
              0.7777777777777778,
              "#fb9f3a"
             ],
             [
              0.8888888888888888,
              "#fdca26"
             ],
             [
              1,
              "#f0f921"
             ]
            ],
            "type": "surface"
           }
          ],
          "table": [
           {
            "cells": {
             "fill": {
              "color": "#EBF0F8"
             },
             "line": {
              "color": "white"
             }
            },
            "header": {
             "fill": {
              "color": "#C8D4E3"
             },
             "line": {
              "color": "white"
             }
            },
            "type": "table"
           }
          ]
         },
         "layout": {
          "annotationdefaults": {
           "arrowcolor": "#2a3f5f",
           "arrowhead": 0,
           "arrowwidth": 1
          },
          "autotypenumbers": "strict",
          "coloraxis": {
           "colorbar": {
            "outlinewidth": 0,
            "ticks": ""
           }
          },
          "colorscale": {
           "diverging": [
            [
             0,
             "#8e0152"
            ],
            [
             0.1,
             "#c51b7d"
            ],
            [
             0.2,
             "#de77ae"
            ],
            [
             0.3,
             "#f1b6da"
            ],
            [
             0.4,
             "#fde0ef"
            ],
            [
             0.5,
             "#f7f7f7"
            ],
            [
             0.6,
             "#e6f5d0"
            ],
            [
             0.7,
             "#b8e186"
            ],
            [
             0.8,
             "#7fbc41"
            ],
            [
             0.9,
             "#4d9221"
            ],
            [
             1,
             "#276419"
            ]
           ],
           "sequential": [
            [
             0,
             "#0d0887"
            ],
            [
             0.1111111111111111,
             "#46039f"
            ],
            [
             0.2222222222222222,
             "#7201a8"
            ],
            [
             0.3333333333333333,
             "#9c179e"
            ],
            [
             0.4444444444444444,
             "#bd3786"
            ],
            [
             0.5555555555555556,
             "#d8576b"
            ],
            [
             0.6666666666666666,
             "#ed7953"
            ],
            [
             0.7777777777777778,
             "#fb9f3a"
            ],
            [
             0.8888888888888888,
             "#fdca26"
            ],
            [
             1,
             "#f0f921"
            ]
           ],
           "sequentialminus": [
            [
             0,
             "#0d0887"
            ],
            [
             0.1111111111111111,
             "#46039f"
            ],
            [
             0.2222222222222222,
             "#7201a8"
            ],
            [
             0.3333333333333333,
             "#9c179e"
            ],
            [
             0.4444444444444444,
             "#bd3786"
            ],
            [
             0.5555555555555556,
             "#d8576b"
            ],
            [
             0.6666666666666666,
             "#ed7953"
            ],
            [
             0.7777777777777778,
             "#fb9f3a"
            ],
            [
             0.8888888888888888,
             "#fdca26"
            ],
            [
             1,
             "#f0f921"
            ]
           ]
          },
          "colorway": [
           "#636efa",
           "#EF553B",
           "#00cc96",
           "#ab63fa",
           "#FFA15A",
           "#19d3f3",
           "#FF6692",
           "#B6E880",
           "#FF97FF",
           "#FECB52"
          ],
          "font": {
           "color": "#2a3f5f"
          },
          "geo": {
           "bgcolor": "white",
           "lakecolor": "white",
           "landcolor": "#E5ECF6",
           "showlakes": true,
           "showland": true,
           "subunitcolor": "white"
          },
          "hoverlabel": {
           "align": "left"
          },
          "hovermode": "closest",
          "mapbox": {
           "style": "light"
          },
          "paper_bgcolor": "white",
          "plot_bgcolor": "#E5ECF6",
          "polar": {
           "angularaxis": {
            "gridcolor": "white",
            "linecolor": "white",
            "ticks": ""
           },
           "bgcolor": "#E5ECF6",
           "radialaxis": {
            "gridcolor": "white",
            "linecolor": "white",
            "ticks": ""
           }
          },
          "scene": {
           "xaxis": {
            "backgroundcolor": "#E5ECF6",
            "gridcolor": "white",
            "gridwidth": 2,
            "linecolor": "white",
            "showbackground": true,
            "ticks": "",
            "zerolinecolor": "white"
           },
           "yaxis": {
            "backgroundcolor": "#E5ECF6",
            "gridcolor": "white",
            "gridwidth": 2,
            "linecolor": "white",
            "showbackground": true,
            "ticks": "",
            "zerolinecolor": "white"
           },
           "zaxis": {
            "backgroundcolor": "#E5ECF6",
            "gridcolor": "white",
            "gridwidth": 2,
            "linecolor": "white",
            "showbackground": true,
            "ticks": "",
            "zerolinecolor": "white"
           }
          },
          "shapedefaults": {
           "line": {
            "color": "#2a3f5f"
           }
          },
          "ternary": {
           "aaxis": {
            "gridcolor": "white",
            "linecolor": "white",
            "ticks": ""
           },
           "baxis": {
            "gridcolor": "white",
            "linecolor": "white",
            "ticks": ""
           },
           "bgcolor": "#E5ECF6",
           "caxis": {
            "gridcolor": "white",
            "linecolor": "white",
            "ticks": ""
           }
          },
          "title": {
           "x": 0.05
          },
          "xaxis": {
           "automargin": true,
           "gridcolor": "white",
           "linecolor": "white",
           "ticks": "",
           "title": {
            "standoff": 15
           },
           "zerolinecolor": "white",
           "zerolinewidth": 2
          },
          "yaxis": {
           "automargin": true,
           "gridcolor": "white",
           "linecolor": "white",
           "ticks": "",
           "title": {
            "standoff": 15
           },
           "zerolinecolor": "white",
           "zerolinewidth": 2
          }
         }
        },
        "title": {
         "text": "(Linear Regression) Actual Wins vs. Predicted Wins (Test Season: 2023-24)"
        },
        "xaxis": {
         "anchor": "y",
         "domain": [
          0,
          1
         ],
         "title": {
          "text": "Actual Wins"
         }
        },
        "yaxis": {
         "anchor": "x",
         "domain": [
          0,
          1
         ],
         "title": {
          "text": "Predicted Wins"
         }
        }
       }
      }
     },
     "metadata": {},
     "output_type": "display_data"
    },
    {
     "name": "stdout",
     "output_type": "stream",
     "text": [
      "                           feature  importance\n",
      "0     effectiveFieldGoalPercentage    5.646507\n",
      "4  oppEffectiveFieldGoalPercentage    4.898163\n",
      "2           teamTurnoverPercentage    2.866725\n",
      "3       offensiveReboundPercentage    2.397702\n",
      "6        oppTeamTurnoverPercentage    1.846628\n",
      "7    oppOffensiveReboundPercentage    1.804693\n",
      "1             freeThrowAttemptRate    0.667044\n",
      "5          oppFreeThrowAttemptRate    0.126075\n"
     ]
    }
   ],
   "source": [
    "from sklearn.linear_model import RidgeCV\n",
    "from sklearn.preprocessing import StandardScaler\n",
    "\n",
    "# Generate our Linear Regression Model\n",
    "'''lr_pipe = make_pipeline(StandardScaler(), LinearRegression())\n",
    "lr_model = evaluate_model(\"Linear Regression\", lr_pipe, X_train, y_train, X_test, y_test, test_df)\n",
    "display(lr_model)'''\n",
    "\n",
    "lr = make_pipeline(StandardScaler(), LinearRegression())\n",
    "lr_model = fit_model_and_evaluate(\"Linear Regression\", lr, X_train, y_train, X_val, y_val, X_test, y_test=test_df['W'])\n",
    "lr_importance = get_importance(lr_model, FEATURES)\n",
    "print(lr_importance)\n"
   ]
  },
  {
   "cell_type": "markdown",
   "id": "29f2ad57",
   "metadata": {},
   "source": [
    "# Ridge Regression\n",
    "Now I will fit a Ridge Regression model to compare to the OLS model. This will standardize the features and correct for large amounts of colinearity.\n",
    "\n",
    "### Measurements:\n",
    "R^2:                       0.767\n",
    "Mean Absolute Error:       4.581\n",
    "Root Mean Squared Error:   6.3668\n",
    "Median Absolute Error:     3.288\n",
    "Explained Variance:        0.775\n",
    "\n",
    "### Analysis:\n",
    "R^2: of 0.767 (76.7% of the variance in NBA team wins explained by our model) is slightly higher than the OLS Linear Regression Model. This suggests that the regularization and alphas made a small positive impact on the accuracy of the model.\n",
    "\n",
    "MAE: Mean absolute error of 4.6 wins per team.\n",
    "\n",
    "RMSE: 6.37, slightly higher due to a couple of outliers that were way off. i.e. 76ers predicted wins.\n",
    "\n",
    "MedAE: 3.29, 50% of predictions are within 3.29 wins (a slightly wider margin than the OLS model).\n",
    "\n",
    "ExpVar: 0.77, checking if it was close to R^2 as it should be.\n",
    "\n"
   ]
  },
  {
   "cell_type": "code",
   "execution_count": 310,
   "id": "5374b425",
   "metadata": {},
   "outputs": [
    {
     "data": {
      "text/plain": [
       "{'Model': 'Ridge Regression',\n",
       " 'Training R2': 0.5637603520720336,\n",
       " 'R2': 0.725161531071632,\n",
       " 'MAE': 5.779859670966304,\n",
       " 'RMSE': 6.912687499398884,\n",
       " 'MedAE': np.float64(5.651379249580151),\n",
       " 'ExpVar': 0.7404292937692285}"
      ]
     },
     "metadata": {},
     "output_type": "display_data"
    }
   ],
   "source": [
    "alphas = np.logspace(-4, 2, 50)\n",
    "\n",
    "\n",
    "# Generate our Ridge Regression model, find the best alpha\n",
    "ridge_pipe = make_pipeline(StandardScaler(), RidgeCV(alphas=alphas, cv=5))\n",
    "ridge = evaluate_model(\"Ridge Regression\", ridge_pipe, X_train, y_train, X_test, y_test, test_df)\n",
    "display(ridge)"
   ]
  },
  {
   "cell_type": "markdown",
   "id": "07778300",
   "metadata": {},
   "source": [
    "# New Ridge Regression Implementation w/ Multi Season and Scaling"
   ]
  },
  {
   "cell_type": "code",
   "execution_count": 311,
   "id": "2c756c34",
   "metadata": {},
   "outputs": [
    {
     "name": "stdout",
     "output_type": "stream",
     "text": [
      "Ridge Regression Scores: \n",
      "Validation R^2: 0.596\n",
      "Test R^2: 0.725\n"
     ]
    },
    {
     "data": {
      "application/vnd.plotly.v1+json": {
       "config": {
        "plotlyServerURL": "https://plot.ly"
       },
       "data": [
        {
         "customdata": [
          [
           "Atlanta Hawks"
          ],
          [
           "Boston Celtics"
          ],
          [
           "Cleveland Cavaliers"
          ],
          [
           "New Orleans Pelicans"
          ],
          [
           "Chicago Bulls"
          ],
          [
           "Dallas Mavericks"
          ],
          [
           "Denver Nuggets"
          ],
          [
           "Golden State Warriors"
          ],
          [
           "Houston Rockets"
          ],
          [
           "Los Angeles Clippers"
          ],
          [
           "Los Angeles Lakers"
          ],
          [
           "Miami Heat"
          ],
          [
           "Milwaukee Bucks"
          ],
          [
           "Minnesota Timberwolves"
          ],
          [
           "Brooklyn Nets"
          ],
          [
           "New York Knicks"
          ],
          [
           "Orlando Magic"
          ],
          [
           "Indiana Pacers"
          ],
          [
           "Philadelphia 76ers"
          ],
          [
           "Phoenix Suns"
          ],
          [
           "Portland Trail Blazers"
          ],
          [
           "Sacramento Kings"
          ],
          [
           "San Antonio Spurs"
          ],
          [
           "Oklahoma City Thunder"
          ],
          [
           "Toronto Raptors"
          ],
          [
           "Utah Jazz"
          ],
          [
           "Memphis Grizzlies"
          ],
          [
           "Washington Wizards"
          ],
          [
           "Detroit Pistons"
          ],
          [
           "Charlotte Hornets"
          ]
         ],
         "hovertemplate": "Actual Wins=%{x}<br>Predicted Wins=%{y}<br>TEAM_NAME=%{customdata[0]}<extra></extra>",
         "legendgroup": "",
         "marker": {
          "color": "#636efa",
          "symbol": "circle"
         },
         "mode": "markers",
         "name": "",
         "orientation": "v",
         "showlegend": false,
         "type": "scatter",
         "x": {
          "bdata": "JEAwMScyOS4pMy8uMTggMi8vLzEVLhY5GR8bDw4V",
          "dtype": "i1"
         },
         "xaxis": "x",
         "y": {
          "bdata": "HzYoKiknNS8oLisrMS4iKSQwOSgbLCAxGxwhHRQX",
          "dtype": "i1"
         },
         "yaxis": "y"
        }
       ],
       "layout": {
        "legend": {
         "tracegroupgap": 0
        },
        "shapes": [
         {
          "line": {
           "color": "red",
           "dash": "dash"
          },
          "type": "line",
          "x0": 14,
          "x1": 64,
          "y0": 14,
          "y1": 64
         }
        ],
        "template": {
         "data": {
          "bar": [
           {
            "error_x": {
             "color": "#2a3f5f"
            },
            "error_y": {
             "color": "#2a3f5f"
            },
            "marker": {
             "line": {
              "color": "#E5ECF6",
              "width": 0.5
             },
             "pattern": {
              "fillmode": "overlay",
              "size": 10,
              "solidity": 0.2
             }
            },
            "type": "bar"
           }
          ],
          "barpolar": [
           {
            "marker": {
             "line": {
              "color": "#E5ECF6",
              "width": 0.5
             },
             "pattern": {
              "fillmode": "overlay",
              "size": 10,
              "solidity": 0.2
             }
            },
            "type": "barpolar"
           }
          ],
          "carpet": [
           {
            "aaxis": {
             "endlinecolor": "#2a3f5f",
             "gridcolor": "white",
             "linecolor": "white",
             "minorgridcolor": "white",
             "startlinecolor": "#2a3f5f"
            },
            "baxis": {
             "endlinecolor": "#2a3f5f",
             "gridcolor": "white",
             "linecolor": "white",
             "minorgridcolor": "white",
             "startlinecolor": "#2a3f5f"
            },
            "type": "carpet"
           }
          ],
          "choropleth": [
           {
            "colorbar": {
             "outlinewidth": 0,
             "ticks": ""
            },
            "type": "choropleth"
           }
          ],
          "contour": [
           {
            "colorbar": {
             "outlinewidth": 0,
             "ticks": ""
            },
            "colorscale": [
             [
              0,
              "#0d0887"
             ],
             [
              0.1111111111111111,
              "#46039f"
             ],
             [
              0.2222222222222222,
              "#7201a8"
             ],
             [
              0.3333333333333333,
              "#9c179e"
             ],
             [
              0.4444444444444444,
              "#bd3786"
             ],
             [
              0.5555555555555556,
              "#d8576b"
             ],
             [
              0.6666666666666666,
              "#ed7953"
             ],
             [
              0.7777777777777778,
              "#fb9f3a"
             ],
             [
              0.8888888888888888,
              "#fdca26"
             ],
             [
              1,
              "#f0f921"
             ]
            ],
            "type": "contour"
           }
          ],
          "contourcarpet": [
           {
            "colorbar": {
             "outlinewidth": 0,
             "ticks": ""
            },
            "type": "contourcarpet"
           }
          ],
          "heatmap": [
           {
            "colorbar": {
             "outlinewidth": 0,
             "ticks": ""
            },
            "colorscale": [
             [
              0,
              "#0d0887"
             ],
             [
              0.1111111111111111,
              "#46039f"
             ],
             [
              0.2222222222222222,
              "#7201a8"
             ],
             [
              0.3333333333333333,
              "#9c179e"
             ],
             [
              0.4444444444444444,
              "#bd3786"
             ],
             [
              0.5555555555555556,
              "#d8576b"
             ],
             [
              0.6666666666666666,
              "#ed7953"
             ],
             [
              0.7777777777777778,
              "#fb9f3a"
             ],
             [
              0.8888888888888888,
              "#fdca26"
             ],
             [
              1,
              "#f0f921"
             ]
            ],
            "type": "heatmap"
           }
          ],
          "histogram": [
           {
            "marker": {
             "pattern": {
              "fillmode": "overlay",
              "size": 10,
              "solidity": 0.2
             }
            },
            "type": "histogram"
           }
          ],
          "histogram2d": [
           {
            "colorbar": {
             "outlinewidth": 0,
             "ticks": ""
            },
            "colorscale": [
             [
              0,
              "#0d0887"
             ],
             [
              0.1111111111111111,
              "#46039f"
             ],
             [
              0.2222222222222222,
              "#7201a8"
             ],
             [
              0.3333333333333333,
              "#9c179e"
             ],
             [
              0.4444444444444444,
              "#bd3786"
             ],
             [
              0.5555555555555556,
              "#d8576b"
             ],
             [
              0.6666666666666666,
              "#ed7953"
             ],
             [
              0.7777777777777778,
              "#fb9f3a"
             ],
             [
              0.8888888888888888,
              "#fdca26"
             ],
             [
              1,
              "#f0f921"
             ]
            ],
            "type": "histogram2d"
           }
          ],
          "histogram2dcontour": [
           {
            "colorbar": {
             "outlinewidth": 0,
             "ticks": ""
            },
            "colorscale": [
             [
              0,
              "#0d0887"
             ],
             [
              0.1111111111111111,
              "#46039f"
             ],
             [
              0.2222222222222222,
              "#7201a8"
             ],
             [
              0.3333333333333333,
              "#9c179e"
             ],
             [
              0.4444444444444444,
              "#bd3786"
             ],
             [
              0.5555555555555556,
              "#d8576b"
             ],
             [
              0.6666666666666666,
              "#ed7953"
             ],
             [
              0.7777777777777778,
              "#fb9f3a"
             ],
             [
              0.8888888888888888,
              "#fdca26"
             ],
             [
              1,
              "#f0f921"
             ]
            ],
            "type": "histogram2dcontour"
           }
          ],
          "mesh3d": [
           {
            "colorbar": {
             "outlinewidth": 0,
             "ticks": ""
            },
            "type": "mesh3d"
           }
          ],
          "parcoords": [
           {
            "line": {
             "colorbar": {
              "outlinewidth": 0,
              "ticks": ""
             }
            },
            "type": "parcoords"
           }
          ],
          "pie": [
           {
            "automargin": true,
            "type": "pie"
           }
          ],
          "scatter": [
           {
            "fillpattern": {
             "fillmode": "overlay",
             "size": 10,
             "solidity": 0.2
            },
            "type": "scatter"
           }
          ],
          "scatter3d": [
           {
            "line": {
             "colorbar": {
              "outlinewidth": 0,
              "ticks": ""
             }
            },
            "marker": {
             "colorbar": {
              "outlinewidth": 0,
              "ticks": ""
             }
            },
            "type": "scatter3d"
           }
          ],
          "scattercarpet": [
           {
            "marker": {
             "colorbar": {
              "outlinewidth": 0,
              "ticks": ""
             }
            },
            "type": "scattercarpet"
           }
          ],
          "scattergeo": [
           {
            "marker": {
             "colorbar": {
              "outlinewidth": 0,
              "ticks": ""
             }
            },
            "type": "scattergeo"
           }
          ],
          "scattergl": [
           {
            "marker": {
             "colorbar": {
              "outlinewidth": 0,
              "ticks": ""
             }
            },
            "type": "scattergl"
           }
          ],
          "scattermap": [
           {
            "marker": {
             "colorbar": {
              "outlinewidth": 0,
              "ticks": ""
             }
            },
            "type": "scattermap"
           }
          ],
          "scattermapbox": [
           {
            "marker": {
             "colorbar": {
              "outlinewidth": 0,
              "ticks": ""
             }
            },
            "type": "scattermapbox"
           }
          ],
          "scatterpolar": [
           {
            "marker": {
             "colorbar": {
              "outlinewidth": 0,
              "ticks": ""
             }
            },
            "type": "scatterpolar"
           }
          ],
          "scatterpolargl": [
           {
            "marker": {
             "colorbar": {
              "outlinewidth": 0,
              "ticks": ""
             }
            },
            "type": "scatterpolargl"
           }
          ],
          "scatterternary": [
           {
            "marker": {
             "colorbar": {
              "outlinewidth": 0,
              "ticks": ""
             }
            },
            "type": "scatterternary"
           }
          ],
          "surface": [
           {
            "colorbar": {
             "outlinewidth": 0,
             "ticks": ""
            },
            "colorscale": [
             [
              0,
              "#0d0887"
             ],
             [
              0.1111111111111111,
              "#46039f"
             ],
             [
              0.2222222222222222,
              "#7201a8"
             ],
             [
              0.3333333333333333,
              "#9c179e"
             ],
             [
              0.4444444444444444,
              "#bd3786"
             ],
             [
              0.5555555555555556,
              "#d8576b"
             ],
             [
              0.6666666666666666,
              "#ed7953"
             ],
             [
              0.7777777777777778,
              "#fb9f3a"
             ],
             [
              0.8888888888888888,
              "#fdca26"
             ],
             [
              1,
              "#f0f921"
             ]
            ],
            "type": "surface"
           }
          ],
          "table": [
           {
            "cells": {
             "fill": {
              "color": "#EBF0F8"
             },
             "line": {
              "color": "white"
             }
            },
            "header": {
             "fill": {
              "color": "#C8D4E3"
             },
             "line": {
              "color": "white"
             }
            },
            "type": "table"
           }
          ]
         },
         "layout": {
          "annotationdefaults": {
           "arrowcolor": "#2a3f5f",
           "arrowhead": 0,
           "arrowwidth": 1
          },
          "autotypenumbers": "strict",
          "coloraxis": {
           "colorbar": {
            "outlinewidth": 0,
            "ticks": ""
           }
          },
          "colorscale": {
           "diverging": [
            [
             0,
             "#8e0152"
            ],
            [
             0.1,
             "#c51b7d"
            ],
            [
             0.2,
             "#de77ae"
            ],
            [
             0.3,
             "#f1b6da"
            ],
            [
             0.4,
             "#fde0ef"
            ],
            [
             0.5,
             "#f7f7f7"
            ],
            [
             0.6,
             "#e6f5d0"
            ],
            [
             0.7,
             "#b8e186"
            ],
            [
             0.8,
             "#7fbc41"
            ],
            [
             0.9,
             "#4d9221"
            ],
            [
             1,
             "#276419"
            ]
           ],
           "sequential": [
            [
             0,
             "#0d0887"
            ],
            [
             0.1111111111111111,
             "#46039f"
            ],
            [
             0.2222222222222222,
             "#7201a8"
            ],
            [
             0.3333333333333333,
             "#9c179e"
            ],
            [
             0.4444444444444444,
             "#bd3786"
            ],
            [
             0.5555555555555556,
             "#d8576b"
            ],
            [
             0.6666666666666666,
             "#ed7953"
            ],
            [
             0.7777777777777778,
             "#fb9f3a"
            ],
            [
             0.8888888888888888,
             "#fdca26"
            ],
            [
             1,
             "#f0f921"
            ]
           ],
           "sequentialminus": [
            [
             0,
             "#0d0887"
            ],
            [
             0.1111111111111111,
             "#46039f"
            ],
            [
             0.2222222222222222,
             "#7201a8"
            ],
            [
             0.3333333333333333,
             "#9c179e"
            ],
            [
             0.4444444444444444,
             "#bd3786"
            ],
            [
             0.5555555555555556,
             "#d8576b"
            ],
            [
             0.6666666666666666,
             "#ed7953"
            ],
            [
             0.7777777777777778,
             "#fb9f3a"
            ],
            [
             0.8888888888888888,
             "#fdca26"
            ],
            [
             1,
             "#f0f921"
            ]
           ]
          },
          "colorway": [
           "#636efa",
           "#EF553B",
           "#00cc96",
           "#ab63fa",
           "#FFA15A",
           "#19d3f3",
           "#FF6692",
           "#B6E880",
           "#FF97FF",
           "#FECB52"
          ],
          "font": {
           "color": "#2a3f5f"
          },
          "geo": {
           "bgcolor": "white",
           "lakecolor": "white",
           "landcolor": "#E5ECF6",
           "showlakes": true,
           "showland": true,
           "subunitcolor": "white"
          },
          "hoverlabel": {
           "align": "left"
          },
          "hovermode": "closest",
          "mapbox": {
           "style": "light"
          },
          "paper_bgcolor": "white",
          "plot_bgcolor": "#E5ECF6",
          "polar": {
           "angularaxis": {
            "gridcolor": "white",
            "linecolor": "white",
            "ticks": ""
           },
           "bgcolor": "#E5ECF6",
           "radialaxis": {
            "gridcolor": "white",
            "linecolor": "white",
            "ticks": ""
           }
          },
          "scene": {
           "xaxis": {
            "backgroundcolor": "#E5ECF6",
            "gridcolor": "white",
            "gridwidth": 2,
            "linecolor": "white",
            "showbackground": true,
            "ticks": "",
            "zerolinecolor": "white"
           },
           "yaxis": {
            "backgroundcolor": "#E5ECF6",
            "gridcolor": "white",
            "gridwidth": 2,
            "linecolor": "white",
            "showbackground": true,
            "ticks": "",
            "zerolinecolor": "white"
           },
           "zaxis": {
            "backgroundcolor": "#E5ECF6",
            "gridcolor": "white",
            "gridwidth": 2,
            "linecolor": "white",
            "showbackground": true,
            "ticks": "",
            "zerolinecolor": "white"
           }
          },
          "shapedefaults": {
           "line": {
            "color": "#2a3f5f"
           }
          },
          "ternary": {
           "aaxis": {
            "gridcolor": "white",
            "linecolor": "white",
            "ticks": ""
           },
           "baxis": {
            "gridcolor": "white",
            "linecolor": "white",
            "ticks": ""
           },
           "bgcolor": "#E5ECF6",
           "caxis": {
            "gridcolor": "white",
            "linecolor": "white",
            "ticks": ""
           }
          },
          "title": {
           "x": 0.05
          },
          "xaxis": {
           "automargin": true,
           "gridcolor": "white",
           "linecolor": "white",
           "ticks": "",
           "title": {
            "standoff": 15
           },
           "zerolinecolor": "white",
           "zerolinewidth": 2
          },
          "yaxis": {
           "automargin": true,
           "gridcolor": "white",
           "linecolor": "white",
           "ticks": "",
           "title": {
            "standoff": 15
           },
           "zerolinecolor": "white",
           "zerolinewidth": 2
          }
         }
        },
        "title": {
         "text": "(Ridge Regression) Actual Wins vs. Predicted Wins (Test Season: 2023-24)"
        },
        "xaxis": {
         "anchor": "y",
         "domain": [
          0,
          1
         ],
         "title": {
          "text": "Actual Wins"
         }
        },
        "yaxis": {
         "anchor": "x",
         "domain": [
          0,
          1
         ],
         "title": {
          "text": "Predicted Wins"
         }
        }
       }
      }
     },
     "metadata": {},
     "output_type": "display_data"
    },
    {
     "name": "stdout",
     "output_type": "stream",
     "text": [
      "\n",
      "Ridge Regression Feature Importance Breakdown:\n",
      "                           feature  importance\n",
      "0     effectiveFieldGoalPercentage    5.344847\n",
      "4  oppEffectiveFieldGoalPercentage    4.677284\n",
      "2           teamTurnoverPercentage    2.646079\n",
      "3       offensiveReboundPercentage    2.166186\n",
      "7    oppOffensiveReboundPercentage    1.721174\n",
      "6        oppTeamTurnoverPercentage    1.690791\n",
      "1             freeThrowAttemptRate    0.589963\n",
      "5          oppFreeThrowAttemptRate    0.105987\n"
     ]
    }
   ],
   "source": [
    "ridge = make_pipeline(StandardScaler(), RidgeCV(alphas=np.logspace(-4, 2, 50), cv=5))\n",
    "ridge_model = fit_model_and_evaluate(\"Ridge Regression\", ridge, X_train, y_train, X_val, y_val, X_test, y_test=test_df['W'])\n",
    "print(\"\\nRidge Regression Feature Importance Breakdown:\")\n",
    "print(get_importance(ridge_model, FEATURES))"
   ]
  },
  {
   "cell_type": "markdown",
   "id": "61c71777",
   "metadata": {},
   "source": [
    "Ridge Regression Results:\n",
    "Model Metrics:\n",
    "\n"
   ]
  },
  {
   "cell_type": "markdown",
   "id": "30335372",
   "metadata": {},
   "source": [
    "# Lasso Regression:"
   ]
  },
  {
   "cell_type": "code",
   "execution_count": 312,
   "id": "dfb192aa",
   "metadata": {},
   "outputs": [
    {
     "name": "stdout",
     "output_type": "stream",
     "text": [
      "Lasso Scores: \n",
      "Validation R^2: 0.590\n",
      "Test R^2: 0.714\n"
     ]
    },
    {
     "data": {
      "application/vnd.plotly.v1+json": {
       "config": {
        "plotlyServerURL": "https://plot.ly"
       },
       "data": [
        {
         "customdata": [
          [
           "Atlanta Hawks"
          ],
          [
           "Boston Celtics"
          ],
          [
           "Cleveland Cavaliers"
          ],
          [
           "New Orleans Pelicans"
          ],
          [
           "Chicago Bulls"
          ],
          [
           "Dallas Mavericks"
          ],
          [
           "Denver Nuggets"
          ],
          [
           "Golden State Warriors"
          ],
          [
           "Houston Rockets"
          ],
          [
           "Los Angeles Clippers"
          ],
          [
           "Los Angeles Lakers"
          ],
          [
           "Miami Heat"
          ],
          [
           "Milwaukee Bucks"
          ],
          [
           "Minnesota Timberwolves"
          ],
          [
           "Brooklyn Nets"
          ],
          [
           "New York Knicks"
          ],
          [
           "Orlando Magic"
          ],
          [
           "Indiana Pacers"
          ],
          [
           "Philadelphia 76ers"
          ],
          [
           "Phoenix Suns"
          ],
          [
           "Portland Trail Blazers"
          ],
          [
           "Sacramento Kings"
          ],
          [
           "San Antonio Spurs"
          ],
          [
           "Oklahoma City Thunder"
          ],
          [
           "Toronto Raptors"
          ],
          [
           "Utah Jazz"
          ],
          [
           "Memphis Grizzlies"
          ],
          [
           "Washington Wizards"
          ],
          [
           "Detroit Pistons"
          ],
          [
           "Charlotte Hornets"
          ]
         ],
         "hovertemplate": "Actual Wins=%{x}<br>Predicted Wins=%{y}<br>TEAM_NAME=%{customdata[0]}<extra></extra>",
         "legendgroup": "",
         "marker": {
          "color": "#636efa",
          "symbol": "circle"
         },
         "mode": "markers",
         "name": "",
         "orientation": "v",
         "showlegend": false,
         "type": "scatter",
         "x": {
          "bdata": "JEAwMScyOS4pMy8uMTggMi8vLzEVLhY5GR8bDw4V",
          "dtype": "i1"
         },
         "xaxis": "x",
         "y": {
          "bdata": "HzYoKiknNS8oLiorMS4iKSMwOSgbLCAwGxwiHhQX",
          "dtype": "i1"
         },
         "yaxis": "y"
        }
       ],
       "layout": {
        "legend": {
         "tracegroupgap": 0
        },
        "shapes": [
         {
          "line": {
           "color": "red",
           "dash": "dash"
          },
          "type": "line",
          "x0": 14,
          "x1": 64,
          "y0": 14,
          "y1": 64
         }
        ],
        "template": {
         "data": {
          "bar": [
           {
            "error_x": {
             "color": "#2a3f5f"
            },
            "error_y": {
             "color": "#2a3f5f"
            },
            "marker": {
             "line": {
              "color": "#E5ECF6",
              "width": 0.5
             },
             "pattern": {
              "fillmode": "overlay",
              "size": 10,
              "solidity": 0.2
             }
            },
            "type": "bar"
           }
          ],
          "barpolar": [
           {
            "marker": {
             "line": {
              "color": "#E5ECF6",
              "width": 0.5
             },
             "pattern": {
              "fillmode": "overlay",
              "size": 10,
              "solidity": 0.2
             }
            },
            "type": "barpolar"
           }
          ],
          "carpet": [
           {
            "aaxis": {
             "endlinecolor": "#2a3f5f",
             "gridcolor": "white",
             "linecolor": "white",
             "minorgridcolor": "white",
             "startlinecolor": "#2a3f5f"
            },
            "baxis": {
             "endlinecolor": "#2a3f5f",
             "gridcolor": "white",
             "linecolor": "white",
             "minorgridcolor": "white",
             "startlinecolor": "#2a3f5f"
            },
            "type": "carpet"
           }
          ],
          "choropleth": [
           {
            "colorbar": {
             "outlinewidth": 0,
             "ticks": ""
            },
            "type": "choropleth"
           }
          ],
          "contour": [
           {
            "colorbar": {
             "outlinewidth": 0,
             "ticks": ""
            },
            "colorscale": [
             [
              0,
              "#0d0887"
             ],
             [
              0.1111111111111111,
              "#46039f"
             ],
             [
              0.2222222222222222,
              "#7201a8"
             ],
             [
              0.3333333333333333,
              "#9c179e"
             ],
             [
              0.4444444444444444,
              "#bd3786"
             ],
             [
              0.5555555555555556,
              "#d8576b"
             ],
             [
              0.6666666666666666,
              "#ed7953"
             ],
             [
              0.7777777777777778,
              "#fb9f3a"
             ],
             [
              0.8888888888888888,
              "#fdca26"
             ],
             [
              1,
              "#f0f921"
             ]
            ],
            "type": "contour"
           }
          ],
          "contourcarpet": [
           {
            "colorbar": {
             "outlinewidth": 0,
             "ticks": ""
            },
            "type": "contourcarpet"
           }
          ],
          "heatmap": [
           {
            "colorbar": {
             "outlinewidth": 0,
             "ticks": ""
            },
            "colorscale": [
             [
              0,
              "#0d0887"
             ],
             [
              0.1111111111111111,
              "#46039f"
             ],
             [
              0.2222222222222222,
              "#7201a8"
             ],
             [
              0.3333333333333333,
              "#9c179e"
             ],
             [
              0.4444444444444444,
              "#bd3786"
             ],
             [
              0.5555555555555556,
              "#d8576b"
             ],
             [
              0.6666666666666666,
              "#ed7953"
             ],
             [
              0.7777777777777778,
              "#fb9f3a"
             ],
             [
              0.8888888888888888,
              "#fdca26"
             ],
             [
              1,
              "#f0f921"
             ]
            ],
            "type": "heatmap"
           }
          ],
          "histogram": [
           {
            "marker": {
             "pattern": {
              "fillmode": "overlay",
              "size": 10,
              "solidity": 0.2
             }
            },
            "type": "histogram"
           }
          ],
          "histogram2d": [
           {
            "colorbar": {
             "outlinewidth": 0,
             "ticks": ""
            },
            "colorscale": [
             [
              0,
              "#0d0887"
             ],
             [
              0.1111111111111111,
              "#46039f"
             ],
             [
              0.2222222222222222,
              "#7201a8"
             ],
             [
              0.3333333333333333,
              "#9c179e"
             ],
             [
              0.4444444444444444,
              "#bd3786"
             ],
             [
              0.5555555555555556,
              "#d8576b"
             ],
             [
              0.6666666666666666,
              "#ed7953"
             ],
             [
              0.7777777777777778,
              "#fb9f3a"
             ],
             [
              0.8888888888888888,
              "#fdca26"
             ],
             [
              1,
              "#f0f921"
             ]
            ],
            "type": "histogram2d"
           }
          ],
          "histogram2dcontour": [
           {
            "colorbar": {
             "outlinewidth": 0,
             "ticks": ""
            },
            "colorscale": [
             [
              0,
              "#0d0887"
             ],
             [
              0.1111111111111111,
              "#46039f"
             ],
             [
              0.2222222222222222,
              "#7201a8"
             ],
             [
              0.3333333333333333,
              "#9c179e"
             ],
             [
              0.4444444444444444,
              "#bd3786"
             ],
             [
              0.5555555555555556,
              "#d8576b"
             ],
             [
              0.6666666666666666,
              "#ed7953"
             ],
             [
              0.7777777777777778,
              "#fb9f3a"
             ],
             [
              0.8888888888888888,
              "#fdca26"
             ],
             [
              1,
              "#f0f921"
             ]
            ],
            "type": "histogram2dcontour"
           }
          ],
          "mesh3d": [
           {
            "colorbar": {
             "outlinewidth": 0,
             "ticks": ""
            },
            "type": "mesh3d"
           }
          ],
          "parcoords": [
           {
            "line": {
             "colorbar": {
              "outlinewidth": 0,
              "ticks": ""
             }
            },
            "type": "parcoords"
           }
          ],
          "pie": [
           {
            "automargin": true,
            "type": "pie"
           }
          ],
          "scatter": [
           {
            "fillpattern": {
             "fillmode": "overlay",
             "size": 10,
             "solidity": 0.2
            },
            "type": "scatter"
           }
          ],
          "scatter3d": [
           {
            "line": {
             "colorbar": {
              "outlinewidth": 0,
              "ticks": ""
             }
            },
            "marker": {
             "colorbar": {
              "outlinewidth": 0,
              "ticks": ""
             }
            },
            "type": "scatter3d"
           }
          ],
          "scattercarpet": [
           {
            "marker": {
             "colorbar": {
              "outlinewidth": 0,
              "ticks": ""
             }
            },
            "type": "scattercarpet"
           }
          ],
          "scattergeo": [
           {
            "marker": {
             "colorbar": {
              "outlinewidth": 0,
              "ticks": ""
             }
            },
            "type": "scattergeo"
           }
          ],
          "scattergl": [
           {
            "marker": {
             "colorbar": {
              "outlinewidth": 0,
              "ticks": ""
             }
            },
            "type": "scattergl"
           }
          ],
          "scattermap": [
           {
            "marker": {
             "colorbar": {
              "outlinewidth": 0,
              "ticks": ""
             }
            },
            "type": "scattermap"
           }
          ],
          "scattermapbox": [
           {
            "marker": {
             "colorbar": {
              "outlinewidth": 0,
              "ticks": ""
             }
            },
            "type": "scattermapbox"
           }
          ],
          "scatterpolar": [
           {
            "marker": {
             "colorbar": {
              "outlinewidth": 0,
              "ticks": ""
             }
            },
            "type": "scatterpolar"
           }
          ],
          "scatterpolargl": [
           {
            "marker": {
             "colorbar": {
              "outlinewidth": 0,
              "ticks": ""
             }
            },
            "type": "scatterpolargl"
           }
          ],
          "scatterternary": [
           {
            "marker": {
             "colorbar": {
              "outlinewidth": 0,
              "ticks": ""
             }
            },
            "type": "scatterternary"
           }
          ],
          "surface": [
           {
            "colorbar": {
             "outlinewidth": 0,
             "ticks": ""
            },
            "colorscale": [
             [
              0,
              "#0d0887"
             ],
             [
              0.1111111111111111,
              "#46039f"
             ],
             [
              0.2222222222222222,
              "#7201a8"
             ],
             [
              0.3333333333333333,
              "#9c179e"
             ],
             [
              0.4444444444444444,
              "#bd3786"
             ],
             [
              0.5555555555555556,
              "#d8576b"
             ],
             [
              0.6666666666666666,
              "#ed7953"
             ],
             [
              0.7777777777777778,
              "#fb9f3a"
             ],
             [
              0.8888888888888888,
              "#fdca26"
             ],
             [
              1,
              "#f0f921"
             ]
            ],
            "type": "surface"
           }
          ],
          "table": [
           {
            "cells": {
             "fill": {
              "color": "#EBF0F8"
             },
             "line": {
              "color": "white"
             }
            },
            "header": {
             "fill": {
              "color": "#C8D4E3"
             },
             "line": {
              "color": "white"
             }
            },
            "type": "table"
           }
          ]
         },
         "layout": {
          "annotationdefaults": {
           "arrowcolor": "#2a3f5f",
           "arrowhead": 0,
           "arrowwidth": 1
          },
          "autotypenumbers": "strict",
          "coloraxis": {
           "colorbar": {
            "outlinewidth": 0,
            "ticks": ""
           }
          },
          "colorscale": {
           "diverging": [
            [
             0,
             "#8e0152"
            ],
            [
             0.1,
             "#c51b7d"
            ],
            [
             0.2,
             "#de77ae"
            ],
            [
             0.3,
             "#f1b6da"
            ],
            [
             0.4,
             "#fde0ef"
            ],
            [
             0.5,
             "#f7f7f7"
            ],
            [
             0.6,
             "#e6f5d0"
            ],
            [
             0.7,
             "#b8e186"
            ],
            [
             0.8,
             "#7fbc41"
            ],
            [
             0.9,
             "#4d9221"
            ],
            [
             1,
             "#276419"
            ]
           ],
           "sequential": [
            [
             0,
             "#0d0887"
            ],
            [
             0.1111111111111111,
             "#46039f"
            ],
            [
             0.2222222222222222,
             "#7201a8"
            ],
            [
             0.3333333333333333,
             "#9c179e"
            ],
            [
             0.4444444444444444,
             "#bd3786"
            ],
            [
             0.5555555555555556,
             "#d8576b"
            ],
            [
             0.6666666666666666,
             "#ed7953"
            ],
            [
             0.7777777777777778,
             "#fb9f3a"
            ],
            [
             0.8888888888888888,
             "#fdca26"
            ],
            [
             1,
             "#f0f921"
            ]
           ],
           "sequentialminus": [
            [
             0,
             "#0d0887"
            ],
            [
             0.1111111111111111,
             "#46039f"
            ],
            [
             0.2222222222222222,
             "#7201a8"
            ],
            [
             0.3333333333333333,
             "#9c179e"
            ],
            [
             0.4444444444444444,
             "#bd3786"
            ],
            [
             0.5555555555555556,
             "#d8576b"
            ],
            [
             0.6666666666666666,
             "#ed7953"
            ],
            [
             0.7777777777777778,
             "#fb9f3a"
            ],
            [
             0.8888888888888888,
             "#fdca26"
            ],
            [
             1,
             "#f0f921"
            ]
           ]
          },
          "colorway": [
           "#636efa",
           "#EF553B",
           "#00cc96",
           "#ab63fa",
           "#FFA15A",
           "#19d3f3",
           "#FF6692",
           "#B6E880",
           "#FF97FF",
           "#FECB52"
          ],
          "font": {
           "color": "#2a3f5f"
          },
          "geo": {
           "bgcolor": "white",
           "lakecolor": "white",
           "landcolor": "#E5ECF6",
           "showlakes": true,
           "showland": true,
           "subunitcolor": "white"
          },
          "hoverlabel": {
           "align": "left"
          },
          "hovermode": "closest",
          "mapbox": {
           "style": "light"
          },
          "paper_bgcolor": "white",
          "plot_bgcolor": "#E5ECF6",
          "polar": {
           "angularaxis": {
            "gridcolor": "white",
            "linecolor": "white",
            "ticks": ""
           },
           "bgcolor": "#E5ECF6",
           "radialaxis": {
            "gridcolor": "white",
            "linecolor": "white",
            "ticks": ""
           }
          },
          "scene": {
           "xaxis": {
            "backgroundcolor": "#E5ECF6",
            "gridcolor": "white",
            "gridwidth": 2,
            "linecolor": "white",
            "showbackground": true,
            "ticks": "",
            "zerolinecolor": "white"
           },
           "yaxis": {
            "backgroundcolor": "#E5ECF6",
            "gridcolor": "white",
            "gridwidth": 2,
            "linecolor": "white",
            "showbackground": true,
            "ticks": "",
            "zerolinecolor": "white"
           },
           "zaxis": {
            "backgroundcolor": "#E5ECF6",
            "gridcolor": "white",
            "gridwidth": 2,
            "linecolor": "white",
            "showbackground": true,
            "ticks": "",
            "zerolinecolor": "white"
           }
          },
          "shapedefaults": {
           "line": {
            "color": "#2a3f5f"
           }
          },
          "ternary": {
           "aaxis": {
            "gridcolor": "white",
            "linecolor": "white",
            "ticks": ""
           },
           "baxis": {
            "gridcolor": "white",
            "linecolor": "white",
            "ticks": ""
           },
           "bgcolor": "#E5ECF6",
           "caxis": {
            "gridcolor": "white",
            "linecolor": "white",
            "ticks": ""
           }
          },
          "title": {
           "x": 0.05
          },
          "xaxis": {
           "automargin": true,
           "gridcolor": "white",
           "linecolor": "white",
           "ticks": "",
           "title": {
            "standoff": 15
           },
           "zerolinecolor": "white",
           "zerolinewidth": 2
          },
          "yaxis": {
           "automargin": true,
           "gridcolor": "white",
           "linecolor": "white",
           "ticks": "",
           "title": {
            "standoff": 15
           },
           "zerolinecolor": "white",
           "zerolinewidth": 2
          }
         }
        },
        "title": {
         "text": "(Lasso) Actual Wins vs. Predicted Wins (Test Season: 2023-24)"
        },
        "xaxis": {
         "anchor": "y",
         "domain": [
          0,
          1
         ],
         "title": {
          "text": "Actual Wins"
         }
        },
        "yaxis": {
         "anchor": "x",
         "domain": [
          0,
          1
         ],
         "title": {
          "text": "Predicted Wins"
         }
        }
       }
      }
     },
     "metadata": {},
     "output_type": "display_data"
    }
   ],
   "source": [
    "lasso = make_pipeline(StandardScaler(), LassoCV(\n",
    "    alphas=np.logspace(-4, 2, 50),\n",
    "    cv=5,\n",
    "    random_state=RANDOM_SEED\n",
    "))\n",
    "lasso_model = fit_model_and_evaluate(\"Lasso\", lasso, X_train, y_train, X_val, y_val, X_test, y_test=test_df['W'])\n",
    "lasso_importance = get_importance(lasso_model, FEATURES)"
   ]
  },
  {
   "cell_type": "markdown",
   "id": "92204a2c",
   "metadata": {},
   "source": [
    "# Random Forest"
   ]
  },
  {
   "cell_type": "code",
   "execution_count": 313,
   "id": "f83cab56",
   "metadata": {},
   "outputs": [
    {
     "name": "stdout",
     "output_type": "stream",
     "text": [
      "Random Forest Scores: \n",
      "Validation R^2: 0.466\n",
      "Test R^2: 0.477\n"
     ]
    },
    {
     "data": {
      "application/vnd.plotly.v1+json": {
       "config": {
        "plotlyServerURL": "https://plot.ly"
       },
       "data": [
        {
         "customdata": [
          [
           "Atlanta Hawks"
          ],
          [
           "Boston Celtics"
          ],
          [
           "Cleveland Cavaliers"
          ],
          [
           "New Orleans Pelicans"
          ],
          [
           "Chicago Bulls"
          ],
          [
           "Dallas Mavericks"
          ],
          [
           "Denver Nuggets"
          ],
          [
           "Golden State Warriors"
          ],
          [
           "Houston Rockets"
          ],
          [
           "Los Angeles Clippers"
          ],
          [
           "Los Angeles Lakers"
          ],
          [
           "Miami Heat"
          ],
          [
           "Milwaukee Bucks"
          ],
          [
           "Minnesota Timberwolves"
          ],
          [
           "Brooklyn Nets"
          ],
          [
           "New York Knicks"
          ],
          [
           "Orlando Magic"
          ],
          [
           "Indiana Pacers"
          ],
          [
           "Philadelphia 76ers"
          ],
          [
           "Phoenix Suns"
          ],
          [
           "Portland Trail Blazers"
          ],
          [
           "Sacramento Kings"
          ],
          [
           "San Antonio Spurs"
          ],
          [
           "Oklahoma City Thunder"
          ],
          [
           "Toronto Raptors"
          ],
          [
           "Utah Jazz"
          ],
          [
           "Memphis Grizzlies"
          ],
          [
           "Washington Wizards"
          ],
          [
           "Detroit Pistons"
          ],
          [
           "Charlotte Hornets"
          ]
         ],
         "hovertemplate": "Actual Wins=%{x}<br>Predicted Wins=%{y}<br>TEAM_NAME=%{customdata[0]}<extra></extra>",
         "legendgroup": "",
         "marker": {
          "color": "#636efa",
          "symbol": "circle"
         },
         "mode": "markers",
         "name": "",
         "orientation": "v",
         "showlegend": false,
         "type": "scatter",
         "x": {
          "bdata": "JEAwMScyOS4pMy8uMTggMi8vLzEVLhY5GR8bDw4V",
          "dtype": "i1"
         },
         "xaxis": "x",
         "y": {
          "bdata": "Ii0pKCkmLy8oLCgsLi8lJyQqMScXKyQsHx8mKBwe",
          "dtype": "i1"
         },
         "yaxis": "y"
        }
       ],
       "layout": {
        "legend": {
         "tracegroupgap": 0
        },
        "shapes": [
         {
          "line": {
           "color": "red",
           "dash": "dash"
          },
          "type": "line",
          "x0": 14,
          "x1": 64,
          "y0": 14,
          "y1": 64
         }
        ],
        "template": {
         "data": {
          "bar": [
           {
            "error_x": {
             "color": "#2a3f5f"
            },
            "error_y": {
             "color": "#2a3f5f"
            },
            "marker": {
             "line": {
              "color": "#E5ECF6",
              "width": 0.5
             },
             "pattern": {
              "fillmode": "overlay",
              "size": 10,
              "solidity": 0.2
             }
            },
            "type": "bar"
           }
          ],
          "barpolar": [
           {
            "marker": {
             "line": {
              "color": "#E5ECF6",
              "width": 0.5
             },
             "pattern": {
              "fillmode": "overlay",
              "size": 10,
              "solidity": 0.2
             }
            },
            "type": "barpolar"
           }
          ],
          "carpet": [
           {
            "aaxis": {
             "endlinecolor": "#2a3f5f",
             "gridcolor": "white",
             "linecolor": "white",
             "minorgridcolor": "white",
             "startlinecolor": "#2a3f5f"
            },
            "baxis": {
             "endlinecolor": "#2a3f5f",
             "gridcolor": "white",
             "linecolor": "white",
             "minorgridcolor": "white",
             "startlinecolor": "#2a3f5f"
            },
            "type": "carpet"
           }
          ],
          "choropleth": [
           {
            "colorbar": {
             "outlinewidth": 0,
             "ticks": ""
            },
            "type": "choropleth"
           }
          ],
          "contour": [
           {
            "colorbar": {
             "outlinewidth": 0,
             "ticks": ""
            },
            "colorscale": [
             [
              0,
              "#0d0887"
             ],
             [
              0.1111111111111111,
              "#46039f"
             ],
             [
              0.2222222222222222,
              "#7201a8"
             ],
             [
              0.3333333333333333,
              "#9c179e"
             ],
             [
              0.4444444444444444,
              "#bd3786"
             ],
             [
              0.5555555555555556,
              "#d8576b"
             ],
             [
              0.6666666666666666,
              "#ed7953"
             ],
             [
              0.7777777777777778,
              "#fb9f3a"
             ],
             [
              0.8888888888888888,
              "#fdca26"
             ],
             [
              1,
              "#f0f921"
             ]
            ],
            "type": "contour"
           }
          ],
          "contourcarpet": [
           {
            "colorbar": {
             "outlinewidth": 0,
             "ticks": ""
            },
            "type": "contourcarpet"
           }
          ],
          "heatmap": [
           {
            "colorbar": {
             "outlinewidth": 0,
             "ticks": ""
            },
            "colorscale": [
             [
              0,
              "#0d0887"
             ],
             [
              0.1111111111111111,
              "#46039f"
             ],
             [
              0.2222222222222222,
              "#7201a8"
             ],
             [
              0.3333333333333333,
              "#9c179e"
             ],
             [
              0.4444444444444444,
              "#bd3786"
             ],
             [
              0.5555555555555556,
              "#d8576b"
             ],
             [
              0.6666666666666666,
              "#ed7953"
             ],
             [
              0.7777777777777778,
              "#fb9f3a"
             ],
             [
              0.8888888888888888,
              "#fdca26"
             ],
             [
              1,
              "#f0f921"
             ]
            ],
            "type": "heatmap"
           }
          ],
          "histogram": [
           {
            "marker": {
             "pattern": {
              "fillmode": "overlay",
              "size": 10,
              "solidity": 0.2
             }
            },
            "type": "histogram"
           }
          ],
          "histogram2d": [
           {
            "colorbar": {
             "outlinewidth": 0,
             "ticks": ""
            },
            "colorscale": [
             [
              0,
              "#0d0887"
             ],
             [
              0.1111111111111111,
              "#46039f"
             ],
             [
              0.2222222222222222,
              "#7201a8"
             ],
             [
              0.3333333333333333,
              "#9c179e"
             ],
             [
              0.4444444444444444,
              "#bd3786"
             ],
             [
              0.5555555555555556,
              "#d8576b"
             ],
             [
              0.6666666666666666,
              "#ed7953"
             ],
             [
              0.7777777777777778,
              "#fb9f3a"
             ],
             [
              0.8888888888888888,
              "#fdca26"
             ],
             [
              1,
              "#f0f921"
             ]
            ],
            "type": "histogram2d"
           }
          ],
          "histogram2dcontour": [
           {
            "colorbar": {
             "outlinewidth": 0,
             "ticks": ""
            },
            "colorscale": [
             [
              0,
              "#0d0887"
             ],
             [
              0.1111111111111111,
              "#46039f"
             ],
             [
              0.2222222222222222,
              "#7201a8"
             ],
             [
              0.3333333333333333,
              "#9c179e"
             ],
             [
              0.4444444444444444,
              "#bd3786"
             ],
             [
              0.5555555555555556,
              "#d8576b"
             ],
             [
              0.6666666666666666,
              "#ed7953"
             ],
             [
              0.7777777777777778,
              "#fb9f3a"
             ],
             [
              0.8888888888888888,
              "#fdca26"
             ],
             [
              1,
              "#f0f921"
             ]
            ],
            "type": "histogram2dcontour"
           }
          ],
          "mesh3d": [
           {
            "colorbar": {
             "outlinewidth": 0,
             "ticks": ""
            },
            "type": "mesh3d"
           }
          ],
          "parcoords": [
           {
            "line": {
             "colorbar": {
              "outlinewidth": 0,
              "ticks": ""
             }
            },
            "type": "parcoords"
           }
          ],
          "pie": [
           {
            "automargin": true,
            "type": "pie"
           }
          ],
          "scatter": [
           {
            "fillpattern": {
             "fillmode": "overlay",
             "size": 10,
             "solidity": 0.2
            },
            "type": "scatter"
           }
          ],
          "scatter3d": [
           {
            "line": {
             "colorbar": {
              "outlinewidth": 0,
              "ticks": ""
             }
            },
            "marker": {
             "colorbar": {
              "outlinewidth": 0,
              "ticks": ""
             }
            },
            "type": "scatter3d"
           }
          ],
          "scattercarpet": [
           {
            "marker": {
             "colorbar": {
              "outlinewidth": 0,
              "ticks": ""
             }
            },
            "type": "scattercarpet"
           }
          ],
          "scattergeo": [
           {
            "marker": {
             "colorbar": {
              "outlinewidth": 0,
              "ticks": ""
             }
            },
            "type": "scattergeo"
           }
          ],
          "scattergl": [
           {
            "marker": {
             "colorbar": {
              "outlinewidth": 0,
              "ticks": ""
             }
            },
            "type": "scattergl"
           }
          ],
          "scattermap": [
           {
            "marker": {
             "colorbar": {
              "outlinewidth": 0,
              "ticks": ""
             }
            },
            "type": "scattermap"
           }
          ],
          "scattermapbox": [
           {
            "marker": {
             "colorbar": {
              "outlinewidth": 0,
              "ticks": ""
             }
            },
            "type": "scattermapbox"
           }
          ],
          "scatterpolar": [
           {
            "marker": {
             "colorbar": {
              "outlinewidth": 0,
              "ticks": ""
             }
            },
            "type": "scatterpolar"
           }
          ],
          "scatterpolargl": [
           {
            "marker": {
             "colorbar": {
              "outlinewidth": 0,
              "ticks": ""
             }
            },
            "type": "scatterpolargl"
           }
          ],
          "scatterternary": [
           {
            "marker": {
             "colorbar": {
              "outlinewidth": 0,
              "ticks": ""
             }
            },
            "type": "scatterternary"
           }
          ],
          "surface": [
           {
            "colorbar": {
             "outlinewidth": 0,
             "ticks": ""
            },
            "colorscale": [
             [
              0,
              "#0d0887"
             ],
             [
              0.1111111111111111,
              "#46039f"
             ],
             [
              0.2222222222222222,
              "#7201a8"
             ],
             [
              0.3333333333333333,
              "#9c179e"
             ],
             [
              0.4444444444444444,
              "#bd3786"
             ],
             [
              0.5555555555555556,
              "#d8576b"
             ],
             [
              0.6666666666666666,
              "#ed7953"
             ],
             [
              0.7777777777777778,
              "#fb9f3a"
             ],
             [
              0.8888888888888888,
              "#fdca26"
             ],
             [
              1,
              "#f0f921"
             ]
            ],
            "type": "surface"
           }
          ],
          "table": [
           {
            "cells": {
             "fill": {
              "color": "#EBF0F8"
             },
             "line": {
              "color": "white"
             }
            },
            "header": {
             "fill": {
              "color": "#C8D4E3"
             },
             "line": {
              "color": "white"
             }
            },
            "type": "table"
           }
          ]
         },
         "layout": {
          "annotationdefaults": {
           "arrowcolor": "#2a3f5f",
           "arrowhead": 0,
           "arrowwidth": 1
          },
          "autotypenumbers": "strict",
          "coloraxis": {
           "colorbar": {
            "outlinewidth": 0,
            "ticks": ""
           }
          },
          "colorscale": {
           "diverging": [
            [
             0,
             "#8e0152"
            ],
            [
             0.1,
             "#c51b7d"
            ],
            [
             0.2,
             "#de77ae"
            ],
            [
             0.3,
             "#f1b6da"
            ],
            [
             0.4,
             "#fde0ef"
            ],
            [
             0.5,
             "#f7f7f7"
            ],
            [
             0.6,
             "#e6f5d0"
            ],
            [
             0.7,
             "#b8e186"
            ],
            [
             0.8,
             "#7fbc41"
            ],
            [
             0.9,
             "#4d9221"
            ],
            [
             1,
             "#276419"
            ]
           ],
           "sequential": [
            [
             0,
             "#0d0887"
            ],
            [
             0.1111111111111111,
             "#46039f"
            ],
            [
             0.2222222222222222,
             "#7201a8"
            ],
            [
             0.3333333333333333,
             "#9c179e"
            ],
            [
             0.4444444444444444,
             "#bd3786"
            ],
            [
             0.5555555555555556,
             "#d8576b"
            ],
            [
             0.6666666666666666,
             "#ed7953"
            ],
            [
             0.7777777777777778,
             "#fb9f3a"
            ],
            [
             0.8888888888888888,
             "#fdca26"
            ],
            [
             1,
             "#f0f921"
            ]
           ],
           "sequentialminus": [
            [
             0,
             "#0d0887"
            ],
            [
             0.1111111111111111,
             "#46039f"
            ],
            [
             0.2222222222222222,
             "#7201a8"
            ],
            [
             0.3333333333333333,
             "#9c179e"
            ],
            [
             0.4444444444444444,
             "#bd3786"
            ],
            [
             0.5555555555555556,
             "#d8576b"
            ],
            [
             0.6666666666666666,
             "#ed7953"
            ],
            [
             0.7777777777777778,
             "#fb9f3a"
            ],
            [
             0.8888888888888888,
             "#fdca26"
            ],
            [
             1,
             "#f0f921"
            ]
           ]
          },
          "colorway": [
           "#636efa",
           "#EF553B",
           "#00cc96",
           "#ab63fa",
           "#FFA15A",
           "#19d3f3",
           "#FF6692",
           "#B6E880",
           "#FF97FF",
           "#FECB52"
          ],
          "font": {
           "color": "#2a3f5f"
          },
          "geo": {
           "bgcolor": "white",
           "lakecolor": "white",
           "landcolor": "#E5ECF6",
           "showlakes": true,
           "showland": true,
           "subunitcolor": "white"
          },
          "hoverlabel": {
           "align": "left"
          },
          "hovermode": "closest",
          "mapbox": {
           "style": "light"
          },
          "paper_bgcolor": "white",
          "plot_bgcolor": "#E5ECF6",
          "polar": {
           "angularaxis": {
            "gridcolor": "white",
            "linecolor": "white",
            "ticks": ""
           },
           "bgcolor": "#E5ECF6",
           "radialaxis": {
            "gridcolor": "white",
            "linecolor": "white",
            "ticks": ""
           }
          },
          "scene": {
           "xaxis": {
            "backgroundcolor": "#E5ECF6",
            "gridcolor": "white",
            "gridwidth": 2,
            "linecolor": "white",
            "showbackground": true,
            "ticks": "",
            "zerolinecolor": "white"
           },
           "yaxis": {
            "backgroundcolor": "#E5ECF6",
            "gridcolor": "white",
            "gridwidth": 2,
            "linecolor": "white",
            "showbackground": true,
            "ticks": "",
            "zerolinecolor": "white"
           },
           "zaxis": {
            "backgroundcolor": "#E5ECF6",
            "gridcolor": "white",
            "gridwidth": 2,
            "linecolor": "white",
            "showbackground": true,
            "ticks": "",
            "zerolinecolor": "white"
           }
          },
          "shapedefaults": {
           "line": {
            "color": "#2a3f5f"
           }
          },
          "ternary": {
           "aaxis": {
            "gridcolor": "white",
            "linecolor": "white",
            "ticks": ""
           },
           "baxis": {
            "gridcolor": "white",
            "linecolor": "white",
            "ticks": ""
           },
           "bgcolor": "#E5ECF6",
           "caxis": {
            "gridcolor": "white",
            "linecolor": "white",
            "ticks": ""
           }
          },
          "title": {
           "x": 0.05
          },
          "xaxis": {
           "automargin": true,
           "gridcolor": "white",
           "linecolor": "white",
           "ticks": "",
           "title": {
            "standoff": 15
           },
           "zerolinecolor": "white",
           "zerolinewidth": 2
          },
          "yaxis": {
           "automargin": true,
           "gridcolor": "white",
           "linecolor": "white",
           "ticks": "",
           "title": {
            "standoff": 15
           },
           "zerolinecolor": "white",
           "zerolinewidth": 2
          }
         }
        },
        "title": {
         "text": "(Random Forest) Actual Wins vs. Predicted Wins (Test Season: 2023-24)"
        },
        "xaxis": {
         "anchor": "y",
         "domain": [
          0,
          1
         ],
         "title": {
          "text": "Actual Wins"
         }
        },
        "yaxis": {
         "anchor": "x",
         "domain": [
          0,
          1
         ],
         "title": {
          "text": "Predicted Wins"
         }
        }
       }
      }
     },
     "metadata": {},
     "output_type": "display_data"
    }
   ],
   "source": [
    "from sklearn.ensemble import RandomForestRegressor\n",
    "\n",
    "rf_model = RandomForestRegressor(n_estimators=100, max_depth=5, min_samples_split=5, min_samples_leaf=4, bootstrap=True, oob_score=True, random_state=RANDOM_SEED)\n",
    "rf = fit_model_and_evaluate(\"Random Forest\", rf_model, X_train, y_train, X_val, y_val, X_test, y_test=test_df[\"W\"])"
   ]
  },
  {
   "cell_type": "code",
   "execution_count": 314,
   "id": "eba9d9eb",
   "metadata": {},
   "outputs": [
    {
     "name": "stdout",
     "output_type": "stream",
     "text": [
      "Boosted Tree Scores: \n",
      "Validation R^2: 0.466\n",
      "Test R^2: 0.397\n"
     ]
    },
    {
     "data": {
      "application/vnd.plotly.v1+json": {
       "config": {
        "plotlyServerURL": "https://plot.ly"
       },
       "data": [
        {
         "customdata": [
          [
           "Atlanta Hawks"
          ],
          [
           "Boston Celtics"
          ],
          [
           "Cleveland Cavaliers"
          ],
          [
           "New Orleans Pelicans"
          ],
          [
           "Chicago Bulls"
          ],
          [
           "Dallas Mavericks"
          ],
          [
           "Denver Nuggets"
          ],
          [
           "Golden State Warriors"
          ],
          [
           "Houston Rockets"
          ],
          [
           "Los Angeles Clippers"
          ],
          [
           "Los Angeles Lakers"
          ],
          [
           "Miami Heat"
          ],
          [
           "Milwaukee Bucks"
          ],
          [
           "Minnesota Timberwolves"
          ],
          [
           "Brooklyn Nets"
          ],
          [
           "New York Knicks"
          ],
          [
           "Orlando Magic"
          ],
          [
           "Indiana Pacers"
          ],
          [
           "Philadelphia 76ers"
          ],
          [
           "Phoenix Suns"
          ],
          [
           "Portland Trail Blazers"
          ],
          [
           "Sacramento Kings"
          ],
          [
           "San Antonio Spurs"
          ],
          [
           "Oklahoma City Thunder"
          ],
          [
           "Toronto Raptors"
          ],
          [
           "Utah Jazz"
          ],
          [
           "Memphis Grizzlies"
          ],
          [
           "Washington Wizards"
          ],
          [
           "Detroit Pistons"
          ],
          [
           "Charlotte Hornets"
          ]
         ],
         "hovertemplate": "Actual Wins=%{x}<br>Predicted Wins=%{y}<br>TEAM_NAME=%{customdata[0]}<extra></extra>",
         "legendgroup": "",
         "marker": {
          "color": "#636efa",
          "symbol": "circle"
         },
         "mode": "markers",
         "name": "",
         "orientation": "v",
         "showlegend": false,
         "type": "scatter",
         "x": {
          "bdata": "JEAwMScyOS4pMy8uMTggMi8vLzEVLhY5GR8bDw4V",
          "dtype": "i1"
         },
         "xaxis": "x",
         "y": {
          "bdata": "FygmKyslLDEnLiorLzIjICUnNCIXKyUvGhgnJRIT",
          "dtype": "i1"
         },
         "yaxis": "y"
        }
       ],
       "layout": {
        "legend": {
         "tracegroupgap": 0
        },
        "shapes": [
         {
          "line": {
           "color": "red",
           "dash": "dash"
          },
          "type": "line",
          "x0": 14,
          "x1": 64,
          "y0": 14,
          "y1": 64
         }
        ],
        "template": {
         "data": {
          "bar": [
           {
            "error_x": {
             "color": "#2a3f5f"
            },
            "error_y": {
             "color": "#2a3f5f"
            },
            "marker": {
             "line": {
              "color": "#E5ECF6",
              "width": 0.5
             },
             "pattern": {
              "fillmode": "overlay",
              "size": 10,
              "solidity": 0.2
             }
            },
            "type": "bar"
           }
          ],
          "barpolar": [
           {
            "marker": {
             "line": {
              "color": "#E5ECF6",
              "width": 0.5
             },
             "pattern": {
              "fillmode": "overlay",
              "size": 10,
              "solidity": 0.2
             }
            },
            "type": "barpolar"
           }
          ],
          "carpet": [
           {
            "aaxis": {
             "endlinecolor": "#2a3f5f",
             "gridcolor": "white",
             "linecolor": "white",
             "minorgridcolor": "white",
             "startlinecolor": "#2a3f5f"
            },
            "baxis": {
             "endlinecolor": "#2a3f5f",
             "gridcolor": "white",
             "linecolor": "white",
             "minorgridcolor": "white",
             "startlinecolor": "#2a3f5f"
            },
            "type": "carpet"
           }
          ],
          "choropleth": [
           {
            "colorbar": {
             "outlinewidth": 0,
             "ticks": ""
            },
            "type": "choropleth"
           }
          ],
          "contour": [
           {
            "colorbar": {
             "outlinewidth": 0,
             "ticks": ""
            },
            "colorscale": [
             [
              0,
              "#0d0887"
             ],
             [
              0.1111111111111111,
              "#46039f"
             ],
             [
              0.2222222222222222,
              "#7201a8"
             ],
             [
              0.3333333333333333,
              "#9c179e"
             ],
             [
              0.4444444444444444,
              "#bd3786"
             ],
             [
              0.5555555555555556,
              "#d8576b"
             ],
             [
              0.6666666666666666,
              "#ed7953"
             ],
             [
              0.7777777777777778,
              "#fb9f3a"
             ],
             [
              0.8888888888888888,
              "#fdca26"
             ],
             [
              1,
              "#f0f921"
             ]
            ],
            "type": "contour"
           }
          ],
          "contourcarpet": [
           {
            "colorbar": {
             "outlinewidth": 0,
             "ticks": ""
            },
            "type": "contourcarpet"
           }
          ],
          "heatmap": [
           {
            "colorbar": {
             "outlinewidth": 0,
             "ticks": ""
            },
            "colorscale": [
             [
              0,
              "#0d0887"
             ],
             [
              0.1111111111111111,
              "#46039f"
             ],
             [
              0.2222222222222222,
              "#7201a8"
             ],
             [
              0.3333333333333333,
              "#9c179e"
             ],
             [
              0.4444444444444444,
              "#bd3786"
             ],
             [
              0.5555555555555556,
              "#d8576b"
             ],
             [
              0.6666666666666666,
              "#ed7953"
             ],
             [
              0.7777777777777778,
              "#fb9f3a"
             ],
             [
              0.8888888888888888,
              "#fdca26"
             ],
             [
              1,
              "#f0f921"
             ]
            ],
            "type": "heatmap"
           }
          ],
          "histogram": [
           {
            "marker": {
             "pattern": {
              "fillmode": "overlay",
              "size": 10,
              "solidity": 0.2
             }
            },
            "type": "histogram"
           }
          ],
          "histogram2d": [
           {
            "colorbar": {
             "outlinewidth": 0,
             "ticks": ""
            },
            "colorscale": [
             [
              0,
              "#0d0887"
             ],
             [
              0.1111111111111111,
              "#46039f"
             ],
             [
              0.2222222222222222,
              "#7201a8"
             ],
             [
              0.3333333333333333,
              "#9c179e"
             ],
             [
              0.4444444444444444,
              "#bd3786"
             ],
             [
              0.5555555555555556,
              "#d8576b"
             ],
             [
              0.6666666666666666,
              "#ed7953"
             ],
             [
              0.7777777777777778,
              "#fb9f3a"
             ],
             [
              0.8888888888888888,
              "#fdca26"
             ],
             [
              1,
              "#f0f921"
             ]
            ],
            "type": "histogram2d"
           }
          ],
          "histogram2dcontour": [
           {
            "colorbar": {
             "outlinewidth": 0,
             "ticks": ""
            },
            "colorscale": [
             [
              0,
              "#0d0887"
             ],
             [
              0.1111111111111111,
              "#46039f"
             ],
             [
              0.2222222222222222,
              "#7201a8"
             ],
             [
              0.3333333333333333,
              "#9c179e"
             ],
             [
              0.4444444444444444,
              "#bd3786"
             ],
             [
              0.5555555555555556,
              "#d8576b"
             ],
             [
              0.6666666666666666,
              "#ed7953"
             ],
             [
              0.7777777777777778,
              "#fb9f3a"
             ],
             [
              0.8888888888888888,
              "#fdca26"
             ],
             [
              1,
              "#f0f921"
             ]
            ],
            "type": "histogram2dcontour"
           }
          ],
          "mesh3d": [
           {
            "colorbar": {
             "outlinewidth": 0,
             "ticks": ""
            },
            "type": "mesh3d"
           }
          ],
          "parcoords": [
           {
            "line": {
             "colorbar": {
              "outlinewidth": 0,
              "ticks": ""
             }
            },
            "type": "parcoords"
           }
          ],
          "pie": [
           {
            "automargin": true,
            "type": "pie"
           }
          ],
          "scatter": [
           {
            "fillpattern": {
             "fillmode": "overlay",
             "size": 10,
             "solidity": 0.2
            },
            "type": "scatter"
           }
          ],
          "scatter3d": [
           {
            "line": {
             "colorbar": {
              "outlinewidth": 0,
              "ticks": ""
             }
            },
            "marker": {
             "colorbar": {
              "outlinewidth": 0,
              "ticks": ""
             }
            },
            "type": "scatter3d"
           }
          ],
          "scattercarpet": [
           {
            "marker": {
             "colorbar": {
              "outlinewidth": 0,
              "ticks": ""
             }
            },
            "type": "scattercarpet"
           }
          ],
          "scattergeo": [
           {
            "marker": {
             "colorbar": {
              "outlinewidth": 0,
              "ticks": ""
             }
            },
            "type": "scattergeo"
           }
          ],
          "scattergl": [
           {
            "marker": {
             "colorbar": {
              "outlinewidth": 0,
              "ticks": ""
             }
            },
            "type": "scattergl"
           }
          ],
          "scattermap": [
           {
            "marker": {
             "colorbar": {
              "outlinewidth": 0,
              "ticks": ""
             }
            },
            "type": "scattermap"
           }
          ],
          "scattermapbox": [
           {
            "marker": {
             "colorbar": {
              "outlinewidth": 0,
              "ticks": ""
             }
            },
            "type": "scattermapbox"
           }
          ],
          "scatterpolar": [
           {
            "marker": {
             "colorbar": {
              "outlinewidth": 0,
              "ticks": ""
             }
            },
            "type": "scatterpolar"
           }
          ],
          "scatterpolargl": [
           {
            "marker": {
             "colorbar": {
              "outlinewidth": 0,
              "ticks": ""
             }
            },
            "type": "scatterpolargl"
           }
          ],
          "scatterternary": [
           {
            "marker": {
             "colorbar": {
              "outlinewidth": 0,
              "ticks": ""
             }
            },
            "type": "scatterternary"
           }
          ],
          "surface": [
           {
            "colorbar": {
             "outlinewidth": 0,
             "ticks": ""
            },
            "colorscale": [
             [
              0,
              "#0d0887"
             ],
             [
              0.1111111111111111,
              "#46039f"
             ],
             [
              0.2222222222222222,
              "#7201a8"
             ],
             [
              0.3333333333333333,
              "#9c179e"
             ],
             [
              0.4444444444444444,
              "#bd3786"
             ],
             [
              0.5555555555555556,
              "#d8576b"
             ],
             [
              0.6666666666666666,
              "#ed7953"
             ],
             [
              0.7777777777777778,
              "#fb9f3a"
             ],
             [
              0.8888888888888888,
              "#fdca26"
             ],
             [
              1,
              "#f0f921"
             ]
            ],
            "type": "surface"
           }
          ],
          "table": [
           {
            "cells": {
             "fill": {
              "color": "#EBF0F8"
             },
             "line": {
              "color": "white"
             }
            },
            "header": {
             "fill": {
              "color": "#C8D4E3"
             },
             "line": {
              "color": "white"
             }
            },
            "type": "table"
           }
          ]
         },
         "layout": {
          "annotationdefaults": {
           "arrowcolor": "#2a3f5f",
           "arrowhead": 0,
           "arrowwidth": 1
          },
          "autotypenumbers": "strict",
          "coloraxis": {
           "colorbar": {
            "outlinewidth": 0,
            "ticks": ""
           }
          },
          "colorscale": {
           "diverging": [
            [
             0,
             "#8e0152"
            ],
            [
             0.1,
             "#c51b7d"
            ],
            [
             0.2,
             "#de77ae"
            ],
            [
             0.3,
             "#f1b6da"
            ],
            [
             0.4,
             "#fde0ef"
            ],
            [
             0.5,
             "#f7f7f7"
            ],
            [
             0.6,
             "#e6f5d0"
            ],
            [
             0.7,
             "#b8e186"
            ],
            [
             0.8,
             "#7fbc41"
            ],
            [
             0.9,
             "#4d9221"
            ],
            [
             1,
             "#276419"
            ]
           ],
           "sequential": [
            [
             0,
             "#0d0887"
            ],
            [
             0.1111111111111111,
             "#46039f"
            ],
            [
             0.2222222222222222,
             "#7201a8"
            ],
            [
             0.3333333333333333,
             "#9c179e"
            ],
            [
             0.4444444444444444,
             "#bd3786"
            ],
            [
             0.5555555555555556,
             "#d8576b"
            ],
            [
             0.6666666666666666,
             "#ed7953"
            ],
            [
             0.7777777777777778,
             "#fb9f3a"
            ],
            [
             0.8888888888888888,
             "#fdca26"
            ],
            [
             1,
             "#f0f921"
            ]
           ],
           "sequentialminus": [
            [
             0,
             "#0d0887"
            ],
            [
             0.1111111111111111,
             "#46039f"
            ],
            [
             0.2222222222222222,
             "#7201a8"
            ],
            [
             0.3333333333333333,
             "#9c179e"
            ],
            [
             0.4444444444444444,
             "#bd3786"
            ],
            [
             0.5555555555555556,
             "#d8576b"
            ],
            [
             0.6666666666666666,
             "#ed7953"
            ],
            [
             0.7777777777777778,
             "#fb9f3a"
            ],
            [
             0.8888888888888888,
             "#fdca26"
            ],
            [
             1,
             "#f0f921"
            ]
           ]
          },
          "colorway": [
           "#636efa",
           "#EF553B",
           "#00cc96",
           "#ab63fa",
           "#FFA15A",
           "#19d3f3",
           "#FF6692",
           "#B6E880",
           "#FF97FF",
           "#FECB52"
          ],
          "font": {
           "color": "#2a3f5f"
          },
          "geo": {
           "bgcolor": "white",
           "lakecolor": "white",
           "landcolor": "#E5ECF6",
           "showlakes": true,
           "showland": true,
           "subunitcolor": "white"
          },
          "hoverlabel": {
           "align": "left"
          },
          "hovermode": "closest",
          "mapbox": {
           "style": "light"
          },
          "paper_bgcolor": "white",
          "plot_bgcolor": "#E5ECF6",
          "polar": {
           "angularaxis": {
            "gridcolor": "white",
            "linecolor": "white",
            "ticks": ""
           },
           "bgcolor": "#E5ECF6",
           "radialaxis": {
            "gridcolor": "white",
            "linecolor": "white",
            "ticks": ""
           }
          },
          "scene": {
           "xaxis": {
            "backgroundcolor": "#E5ECF6",
            "gridcolor": "white",
            "gridwidth": 2,
            "linecolor": "white",
            "showbackground": true,
            "ticks": "",
            "zerolinecolor": "white"
           },
           "yaxis": {
            "backgroundcolor": "#E5ECF6",
            "gridcolor": "white",
            "gridwidth": 2,
            "linecolor": "white",
            "showbackground": true,
            "ticks": "",
            "zerolinecolor": "white"
           },
           "zaxis": {
            "backgroundcolor": "#E5ECF6",
            "gridcolor": "white",
            "gridwidth": 2,
            "linecolor": "white",
            "showbackground": true,
            "ticks": "",
            "zerolinecolor": "white"
           }
          },
          "shapedefaults": {
           "line": {
            "color": "#2a3f5f"
           }
          },
          "ternary": {
           "aaxis": {
            "gridcolor": "white",
            "linecolor": "white",
            "ticks": ""
           },
           "baxis": {
            "gridcolor": "white",
            "linecolor": "white",
            "ticks": ""
           },
           "bgcolor": "#E5ECF6",
           "caxis": {
            "gridcolor": "white",
            "linecolor": "white",
            "ticks": ""
           }
          },
          "title": {
           "x": 0.05
          },
          "xaxis": {
           "automargin": true,
           "gridcolor": "white",
           "linecolor": "white",
           "ticks": "",
           "title": {
            "standoff": 15
           },
           "zerolinecolor": "white",
           "zerolinewidth": 2
          },
          "yaxis": {
           "automargin": true,
           "gridcolor": "white",
           "linecolor": "white",
           "ticks": "",
           "title": {
            "standoff": 15
           },
           "zerolinecolor": "white",
           "zerolinewidth": 2
          }
         }
        },
        "title": {
         "text": "(Boosted Tree) Actual Wins vs. Predicted Wins (Test Season: 2023-24)"
        },
        "xaxis": {
         "anchor": "y",
         "domain": [
          0,
          1
         ],
         "title": {
          "text": "Actual Wins"
         }
        },
        "yaxis": {
         "anchor": "x",
         "domain": [
          0,
          1
         ],
         "title": {
          "text": "Predicted Wins"
         }
        }
       }
      }
     },
     "metadata": {},
     "output_type": "display_data"
    }
   ],
   "source": [
    "from sklearn.ensemble import HistGradientBoostingRegressor\n",
    "\n",
    "boosted_tree_model = HistGradientBoostingRegressor(learning_rate=0.01, max_depth=3, max_iter=1000, random_state=RANDOM_SEED, early_stopping=False, min_samples_leaf=1, validation_fraction=0.2)\n",
    "boosted_tree = fit_model_and_evaluate(\"Boosted Tree\", boosted_tree_model, X_train, y_train, X_val, y_val, X_test, y_test=test_df['W'])"
   ]
  },
  {
   "cell_type": "code",
   "execution_count": 315,
   "id": "709df81e",
   "metadata": {},
   "outputs": [
    {
     "name": "stdout",
     "output_type": "stream",
     "text": [
      "\n",
      "Feature Importances: \n",
      "                           feature  importance\n",
      "0     effectiveFieldGoalPercentage    0.407624\n",
      "4  oppEffectiveFieldGoalPercentage    0.335279\n",
      "2           teamTurnoverPercentage    0.074003\n",
      "3       offensiveReboundPercentage    0.049124\n",
      "6        oppTeamTurnoverPercentage    0.038123\n",
      "5          oppFreeThrowAttemptRate    0.032947\n",
      "1             freeThrowAttemptRate    0.031796\n",
      "7    oppOffensiveReboundPercentage    0.031104\n"
     ]
    }
   ],
   "source": [
    "# Get Feature Importance\n",
    "feat_importance = pd.DataFrame({\n",
    "    'feature' : FEATURES,\n",
    "    'importance' : rf_model.feature_importances_\n",
    "}).sort_values('importance', ascending=False)\n",
    "print(\"\\nFeature Importances: \")\n",
    "print(feat_importance)"
   ]
  }
 ],
 "metadata": {
  "kernelspec": {
   "display_name": "Python 3",
   "language": "python",
   "name": "python3"
  },
  "language_info": {
   "codemirror_mode": {
    "name": "ipython",
    "version": 3
   },
   "file_extension": ".py",
   "mimetype": "text/x-python",
   "name": "python",
   "nbconvert_exporter": "python",
   "pygments_lexer": "ipython3",
   "version": "3.13.1"
  }
 },
 "nbformat": 4,
 "nbformat_minor": 5
}
