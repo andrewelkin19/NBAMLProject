{
 "cells": [
  {
   "cell_type": "code",
   "execution_count": 42,
   "id": "72b1c491",
   "metadata": {},
   "outputs": [],
   "source": [
    "import pandas as pd\n",
    "import time\n",
    "from concurrent.futures import ThreadPoolExecutor, as_completed\n",
    "from nba_api.stats.static import teams as static_teams\n",
    "from nba_api.stats.endpoints import BoxScoreFourFactorsV3, TeamGameLog, LeagueStandingsV3\n",
    "from sklearn.linear_model import LinearRegression\n",
    "from sklearn.model_selection import train_test_split\n",
    "import matplotlib.pyplot as plt\n",
    "import plotly.express as px\n",
    "from requests.exceptions import ReadTimeout, ConnectionError\n",
    "import random, math\n",
    "import pathlib"
   ]
  },
  {
   "cell_type": "markdown",
   "id": "fba7f6e4",
   "metadata": {},
   "source": [
    "# Linear Regression\n",
    "### Goal: Predict Final Record of NBA Teams\n",
    "First, I will be using the Four Factors statistics (Effective Field Goal Percentage, Free Throw Rate, Turnover Percentage, Offensive Rebound Rate,\n",
    "Opponent Effective Field Goal Percentage, Opponent Free Throw Rate, Opponent Turnover Percentage, Opponent rebound Rate), which are established to\n",
    "be excellent predictors of team success, with a Linear Regression model trained on the first n games of a season, and then test on a different season\n",
    "given the Four Factor stats from the first n games of that season. "
   ]
  },
  {
   "cell_type": "code",
   "execution_count": null,
   "id": "e1770fd2",
   "metadata": {},
   "outputs": [],
   "source": [
    "COMMON_HEADERS = {\n",
    "    \"User-Agent\": \"Mozilla/5.0 (Windows NT 10.0; Win64; x64) \"\n",
    "                  \"AppleWebKit/537.36 (KHTML, like Gecko) \"\n",
    "                  \"Chrome/124.0 Safari/537.36\",\n",
    "    \"Accept\": \"application/json, text/plain, */*\",\n",
    "    \"Origin\": \"https://www.nba.com\",\n",
    "    \"Referer\": \"https://www.nba.com/\",\n",
    "}\n",
    "\n",
    "CACHE_DIR = pathlib.Path(\"cache_pkl\")\n",
    "CACHE_DIR.mkdir(exist_ok=True)\n",
    "NETWORK_CALLS = 0\n",
    "\n",
    "# Reusable method to pull data from an endpoint of NBA_API, checks if the data has already been saved locally\n",
    "def endpoint(endpoint_cls, *, cache_key=None, max_retries=3, base_sleep=1.5, **kwargs):\n",
    "    global NETWORK_CALLS\n",
    "\n",
    "    # Check if the data has already been retrieved\n",
    "    if cache_key:\n",
    "        path = CACHE_DIR / f\"{cache_key}.pkl\"\n",
    "        if path.exists():\n",
    "            frames = pd.read_pickle(path)\n",
    "\n",
    "            stub = type(\"Stub\", (), {})()\n",
    "            stub.get_data_frames = lambda f=frames: f\n",
    "            stub.team_stats = type(\"DS\", (), {\n",
    "                \"get_data_frame\": staticmethod(lambda df=frames[1] if len(frames) > 1 else frames[0]: df)\n",
    "            })()\n",
    "            stub._from_cache = True\n",
    "            return stub\n",
    "    \n",
    "    # If not pull it from the API\n",
    "    for attempt in range(max_retries):\n",
    "        try:\n",
    "            obj = endpoint_cls(\n",
    "                headers=COMMON_HEADERS,\n",
    "                timeout=60,\n",
    "                **kwargs\n",
    "            )\n",
    "            NETWORK_CALLS += 1\n",
    "            # Save the data to speed up subsequent program runs\n",
    "            if cache_key:\n",
    "                pd.to_pickle(obj.get_data_frames(),\n",
    "                             CACHE_DIR / f\"{cache_key}.pkl\")\n",
    "                    \n",
    "            obj._from_cache = False\n",
    "            return obj\n",
    "        \n",
    "        except (ReadTimeout, ConnectionError):\n",
    "            wait = base_sleep * (2 ** attempt) + random.uniform(0, 0.5)\n",
    "            print(f\"{endpoint_cls.__name__} retry {attempt+1}/{max_retries}\"\n",
    "                  f\" - sleeping {wait:.1f}s\")\n",
    "            time.sleep(wait)\n",
    "            \n",
    "    # Error if we hit max retries\n",
    "    raise RuntimeError(f\"{endpoint_cls.__name__} failed after {max_retries} retries\")\n",
    "            "
   ]
  },
  {
   "cell_type": "code",
   "execution_count": 44,
   "id": "0c338fd2",
   "metadata": {},
   "outputs": [],
   "source": [
    "# Function to get the game IDs from the training set\n",
    "def get_game_ids(team_id, season, n_games):\n",
    "    games = endpoint(\n",
    "        TeamGameLog,\n",
    "        cache_key=f\"gamelog_{team_id}_{season}\",\n",
    "        team_id=team_id,\n",
    "        season=season,\n",
    "        season_type_all_star=\"Regular Season\"\n",
    "        ).get_data_frames()[0]\n",
    "    return games.sort_values(\"GAME_DATE\")[\"Game_ID\"].head(n_games).tolist()"
   ]
  },
  {
   "cell_type": "code",
   "execution_count": null,
   "id": "f0869292",
   "metadata": {},
   "outputs": [],
   "source": [
    "\n",
    "\n",
    "# Features we will be using\n",
    "FEATURES = [\n",
    "    \"effectiveFieldGoalPercentage\",\n",
    "    \"freeThrowAttemptRate\",\n",
    "    \"teamTurnoverPercentage\",\n",
    "    \"offensiveReboundPercentage\",\n",
    "    \"oppEffectiveFieldGoalPercentage\",\n",
    "    \"oppFreeThrowAttemptRate\",\n",
    "    \"oppTeamTurnoverPercentage\",\n",
    "    \"oppOffensiveReboundPercentage\"\n",
    "]\n",
    "\n",
    "# Speed up data retrieval\n",
    "MAX_THREADS = 4\n",
    "PER_REQUEST_SLEEP = 0.5\n",
    "\n",
    "\n",
    "# Get the features from the API endpoint\n",
    "def get_features(game_id, team_id):\n",
    "        stats = endpoint(\n",
    "            BoxScoreFourFactorsV3,\n",
    "            cache_key=f\"bsff_{game_id}\",\n",
    "            game_id=game_id,\n",
    "            start_period=1, start_range=0,\n",
    "            end_period=1, end_range=0,\n",
    "            range_type=0)\n",
    "        team_df = stats.team_stats.get_data_frame()\n",
    "        row = team_df.loc[team_df[\"teamId\"] == team_id, FEATURES]\n",
    "        # Avoid making the API mad\n",
    "        if not getattr(stats, \"_from_cache\", False):\n",
    "            time.sleep(PER_REQUEST_SLEEP)\n",
    "        return row.squeeze().astype(float)\n",
    "    \n"
   ]
  },
  {
   "cell_type": "code",
   "execution_count": 46,
   "id": "ffdc21c2",
   "metadata": {},
   "outputs": [],
   "source": [
    "def combine_rows(team_id, season, n_games):\n",
    "    ids = get_game_ids(team_id, season, n_games)\n",
    "    rows = []\n",
    "    with ThreadPoolExecutor(max_workers=MAX_THREADS) as pool:\n",
    "        futures = [pool.submit(get_features, id, team_id) for id in ids]\n",
    "        for future in as_completed(futures):\n",
    "            rows.append(future.result())\n",
    "    \n",
    "    # Return the mean features for n_games\n",
    "    return pd.concat(rows, axis=1).mean(axis=1)"
   ]
  },
  {
   "cell_type": "code",
   "execution_count": 47,
   "id": "e0ae70f0",
   "metadata": {},
   "outputs": [],
   "source": [
    "def generate_df(season, n_games):\n",
    "    records = []\n",
    "    for team in static_teams.get_teams():\n",
    "        row = combine_rows(team[\"id\"], season, n_games)\n",
    "        row[\"TEAM_NAME\"] = team[\"full_name\"]\n",
    "        row[\"TEAM_ID\"] = team[\"id\"]\n",
    "        records.append(row)\n",
    "    return pd.DataFrame(records)"
   ]
  },
  {
   "cell_type": "code",
   "execution_count": 48,
   "id": "cc954163",
   "metadata": {},
   "outputs": [],
   "source": [
    "# Get the number of wins for each team\n",
    "def get_wins(season, season_type=\"Regular Season\"):\n",
    "    df = endpoint(\n",
    "        LeagueStandingsV3,\n",
    "        cache_key=f\"stand_{season}\",\n",
    "        season=season,\n",
    "        season_type=season_type\n",
    "    ).get_data_frames()[0]\n",
    "    \n",
    "    df = df.rename(columns={\"TeamID\" : \"TEAM_ID\",\n",
    "                            \"TeamName\" : \"TEAM_NAME\",\n",
    "                            \"WINS\" : \"W\"})\n",
    "    return df.drop(columns=[\"TEAM_NAME\"])"
   ]
  },
  {
   "cell_type": "code",
   "execution_count": 49,
   "id": "0720949d",
   "metadata": {},
   "outputs": [],
   "source": [
    "def generate_season_matrix(season, n_games):\n",
    "    features = generate_df(season, n_games)\n",
    "    wins = get_wins(season)\n",
    "    df = features.merge(wins, on=\"TEAM_ID\", how=\"inner\")\n",
    "    df.dropna(subset=FEATURES, inplace=True)\n",
    "    return df\n",
    "    "
   ]
  },
  {
   "cell_type": "code",
   "execution_count": 50,
   "id": "2ac8d554",
   "metadata": {},
   "outputs": [],
   "source": [
    "# Function to fit a linear regression model to the training data\n",
    "def train_lr_model(X_train, y_train):\n",
    "    model = LinearRegression()\n",
    "    model.fit(X_train, y_train)\n",
    "    return model"
   ]
  },
  {
   "cell_type": "code",
   "execution_count": 51,
   "id": "77806a34",
   "metadata": {},
   "outputs": [],
   "source": [
    "# Function to valuate the fit of the Linear Regression model\n",
    "def evaluate_model_lr(model, X_test, y_test):\n",
    "    score = model.score(X_test, y_test)\n",
    "    print(f\"R^2 Stat on test set: {score: .4f}\")"
   ]
  },
  {
   "cell_type": "code",
   "execution_count": 52,
   "id": "c1b15c33",
   "metadata": {},
   "outputs": [],
   "source": [
    "# Plot with Plotly for interactivity\n",
    "def plotly_plot_lr(df, actual_col=\"W\", predicted_col=\"Predicted_Wins\"):\n",
    "    fig = px.scatter(\n",
    "        df,\n",
    "        x=actual_col,\n",
    "        y=predicted_col,\n",
    "        hover_data=[\"TEAM_NAME\"],\n",
    "        labels={actual_col: \"Actual Wins\", predicted_col: \"Predicted Wins\"},\n",
    "        title=\"Actual Wins vs. Predicted Wins (Test Season: 2023-24)\"\n",
    "    )\n",
    "    \n",
    "    # Plot regression\n",
    "    min_val = min(df[actual_col].min(), df[predicted_col].min())\n",
    "    max_val = max(df[actual_col].max(), df[predicted_col].max())\n",
    "    fig.add_shape(\n",
    "        type=\"line\",\n",
    "        x0=min_val, y0=min_val, x1=max_val, y1=max_val,\n",
    "        line=dict(color=\"red\", dash=\"dash\")\n",
    "    )\n",
    "\n",
    "    fig.show()"
   ]
  },
  {
   "cell_type": "code",
   "execution_count": 53,
   "id": "549ec4ac",
   "metadata": {},
   "outputs": [],
   "source": [
    "# Generate final team record predictions from Linear Regression Model\n",
    "def predict_final_record_lr(model, df, features=FEATURES):\n",
    "\n",
    "    X_current = df[features]\n",
    "    predicted_wins = model.predict(X_current)\n",
    "\n",
    "    results_df = pd.DataFrame({\n",
    "        \"TEAM_NAME\": df[\"TEAM_NAME\"],\n",
    "        \"Predicted_Wins\": predicted_wins\n",
    "    })\n",
    "\n",
    "    # Round prediction to nearest integer\n",
    "    results_df[\"Predicted_Wins\"] = results_df[\"Predicted_Wins\"].round().astype(int)\n",
    "    results_df[\"Predicted_Losses\"] = 82 - results_df[\"Predicted_Wins\"]\n",
    "    \n",
    "    return results_df"
   ]
  },
  {
   "cell_type": "code",
   "execution_count": 54,
   "id": "4fb2004b",
   "metadata": {},
   "outputs": [
    {
     "name": "stdout",
     "output_type": "stream",
     "text": [
      "Network Calls:  0\n",
      "R2 on 2023-2024 data: 0.7625\n"
     ]
    },
    {
     "data": {
      "application/vnd.plotly.v1+json": {
       "config": {
        "plotlyServerURL": "https://plot.ly"
       },
       "data": [
        {
         "customdata": [
          [
           "Atlanta Hawks"
          ],
          [
           "Boston Celtics"
          ],
          [
           "Cleveland Cavaliers"
          ],
          [
           "New Orleans Pelicans"
          ],
          [
           "Chicago Bulls"
          ],
          [
           "Dallas Mavericks"
          ],
          [
           "Denver Nuggets"
          ],
          [
           "Golden State Warriors"
          ],
          [
           "Houston Rockets"
          ],
          [
           "Los Angeles Clippers"
          ],
          [
           "Los Angeles Lakers"
          ],
          [
           "Miami Heat"
          ],
          [
           "Milwaukee Bucks"
          ],
          [
           "Minnesota Timberwolves"
          ],
          [
           "Brooklyn Nets"
          ],
          [
           "New York Knicks"
          ],
          [
           "Orlando Magic"
          ],
          [
           "Indiana Pacers"
          ],
          [
           "Philadelphia 76ers"
          ],
          [
           "Phoenix Suns"
          ],
          [
           "Portland Trail Blazers"
          ],
          [
           "Sacramento Kings"
          ],
          [
           "San Antonio Spurs"
          ],
          [
           "Oklahoma City Thunder"
          ],
          [
           "Toronto Raptors"
          ],
          [
           "Utah Jazz"
          ],
          [
           "Memphis Grizzlies"
          ],
          [
           "Washington Wizards"
          ],
          [
           "Detroit Pistons"
          ],
          [
           "Charlotte Hornets"
          ]
         ],
         "hovertemplate": "Actual Wins=%{x}<br>Predicted Wins=%{y}<br>TEAM_NAME=%{customdata[0]}<extra></extra>",
         "legendgroup": "",
         "marker": {
          "color": "#636efa",
          "symbol": "circle"
         },
         "mode": "markers",
         "name": "",
         "orientation": "v",
         "showlegend": false,
         "type": "scatter",
         "x": {
          "bdata": "JEAwMScyOS4pMy8uMTggMi8vLzEVLhY5GR8bDw4V",
          "dtype": "i1"
         },
         "xaxis": "x",
         "y": {
          "bdata": "G0UrMCouPDQoMjMwNjUjKyUvRiwXMCE7HB0iGAwT",
          "dtype": "i1"
         },
         "yaxis": "y"
        }
       ],
       "layout": {
        "legend": {
         "tracegroupgap": 0
        },
        "shapes": [
         {
          "line": {
           "color": "red",
           "dash": "dash"
          },
          "type": "line",
          "x0": 12,
          "x1": 70,
          "y0": 12,
          "y1": 70
         }
        ],
        "template": {
         "data": {
          "bar": [
           {
            "error_x": {
             "color": "#2a3f5f"
            },
            "error_y": {
             "color": "#2a3f5f"
            },
            "marker": {
             "line": {
              "color": "#E5ECF6",
              "width": 0.5
             },
             "pattern": {
              "fillmode": "overlay",
              "size": 10,
              "solidity": 0.2
             }
            },
            "type": "bar"
           }
          ],
          "barpolar": [
           {
            "marker": {
             "line": {
              "color": "#E5ECF6",
              "width": 0.5
             },
             "pattern": {
              "fillmode": "overlay",
              "size": 10,
              "solidity": 0.2
             }
            },
            "type": "barpolar"
           }
          ],
          "carpet": [
           {
            "aaxis": {
             "endlinecolor": "#2a3f5f",
             "gridcolor": "white",
             "linecolor": "white",
             "minorgridcolor": "white",
             "startlinecolor": "#2a3f5f"
            },
            "baxis": {
             "endlinecolor": "#2a3f5f",
             "gridcolor": "white",
             "linecolor": "white",
             "minorgridcolor": "white",
             "startlinecolor": "#2a3f5f"
            },
            "type": "carpet"
           }
          ],
          "choropleth": [
           {
            "colorbar": {
             "outlinewidth": 0,
             "ticks": ""
            },
            "type": "choropleth"
           }
          ],
          "contour": [
           {
            "colorbar": {
             "outlinewidth": 0,
             "ticks": ""
            },
            "colorscale": [
             [
              0,
              "#0d0887"
             ],
             [
              0.1111111111111111,
              "#46039f"
             ],
             [
              0.2222222222222222,
              "#7201a8"
             ],
             [
              0.3333333333333333,
              "#9c179e"
             ],
             [
              0.4444444444444444,
              "#bd3786"
             ],
             [
              0.5555555555555556,
              "#d8576b"
             ],
             [
              0.6666666666666666,
              "#ed7953"
             ],
             [
              0.7777777777777778,
              "#fb9f3a"
             ],
             [
              0.8888888888888888,
              "#fdca26"
             ],
             [
              1,
              "#f0f921"
             ]
            ],
            "type": "contour"
           }
          ],
          "contourcarpet": [
           {
            "colorbar": {
             "outlinewidth": 0,
             "ticks": ""
            },
            "type": "contourcarpet"
           }
          ],
          "heatmap": [
           {
            "colorbar": {
             "outlinewidth": 0,
             "ticks": ""
            },
            "colorscale": [
             [
              0,
              "#0d0887"
             ],
             [
              0.1111111111111111,
              "#46039f"
             ],
             [
              0.2222222222222222,
              "#7201a8"
             ],
             [
              0.3333333333333333,
              "#9c179e"
             ],
             [
              0.4444444444444444,
              "#bd3786"
             ],
             [
              0.5555555555555556,
              "#d8576b"
             ],
             [
              0.6666666666666666,
              "#ed7953"
             ],
             [
              0.7777777777777778,
              "#fb9f3a"
             ],
             [
              0.8888888888888888,
              "#fdca26"
             ],
             [
              1,
              "#f0f921"
             ]
            ],
            "type": "heatmap"
           }
          ],
          "histogram": [
           {
            "marker": {
             "pattern": {
              "fillmode": "overlay",
              "size": 10,
              "solidity": 0.2
             }
            },
            "type": "histogram"
           }
          ],
          "histogram2d": [
           {
            "colorbar": {
             "outlinewidth": 0,
             "ticks": ""
            },
            "colorscale": [
             [
              0,
              "#0d0887"
             ],
             [
              0.1111111111111111,
              "#46039f"
             ],
             [
              0.2222222222222222,
              "#7201a8"
             ],
             [
              0.3333333333333333,
              "#9c179e"
             ],
             [
              0.4444444444444444,
              "#bd3786"
             ],
             [
              0.5555555555555556,
              "#d8576b"
             ],
             [
              0.6666666666666666,
              "#ed7953"
             ],
             [
              0.7777777777777778,
              "#fb9f3a"
             ],
             [
              0.8888888888888888,
              "#fdca26"
             ],
             [
              1,
              "#f0f921"
             ]
            ],
            "type": "histogram2d"
           }
          ],
          "histogram2dcontour": [
           {
            "colorbar": {
             "outlinewidth": 0,
             "ticks": ""
            },
            "colorscale": [
             [
              0,
              "#0d0887"
             ],
             [
              0.1111111111111111,
              "#46039f"
             ],
             [
              0.2222222222222222,
              "#7201a8"
             ],
             [
              0.3333333333333333,
              "#9c179e"
             ],
             [
              0.4444444444444444,
              "#bd3786"
             ],
             [
              0.5555555555555556,
              "#d8576b"
             ],
             [
              0.6666666666666666,
              "#ed7953"
             ],
             [
              0.7777777777777778,
              "#fb9f3a"
             ],
             [
              0.8888888888888888,
              "#fdca26"
             ],
             [
              1,
              "#f0f921"
             ]
            ],
            "type": "histogram2dcontour"
           }
          ],
          "mesh3d": [
           {
            "colorbar": {
             "outlinewidth": 0,
             "ticks": ""
            },
            "type": "mesh3d"
           }
          ],
          "parcoords": [
           {
            "line": {
             "colorbar": {
              "outlinewidth": 0,
              "ticks": ""
             }
            },
            "type": "parcoords"
           }
          ],
          "pie": [
           {
            "automargin": true,
            "type": "pie"
           }
          ],
          "scatter": [
           {
            "fillpattern": {
             "fillmode": "overlay",
             "size": 10,
             "solidity": 0.2
            },
            "type": "scatter"
           }
          ],
          "scatter3d": [
           {
            "line": {
             "colorbar": {
              "outlinewidth": 0,
              "ticks": ""
             }
            },
            "marker": {
             "colorbar": {
              "outlinewidth": 0,
              "ticks": ""
             }
            },
            "type": "scatter3d"
           }
          ],
          "scattercarpet": [
           {
            "marker": {
             "colorbar": {
              "outlinewidth": 0,
              "ticks": ""
             }
            },
            "type": "scattercarpet"
           }
          ],
          "scattergeo": [
           {
            "marker": {
             "colorbar": {
              "outlinewidth": 0,
              "ticks": ""
             }
            },
            "type": "scattergeo"
           }
          ],
          "scattergl": [
           {
            "marker": {
             "colorbar": {
              "outlinewidth": 0,
              "ticks": ""
             }
            },
            "type": "scattergl"
           }
          ],
          "scattermap": [
           {
            "marker": {
             "colorbar": {
              "outlinewidth": 0,
              "ticks": ""
             }
            },
            "type": "scattermap"
           }
          ],
          "scattermapbox": [
           {
            "marker": {
             "colorbar": {
              "outlinewidth": 0,
              "ticks": ""
             }
            },
            "type": "scattermapbox"
           }
          ],
          "scatterpolar": [
           {
            "marker": {
             "colorbar": {
              "outlinewidth": 0,
              "ticks": ""
             }
            },
            "type": "scatterpolar"
           }
          ],
          "scatterpolargl": [
           {
            "marker": {
             "colorbar": {
              "outlinewidth": 0,
              "ticks": ""
             }
            },
            "type": "scatterpolargl"
           }
          ],
          "scatterternary": [
           {
            "marker": {
             "colorbar": {
              "outlinewidth": 0,
              "ticks": ""
             }
            },
            "type": "scatterternary"
           }
          ],
          "surface": [
           {
            "colorbar": {
             "outlinewidth": 0,
             "ticks": ""
            },
            "colorscale": [
             [
              0,
              "#0d0887"
             ],
             [
              0.1111111111111111,
              "#46039f"
             ],
             [
              0.2222222222222222,
              "#7201a8"
             ],
             [
              0.3333333333333333,
              "#9c179e"
             ],
             [
              0.4444444444444444,
              "#bd3786"
             ],
             [
              0.5555555555555556,
              "#d8576b"
             ],
             [
              0.6666666666666666,
              "#ed7953"
             ],
             [
              0.7777777777777778,
              "#fb9f3a"
             ],
             [
              0.8888888888888888,
              "#fdca26"
             ],
             [
              1,
              "#f0f921"
             ]
            ],
            "type": "surface"
           }
          ],
          "table": [
           {
            "cells": {
             "fill": {
              "color": "#EBF0F8"
             },
             "line": {
              "color": "white"
             }
            },
            "header": {
             "fill": {
              "color": "#C8D4E3"
             },
             "line": {
              "color": "white"
             }
            },
            "type": "table"
           }
          ]
         },
         "layout": {
          "annotationdefaults": {
           "arrowcolor": "#2a3f5f",
           "arrowhead": 0,
           "arrowwidth": 1
          },
          "autotypenumbers": "strict",
          "coloraxis": {
           "colorbar": {
            "outlinewidth": 0,
            "ticks": ""
           }
          },
          "colorscale": {
           "diverging": [
            [
             0,
             "#8e0152"
            ],
            [
             0.1,
             "#c51b7d"
            ],
            [
             0.2,
             "#de77ae"
            ],
            [
             0.3,
             "#f1b6da"
            ],
            [
             0.4,
             "#fde0ef"
            ],
            [
             0.5,
             "#f7f7f7"
            ],
            [
             0.6,
             "#e6f5d0"
            ],
            [
             0.7,
             "#b8e186"
            ],
            [
             0.8,
             "#7fbc41"
            ],
            [
             0.9,
             "#4d9221"
            ],
            [
             1,
             "#276419"
            ]
           ],
           "sequential": [
            [
             0,
             "#0d0887"
            ],
            [
             0.1111111111111111,
             "#46039f"
            ],
            [
             0.2222222222222222,
             "#7201a8"
            ],
            [
             0.3333333333333333,
             "#9c179e"
            ],
            [
             0.4444444444444444,
             "#bd3786"
            ],
            [
             0.5555555555555556,
             "#d8576b"
            ],
            [
             0.6666666666666666,
             "#ed7953"
            ],
            [
             0.7777777777777778,
             "#fb9f3a"
            ],
            [
             0.8888888888888888,
             "#fdca26"
            ],
            [
             1,
             "#f0f921"
            ]
           ],
           "sequentialminus": [
            [
             0,
             "#0d0887"
            ],
            [
             0.1111111111111111,
             "#46039f"
            ],
            [
             0.2222222222222222,
             "#7201a8"
            ],
            [
             0.3333333333333333,
             "#9c179e"
            ],
            [
             0.4444444444444444,
             "#bd3786"
            ],
            [
             0.5555555555555556,
             "#d8576b"
            ],
            [
             0.6666666666666666,
             "#ed7953"
            ],
            [
             0.7777777777777778,
             "#fb9f3a"
            ],
            [
             0.8888888888888888,
             "#fdca26"
            ],
            [
             1,
             "#f0f921"
            ]
           ]
          },
          "colorway": [
           "#636efa",
           "#EF553B",
           "#00cc96",
           "#ab63fa",
           "#FFA15A",
           "#19d3f3",
           "#FF6692",
           "#B6E880",
           "#FF97FF",
           "#FECB52"
          ],
          "font": {
           "color": "#2a3f5f"
          },
          "geo": {
           "bgcolor": "white",
           "lakecolor": "white",
           "landcolor": "#E5ECF6",
           "showlakes": true,
           "showland": true,
           "subunitcolor": "white"
          },
          "hoverlabel": {
           "align": "left"
          },
          "hovermode": "closest",
          "mapbox": {
           "style": "light"
          },
          "paper_bgcolor": "white",
          "plot_bgcolor": "#E5ECF6",
          "polar": {
           "angularaxis": {
            "gridcolor": "white",
            "linecolor": "white",
            "ticks": ""
           },
           "bgcolor": "#E5ECF6",
           "radialaxis": {
            "gridcolor": "white",
            "linecolor": "white",
            "ticks": ""
           }
          },
          "scene": {
           "xaxis": {
            "backgroundcolor": "#E5ECF6",
            "gridcolor": "white",
            "gridwidth": 2,
            "linecolor": "white",
            "showbackground": true,
            "ticks": "",
            "zerolinecolor": "white"
           },
           "yaxis": {
            "backgroundcolor": "#E5ECF6",
            "gridcolor": "white",
            "gridwidth": 2,
            "linecolor": "white",
            "showbackground": true,
            "ticks": "",
            "zerolinecolor": "white"
           },
           "zaxis": {
            "backgroundcolor": "#E5ECF6",
            "gridcolor": "white",
            "gridwidth": 2,
            "linecolor": "white",
            "showbackground": true,
            "ticks": "",
            "zerolinecolor": "white"
           }
          },
          "shapedefaults": {
           "line": {
            "color": "#2a3f5f"
           }
          },
          "ternary": {
           "aaxis": {
            "gridcolor": "white",
            "linecolor": "white",
            "ticks": ""
           },
           "baxis": {
            "gridcolor": "white",
            "linecolor": "white",
            "ticks": ""
           },
           "bgcolor": "#E5ECF6",
           "caxis": {
            "gridcolor": "white",
            "linecolor": "white",
            "ticks": ""
           }
          },
          "title": {
           "x": 0.05
          },
          "xaxis": {
           "automargin": true,
           "gridcolor": "white",
           "linecolor": "white",
           "ticks": "",
           "title": {
            "standoff": 15
           },
           "zerolinecolor": "white",
           "zerolinewidth": 2
          },
          "yaxis": {
           "automargin": true,
           "gridcolor": "white",
           "linecolor": "white",
           "ticks": "",
           "title": {
            "standoff": 15
           },
           "zerolinecolor": "white",
           "zerolinewidth": 2
          }
         }
        },
        "title": {
         "text": "Actual Wins vs. Predicted Wins (Test Season: 2023-24)"
        },
        "xaxis": {
         "anchor": "y",
         "domain": [
          0,
          1
         ],
         "title": {
          "text": "Actual Wins"
         }
        },
        "yaxis": {
         "anchor": "x",
         "domain": [
          0,
          1
         ],
         "title": {
          "text": "Predicted Wins"
         }
        }
       }
      }
     },
     "metadata": {},
     "output_type": "display_data"
    },
    {
     "name": "stdout",
     "output_type": "stream",
     "text": [
      "             TEAM_NAME  Actual_Wins  Predicted_Wins  Predicted_Losses\n",
      "        Boston Celtics           64              69                13\n",
      "        Denver Nuggets           57              60                22\n",
      " Oklahoma City Thunder           57              59                23\n",
      "Minnesota Timberwolves           56              53                29\n",
      "  Los Angeles Clippers           51              50                32\n",
      "      Dallas Mavericks           50              46                36\n",
      "       New York Knicks           50              43                39\n",
      "          Phoenix Suns           49              44                38\n",
      "       Milwaukee Bucks           49              54                28\n",
      "  New Orleans Pelicans           49              48                34\n",
      "   Cleveland Cavaliers           48              43                39\n",
      "        Indiana Pacers           47              47                35\n",
      "    Los Angeles Lakers           47              51                31\n",
      "    Philadelphia 76ers           47              70                12\n",
      "         Orlando Magic           47              37                45\n",
      " Golden State Warriors           46              52                30\n",
      "      Sacramento Kings           46              48                34\n",
      "            Miami Heat           46              48                34\n",
      "       Houston Rockets           41              40                42\n",
      "         Chicago Bulls           39              42                40\n",
      "         Atlanta Hawks           36              27                55\n",
      "         Brooklyn Nets           32              35                47\n",
      "             Utah Jazz           31              29                53\n",
      "     Memphis Grizzlies           27              34                48\n",
      "       Toronto Raptors           25              28                54\n",
      "     San Antonio Spurs           22              33                49\n",
      "Portland Trail Blazers           21              23                59\n",
      "     Charlotte Hornets           21              19                63\n",
      "    Washington Wizards           15              24                58\n",
      "       Detroit Pistons           14              12                70\n"
     ]
    }
   ],
   "source": [
    "N_GAMES = 20\n",
    "# Train Model\n",
    "train_df = generate_season_matrix(\"2022-23\", N_GAMES)\n",
    "X_train = train_df[FEATURES]\n",
    "y_train = train_df[\"W\"]\n",
    "\n",
    "model = train_lr_model(X_train, y_train)\n",
    "\n",
    "test_df = generate_season_matrix(\"2023-24\", N_GAMES)\n",
    "X_test = test_df[FEATURES]\n",
    "y_test = test_df[\"W\"]\n",
    "\n",
    "\n",
    "# Generate Predictions\n",
    "y_pred = model.predict(X_test).round()\n",
    "\n",
    "result = test_df[[\"TEAM_NAME\", \"W\"]].copy()\n",
    "result[\"Predicted_Wins\"] = y_pred.astype(int)\n",
    "result[\"Predicted_Losses\"] = 82 - result[\"Predicted_Wins\"]\n",
    "\n",
    "print(\"Network Calls: \", NETWORK_CALLS)\n",
    "# Get R^2\n",
    "r2 = model.score(X_test, y_test)\n",
    "\n",
    "print(f\"R2 on 2023-2024 data: {r2:.4f}\")\n",
    "\n",
    "# Generate plot\n",
    "plotly_plot_lr(result, actual_col=\"W\", predicted_col=\"Predicted_Wins\")\n",
    "\n",
    "# Print chart of Predicted vs. Actual Wins\n",
    "show_df = result.rename(columns={\"W\" : \"Actual_Wins\"}).sort_values(\"Actual_Wins\", ascending=False)\n",
    "print(show_df.to_string(index=False))\n"
   ]
  }
 ],
 "metadata": {
  "kernelspec": {
   "display_name": "Python 3",
   "language": "python",
   "name": "python3"
  },
  "language_info": {
   "codemirror_mode": {
    "name": "ipython",
    "version": 3
   },
   "file_extension": ".py",
   "mimetype": "text/x-python",
   "name": "python",
   "nbconvert_exporter": "python",
   "pygments_lexer": "ipython3",
   "version": "3.13.2"
  }
 },
 "nbformat": 4,
 "nbformat_minor": 5
}
