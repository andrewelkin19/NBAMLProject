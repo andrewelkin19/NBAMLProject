{
 "cells": [
  {
   "cell_type": "code",
   "execution_count": 137,
   "id": "72b1c491",
   "metadata": {},
   "outputs": [],
   "source": [
    "import pandas as pd\n",
    "import time\n",
    "from concurrent.futures import ThreadPoolExecutor, as_completed\n",
    "from nba_api.stats.static import teams as static_teams\n",
    "from nba_api.stats.endpoints import BoxScoreFourFactorsV3, TeamGameLog, LeagueStandingsV3\n",
    "from sklearn.linear_model import LinearRegression\n",
    "from sklearn.model_selection import train_test_split\n",
    "import matplotlib.pyplot as plt\n",
    "import plotly.express as px\n",
    "from requests.exceptions import ReadTimeout, ConnectionError\n",
    "import random, math"
   ]
  },
  {
   "cell_type": "code",
   "execution_count": 138,
   "id": "e1770fd2",
   "metadata": {},
   "outputs": [],
   "source": [
    "COMMON_HEADERS = {\n",
    "    \"User-Agent\": \"Mozilla/5.0 (Windows NT 10.0; Win64; x64) \"\n",
    "                  \"AppleWebKit/537.36 (KHTML, like Gecko) \"\n",
    "                  \"Chrome/124.0 Safari/537.36\",\n",
    "    \"Accept\": \"application/json, text/plain, */*\",\n",
    "    \"Origin\": \"https://www.nba.com\",\n",
    "    \"Referer\": \"https://www.nba.com/\",\n",
    "}\n",
    "\n",
    "def endpoint(endpoint_cls, max_retries=3, base_sleep=1.5, **kwargs):\n",
    "    for attempt in range(max_retries):\n",
    "        try:\n",
    "            return endpoint_cls(\n",
    "                headers=COMMON_HEADERS,\n",
    "                timeout=60,\n",
    "                **kwargs\n",
    "            )\n",
    "        except (ReadTimeout, ConnectionError):\n",
    "            wait = base_sleep * (2 ** attempt) + random.uniform(0, 0.5)\n",
    "            print(f\"{endpoint_cls.__name__} retry {attempt+1}/{max_retries}\"\n",
    "                  f\" - sleeping {wait:.1f}s\")\n",
    "            time.sleep(wait)\n",
    "            \n",
    "        # Error if we hit max retries\n",
    "        raise RuntimeError(f\"{endpoint_cls.__name__} failed after {max_retries} retries\")\n",
    "            "
   ]
  },
  {
   "cell_type": "code",
   "execution_count": 139,
   "id": "0c338fd2",
   "metadata": {},
   "outputs": [],
   "source": [
    "# Function to get the game IDs from the training set\n",
    "def get_game_ids(team_id, season, n_games):\n",
    "    games = endpoint(\n",
    "        TeamGameLog,\n",
    "        team_id=team_id,\n",
    "        season=season,\n",
    "        season_type_all_star=\"Regular Season\"\n",
    "        ).get_data_frames()[0]\n",
    "    return games.sort_values(\"GAME_DATE\")[\"Game_ID\"].head(n_games).tolist()"
   ]
  },
  {
   "cell_type": "code",
   "execution_count": 140,
   "id": "f0869292",
   "metadata": {},
   "outputs": [],
   "source": [
    "\n",
    "\n",
    "# Features we will be using\n",
    "FEATURES = [\n",
    "    \"effectiveFieldGoalPercentage\",\n",
    "    \"freeThrowAttemptRate\",\n",
    "    \"teamTurnoverPercentage\",\n",
    "    \"offensiveReboundPercentage\",\n",
    "    \"oppEffectiveFieldGoalPercentage\",\n",
    "    \"oppFreeThrowAttemptRate\",\n",
    "    \"oppTeamTurnoverPercentage\",\n",
    "    \"oppOffensiveReboundPercentage\"\n",
    "]\n",
    "\n",
    "# Speed up data retrieval\n",
    "MAX_THREADS = 4\n",
    "PER_REQUEST_SLEEP = 0.5\n",
    "\n",
    "\n",
    "# Get the features from the API endpoint\n",
    "def get_features(game_id, team_id):\n",
    "    try:\n",
    "        stats = endpoint(\n",
    "            BoxScoreFourFactorsV3,\n",
    "            game_id=game_id,\n",
    "            start_period=1, start_range=0,\n",
    "            end_period=1, end_range=0,\n",
    "            range_type=0)\n",
    "        team_df = stats.team_stats.get_data_frame()\n",
    "        row = team_df.loc[team_df[\"teamId\"] == team_id, FEATURES]\n",
    "        return row.squeeze().astype(float)\n",
    "    finally:\n",
    "        # Avoid making the API mad\n",
    "        time.sleep(PER_REQUEST_SLEEP)\n"
   ]
  },
  {
   "cell_type": "code",
   "execution_count": 141,
   "id": "ffdc21c2",
   "metadata": {},
   "outputs": [],
   "source": [
    "def combine_rows(team_id, season, n_games):\n",
    "    ids = get_game_ids(team_id, season, n_games)\n",
    "    rows = []\n",
    "    with ThreadPoolExecutor(max_workers=MAX_THREADS) as pool:\n",
    "        futures = [pool.submit(get_features, id, team_id) for id in ids]\n",
    "        for future in as_completed(futures):\n",
    "            rows.append(future.result())\n",
    "        #time.sleep(0.6)\n",
    "    \n",
    "    # Return the mean features for n_games\n",
    "    return pd.concat(rows, axis=1).mean(axis=1)"
   ]
  },
  {
   "cell_type": "code",
   "execution_count": 142,
   "id": "e0ae70f0",
   "metadata": {},
   "outputs": [],
   "source": [
    "def generate_df(season, n_games):\n",
    "    records = []\n",
    "    for team in static_teams.get_teams():\n",
    "        row = combine_rows(team[\"id\"], season, n_games)\n",
    "        row[\"TEAM_NAME\"] = team[\"full_name\"]\n",
    "        row[\"TEAM_ID\"] = team[\"id\"]\n",
    "        records.append(row)\n",
    "    return pd.DataFrame(records)"
   ]
  },
  {
   "cell_type": "code",
   "execution_count": 143,
   "id": "cc954163",
   "metadata": {},
   "outputs": [],
   "source": [
    "# Get the number of wins for each team\n",
    "def get_wins(season, season_type=\"Regular Season\"):\n",
    "    df = endpoint(\n",
    "        LeagueStandingsV3,\n",
    "        season=season,\n",
    "        season_type=season_type\n",
    "    ).get_data_frames()[0]\n",
    "    \n",
    "    df = df.rename(columns={\"TeamID\" : \"TEAM_ID\",\n",
    "                            \"TeamName\" : \"TEAM_NAME\",\n",
    "                            \"WINS\" : \"W\"})\n",
    "    return df[[\"TEAM_ID\", \"TEAM_NAME\", \"W\"]].astype({\"W\" : int})"
   ]
  },
  {
   "cell_type": "code",
   "execution_count": 144,
   "id": "0720949d",
   "metadata": {},
   "outputs": [],
   "source": [
    "def generate_season_matrix(season, n_games):\n",
    "    features = generate_df(season, n_games)\n",
    "    wins = get_wins(season)\n",
    "    df = features.merge(wins, on=\"TEAM_ID\", how=\"inner\")\n",
    "    df.dropna(subset=FEATURES, inplace=True)\n",
    "    return df\n",
    "    "
   ]
  },
  {
   "cell_type": "code",
   "execution_count": 145,
   "id": "2ac8d554",
   "metadata": {},
   "outputs": [],
   "source": [
    "# Function to fit a linear regression model to the training data\n",
    "def train_lr_model(X_train, y_train):\n",
    "    model = LinearRegression()\n",
    "    model.fit(X_train, y_train)\n",
    "    return model"
   ]
  },
  {
   "cell_type": "code",
   "execution_count": 146,
   "id": "77806a34",
   "metadata": {},
   "outputs": [],
   "source": [
    "# Function to valuate the fit of the Linear Regression model\n",
    "def evaluate_model_lr(model, X_test, y_test):\n",
    "    score = model.score(X_test, y_test)\n",
    "    print(f\"R^2 Stat on test set: {score: .4f}\")"
   ]
  },
  {
   "cell_type": "code",
   "execution_count": 147,
   "id": "c1b15c33",
   "metadata": {},
   "outputs": [],
   "source": [
    "# Plot with Plotly for interactivity\n",
    "def plotly_plot_lr(df, actual_col=\"W\", predicted_col=\"Predicted_Wins\"):\n",
    "    fig = px.scatter(\n",
    "        df,\n",
    "        x=actual_col,\n",
    "        y=predicted_col,\n",
    "        hover_data=[\"TEAM_NAME\"],\n",
    "        labels={actual_col: \"Actual Wins\", predicted_col: \"Predicted Wins\"},\n",
    "        title=\"Actual Wins vs. Predicted Wins (Test Season: 2023-24)\"\n",
    "    )\n",
    "    \n",
    "    # Plot regression\n",
    "    min_val = min(df[actual_col].min(), df[predicted_col].min())\n",
    "    max_val = max(df[actual_col].max(), df[predicted_col].max())\n",
    "    fig.add_shape(\n",
    "        type=\"line\",\n",
    "        x0=min_val, y0=min_val, x1=max_val, y1=max_val,\n",
    "        line=dict(color=\"red\", dash=\"dash\")\n",
    "    )\n",
    "\n",
    "    fig.show()"
   ]
  },
  {
   "cell_type": "code",
   "execution_count": 148,
   "id": "549ec4ac",
   "metadata": {},
   "outputs": [],
   "source": [
    "# Generate final team record predictions from Linear Regression Model\n",
    "def predict_final_record_lr(model, df, features=FEATURES):\n",
    "\n",
    "    X_current = df[features]\n",
    "    predicted_wins = model.predict(X_current)\n",
    "\n",
    "    results_df = pd.DataFrame({\n",
    "        \"TEAM_NAME\": df[\"TEAM_NAME\"],\n",
    "        \"Predicted_Wins\": predicted_wins\n",
    "    })\n",
    "\n",
    "    # Round prediction to nearest integer\n",
    "    results_df[\"Predicted_Wins\"] = results_df[\"Predicted_Wins\"].round().astype(int)\n",
    "    results_df[\"Predicted_Losses\"] = 82 - results_df[\"Predicted_Wins\"]\n",
    "    \n",
    "    return results_df"
   ]
  },
  {
   "cell_type": "code",
   "execution_count": 149,
   "id": "4fb2004b",
   "metadata": {},
   "outputs": [
    {
     "ename": "KeyError",
     "evalue": "\"['TEAM_NAME'] not in index\"",
     "output_type": "error",
     "traceback": [
      "\u001b[31m---------------------------------------------------------------------------\u001b[39m",
      "\u001b[31mKeyError\u001b[39m                                  Traceback (most recent call last)",
      "\u001b[36mCell\u001b[39m\u001b[36m \u001b[39m\u001b[32mIn[149]\u001b[39m\u001b[32m, line 15\u001b[39m\n\u001b[32m     10\u001b[39m y_test = test_df[\u001b[33m\"\u001b[39m\u001b[33mW\u001b[39m\u001b[33m\"\u001b[39m]\n\u001b[32m     13\u001b[39m y_pred = model.predict(X_test).round()\n\u001b[32m---> \u001b[39m\u001b[32m15\u001b[39m result = \u001b[43mtest_df\u001b[49m\u001b[43m[\u001b[49m\u001b[43m[\u001b[49m\u001b[33;43m\"\u001b[39;49m\u001b[33;43mTEAM_NAME\u001b[39;49m\u001b[33;43m\"\u001b[39;49m\u001b[43m,\u001b[49m\u001b[43m \u001b[49m\u001b[33;43m\"\u001b[39;49m\u001b[33;43mW\u001b[39;49m\u001b[33;43m\"\u001b[39;49m\u001b[43m]\u001b[49m\u001b[43m]\u001b[49m.copy()\n\u001b[32m     16\u001b[39m result[\u001b[33m\"\u001b[39m\u001b[33mPredicted_Wins\u001b[39m\u001b[33m\"\u001b[39m] = y_pred.astype(\u001b[38;5;28mint\u001b[39m)\n\u001b[32m     17\u001b[39m result[\u001b[33m\"\u001b[39m\u001b[33mPredicted_Losses\u001b[39m\u001b[33m\"\u001b[39m] = \u001b[32m82\u001b[39m - result[\u001b[33m\"\u001b[39m\u001b[33mPredicted_Wins\u001b[39m\u001b[33m\"\u001b[39m]\n",
      "\u001b[36mFile \u001b[39m\u001b[32mc:\\Users\\andre\\AppData\\Local\\Programs\\Python\\Python313\\Lib\\site-packages\\pandas\\core\\frame.py:4108\u001b[39m, in \u001b[36mDataFrame.__getitem__\u001b[39m\u001b[34m(self, key)\u001b[39m\n\u001b[32m   4106\u001b[39m     \u001b[38;5;28;01mif\u001b[39;00m is_iterator(key):\n\u001b[32m   4107\u001b[39m         key = \u001b[38;5;28mlist\u001b[39m(key)\n\u001b[32m-> \u001b[39m\u001b[32m4108\u001b[39m     indexer = \u001b[38;5;28;43mself\u001b[39;49m\u001b[43m.\u001b[49m\u001b[43mcolumns\u001b[49m\u001b[43m.\u001b[49m\u001b[43m_get_indexer_strict\u001b[49m\u001b[43m(\u001b[49m\u001b[43mkey\u001b[49m\u001b[43m,\u001b[49m\u001b[43m \u001b[49m\u001b[33;43m\"\u001b[39;49m\u001b[33;43mcolumns\u001b[39;49m\u001b[33;43m\"\u001b[39;49m\u001b[43m)\u001b[49m[\u001b[32m1\u001b[39m]\n\u001b[32m   4110\u001b[39m \u001b[38;5;66;03m# take() does not accept boolean indexers\u001b[39;00m\n\u001b[32m   4111\u001b[39m \u001b[38;5;28;01mif\u001b[39;00m \u001b[38;5;28mgetattr\u001b[39m(indexer, \u001b[33m\"\u001b[39m\u001b[33mdtype\u001b[39m\u001b[33m\"\u001b[39m, \u001b[38;5;28;01mNone\u001b[39;00m) == \u001b[38;5;28mbool\u001b[39m:\n",
      "\u001b[36mFile \u001b[39m\u001b[32mc:\\Users\\andre\\AppData\\Local\\Programs\\Python\\Python313\\Lib\\site-packages\\pandas\\core\\indexes\\base.py:6200\u001b[39m, in \u001b[36mIndex._get_indexer_strict\u001b[39m\u001b[34m(self, key, axis_name)\u001b[39m\n\u001b[32m   6197\u001b[39m \u001b[38;5;28;01melse\u001b[39;00m:\n\u001b[32m   6198\u001b[39m     keyarr, indexer, new_indexer = \u001b[38;5;28mself\u001b[39m._reindex_non_unique(keyarr)\n\u001b[32m-> \u001b[39m\u001b[32m6200\u001b[39m \u001b[38;5;28;43mself\u001b[39;49m\u001b[43m.\u001b[49m\u001b[43m_raise_if_missing\u001b[49m\u001b[43m(\u001b[49m\u001b[43mkeyarr\u001b[49m\u001b[43m,\u001b[49m\u001b[43m \u001b[49m\u001b[43mindexer\u001b[49m\u001b[43m,\u001b[49m\u001b[43m \u001b[49m\u001b[43maxis_name\u001b[49m\u001b[43m)\u001b[49m\n\u001b[32m   6202\u001b[39m keyarr = \u001b[38;5;28mself\u001b[39m.take(indexer)\n\u001b[32m   6203\u001b[39m \u001b[38;5;28;01mif\u001b[39;00m \u001b[38;5;28misinstance\u001b[39m(key, Index):\n\u001b[32m   6204\u001b[39m     \u001b[38;5;66;03m# GH 42790 - Preserve name from an Index\u001b[39;00m\n",
      "\u001b[36mFile \u001b[39m\u001b[32mc:\\Users\\andre\\AppData\\Local\\Programs\\Python\\Python313\\Lib\\site-packages\\pandas\\core\\indexes\\base.py:6252\u001b[39m, in \u001b[36mIndex._raise_if_missing\u001b[39m\u001b[34m(self, key, indexer, axis_name)\u001b[39m\n\u001b[32m   6249\u001b[39m     \u001b[38;5;28;01mraise\u001b[39;00m \u001b[38;5;167;01mKeyError\u001b[39;00m(\u001b[33mf\u001b[39m\u001b[33m\"\u001b[39m\u001b[33mNone of [\u001b[39m\u001b[38;5;132;01m{\u001b[39;00mkey\u001b[38;5;132;01m}\u001b[39;00m\u001b[33m] are in the [\u001b[39m\u001b[38;5;132;01m{\u001b[39;00maxis_name\u001b[38;5;132;01m}\u001b[39;00m\u001b[33m]\u001b[39m\u001b[33m\"\u001b[39m)\n\u001b[32m   6251\u001b[39m not_found = \u001b[38;5;28mlist\u001b[39m(ensure_index(key)[missing_mask.nonzero()[\u001b[32m0\u001b[39m]].unique())\n\u001b[32m-> \u001b[39m\u001b[32m6252\u001b[39m \u001b[38;5;28;01mraise\u001b[39;00m \u001b[38;5;167;01mKeyError\u001b[39;00m(\u001b[33mf\u001b[39m\u001b[33m\"\u001b[39m\u001b[38;5;132;01m{\u001b[39;00mnot_found\u001b[38;5;132;01m}\u001b[39;00m\u001b[33m not in index\u001b[39m\u001b[33m\"\u001b[39m)\n",
      "\u001b[31mKeyError\u001b[39m: \"['TEAM_NAME'] not in index\""
     ]
    }
   ],
   "source": [
    "N_GAMES = 20\n",
    "train_df = generate_season_matrix(\"2022-23\", N_GAMES)\n",
    "X_train = train_df[FEATURES]\n",
    "y_train = train_df[\"W\"]\n",
    "\n",
    "model = train_lr_model(X_train, y_train)\n",
    "\n",
    "test_df = generate_season_matrix(\"2023-24\", N_GAMES)\n",
    "X_test = test_df[FEATURES]\n",
    "y_test = test_df[\"W\"]\n",
    "\n",
    "\n",
    "y_pred = model.predict(X_test).round()\n",
    "\n",
    "result = test_df[[\"TEAM_NAME\", \"W\"]].copy()\n",
    "result[\"Predicted_Wins\"] = y_pred.astype(int)\n",
    "result[\"Predicted_Losses\"] = 82 - result[\"Predicted_Wins\"]\n",
    "\n",
    "r2 = model.score(X_test, y_test)\n",
    "\n",
    "print(f\"R2 on 2023-2024 data: {r2:.4f}\")\n",
    "\n",
    "plotly_plot_lr(result, actual_col=\"W\", predicted_col=\"Predicted_Wins\")\n",
    "\n",
    "show_df = result.rename(columns={\"W\" : \"Actual_Wins\"}).sort_values(\"Actual_Wins\", ascending=False)\n",
    "print(show_df.to_string(index=False))\n"
   ]
  }
 ],
 "metadata": {
  "kernelspec": {
   "display_name": "Python 3",
   "language": "python",
   "name": "python3"
  },
  "language_info": {
   "codemirror_mode": {
    "name": "ipython",
    "version": 3
   },
   "file_extension": ".py",
   "mimetype": "text/x-python",
   "name": "python",
   "nbconvert_exporter": "python",
   "pygments_lexer": "ipython3",
   "version": "3.13.1"
  }
 },
 "nbformat": 4,
 "nbformat_minor": 5
}
