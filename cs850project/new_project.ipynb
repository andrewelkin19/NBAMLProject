{
 "cells": [
  {
   "cell_type": "code",
   "execution_count": 1,
   "id": "72b1c491",
   "metadata": {},
   "outputs": [],
   "source": [
    "import pandas as pd\n",
    "import numpy as np\n",
    "import time\n",
    "from concurrent.futures import ThreadPoolExecutor, as_completed\n",
    "from nba_api.stats.static import teams as static_teams\n",
    "from nba_api.stats.endpoints import BoxScoreFourFactorsV3, TeamGameLog, LeagueStandingsV3\n",
    "from sklearn.linear_model import LinearRegression\n",
    "from sklearn.model_selection import train_test_split\n",
    "import matplotlib.pyplot as plt\n",
    "import plotly.express as px\n",
    "from requests.exceptions import ReadTimeout, ConnectionError\n",
    "import random, math\n",
    "import pathlib"
   ]
  },
  {
   "cell_type": "markdown",
   "id": "fba7f6e4",
   "metadata": {},
   "source": [
    "# Linear Regression\n",
    "### Goal: Predict Final Record of NBA Teams\n",
    "First, I will be using the Four Factors statistics (Effective Field Goal Percentage, Free Throw Rate, Turnover Percentage, Offensive Rebound Rate,\n",
    "Opponent Effective Field Goal Percentage, Opponent Free Throw Rate, Opponent Turnover Percentage, Opponent rebound Rate), which are established to\n",
    "be excellent predictors of team success, with a Linear Regression model trained on the first n games of a season, and then test on a different season\n",
    "given the Four Factor stats from the first n games of that season. "
   ]
  },
  {
   "cell_type": "code",
   "execution_count": 2,
   "id": "e1770fd2",
   "metadata": {},
   "outputs": [],
   "source": [
    "COMMON_HEADERS = {\n",
    "    \"User-Agent\": \"Mozilla/5.0 (Windows NT 10.0; Win64; x64) \"\n",
    "                  \"AppleWebKit/537.36 (KHTML, like Gecko) \"\n",
    "                  \"Chrome/124.0 Safari/537.36\",\n",
    "    \"Accept\": \"application/json, text/plain, */*\",\n",
    "    \"Origin\": \"https://www.nba.com\",\n",
    "    \"Referer\": \"https://www.nba.com/\",\n",
    "}\n",
    "\n",
    "CACHE_DIR = pathlib.Path(\"cache_pkl\")\n",
    "CACHE_DIR.mkdir(exist_ok=True)\n",
    "NETWORK_CALLS = 0\n",
    "\n",
    "# Reusable method to pull data from an endpoint of NBA_API, checks if the data has already been saved locally\n",
    "def endpoint(endpoint_cls, *, cache_key=None, max_retries=3, base_sleep=1.5, **kwargs):\n",
    "    global NETWORK_CALLS\n",
    "\n",
    "    # Check if the data has already been retrieved\n",
    "    if cache_key:\n",
    "        path = CACHE_DIR / f\"{cache_key}.pkl\"\n",
    "        if path.exists():\n",
    "            frames = pd.read_pickle(path)\n",
    "\n",
    "            stub = type(\"Stub\", (), {})()\n",
    "            stub.get_data_frames = lambda f=frames: f\n",
    "            stub.team_stats = type(\"DS\", (), {\n",
    "                \"get_data_frame\": staticmethod(lambda df=frames[1] if len(frames) > 1 else frames[0]: df)\n",
    "            })()\n",
    "            stub._from_cache = True\n",
    "            return stub\n",
    "    \n",
    "    # If not pull it from the API\n",
    "    for attempt in range(max_retries):\n",
    "        try:\n",
    "            obj = endpoint_cls(\n",
    "                headers=COMMON_HEADERS,\n",
    "                timeout=60,\n",
    "                **kwargs\n",
    "            )\n",
    "            NETWORK_CALLS += 1\n",
    "            # Save the data to speed up subsequent program runs\n",
    "            if cache_key:\n",
    "                pd.to_pickle(obj.get_data_frames(),\n",
    "                             CACHE_DIR / f\"{cache_key}.pkl\")\n",
    "                    \n",
    "            obj._from_cache = False\n",
    "            return obj\n",
    "        \n",
    "        except (ReadTimeout, ConnectionError):\n",
    "            wait = base_sleep * (2 ** attempt) + random.uniform(0, 0.5)\n",
    "            print(f\"{endpoint_cls.__name__} retry {attempt+1}/{max_retries}\"\n",
    "                  f\" - sleeping {wait:.1f}s\")\n",
    "            time.sleep(wait)\n",
    "            \n",
    "    # Error if we hit max retries\n",
    "    raise RuntimeError(f\"{endpoint_cls.__name__} failed after {max_retries} retries\")\n",
    "            "
   ]
  },
  {
   "cell_type": "code",
   "execution_count": 3,
   "id": "0c338fd2",
   "metadata": {},
   "outputs": [],
   "source": [
    "# Function to get the game IDs from the training set\n",
    "def get_game_ids(team_id, season, n_games):\n",
    "    games = endpoint(\n",
    "        TeamGameLog,\n",
    "        cache_key=f\"gamelog_{team_id}_{season}\",\n",
    "        team_id=team_id,\n",
    "        season=season,\n",
    "        season_type_all_star=\"Regular Season\"\n",
    "        ).get_data_frames()[0]\n",
    "    return games.sort_values(\"GAME_DATE\")[\"Game_ID\"].head(n_games).tolist()"
   ]
  },
  {
   "cell_type": "code",
   "execution_count": 4,
   "id": "f0869292",
   "metadata": {},
   "outputs": [],
   "source": [
    "\n",
    "\n",
    "# Features we will be using\n",
    "FEATURES = [\n",
    "    \"effectiveFieldGoalPercentage\",\n",
    "    \"freeThrowAttemptRate\",\n",
    "    \"teamTurnoverPercentage\",\n",
    "    \"offensiveReboundPercentage\",\n",
    "    \"oppEffectiveFieldGoalPercentage\",\n",
    "    \"oppFreeThrowAttemptRate\",\n",
    "    \"oppTeamTurnoverPercentage\",\n",
    "    \"oppOffensiveReboundPercentage\"\n",
    "]\n",
    "\n",
    "# Speed up data retrieval\n",
    "MAX_THREADS = 4\n",
    "PER_REQUEST_SLEEP = 0.5\n",
    "\n",
    "\n",
    "# Get the features from the API endpoint\n",
    "def get_features(game_id, team_id):\n",
    "        stats = endpoint(\n",
    "            BoxScoreFourFactorsV3,\n",
    "            cache_key=f\"bsff_{game_id}\",\n",
    "            game_id=game_id,\n",
    "            start_period=1, start_range=0,\n",
    "            end_period=1, end_range=0,\n",
    "            range_type=0)\n",
    "        team_df = stats.team_stats.get_data_frame()\n",
    "        row = team_df.loc[team_df[\"teamId\"] == team_id, FEATURES]\n",
    "        # Avoid making the API mad\n",
    "        if not getattr(stats, \"_from_cache\", False):\n",
    "            time.sleep(PER_REQUEST_SLEEP)\n",
    "        return row.squeeze().astype(float)\n",
    "    \n"
   ]
  },
  {
   "cell_type": "code",
   "execution_count": 5,
   "id": "ffdc21c2",
   "metadata": {},
   "outputs": [],
   "source": [
    "def combine_rows(team_id, season, n_games):\n",
    "    ids = get_game_ids(team_id, season, n_games)\n",
    "    rows = []\n",
    "    with ThreadPoolExecutor(max_workers=MAX_THREADS) as pool:\n",
    "        futures = [pool.submit(get_features, id, team_id) for id in ids]\n",
    "        for future in as_completed(futures):\n",
    "            rows.append(future.result())\n",
    "    \n",
    "    # Return the mean features for n_games\n",
    "    return pd.concat(rows, axis=1).mean(axis=1)"
   ]
  },
  {
   "cell_type": "code",
   "execution_count": 6,
   "id": "e0ae70f0",
   "metadata": {},
   "outputs": [],
   "source": [
    "def generate_df(season, n_games):\n",
    "    records = []\n",
    "    for team in static_teams.get_teams():\n",
    "        row = combine_rows(team[\"id\"], season, n_games)\n",
    "        row[\"TEAM_NAME\"] = team[\"full_name\"]\n",
    "        row[\"TEAM_ID\"] = team[\"id\"]\n",
    "        records.append(row)\n",
    "    return pd.DataFrame(records)"
   ]
  },
  {
   "cell_type": "code",
   "execution_count": 7,
   "id": "cc954163",
   "metadata": {},
   "outputs": [],
   "source": [
    "# Get the number of wins for each team\n",
    "def get_wins(season, season_type=\"Regular Season\"):\n",
    "    df = endpoint(\n",
    "        LeagueStandingsV3,\n",
    "        cache_key=f\"stand_{season}\",\n",
    "        season=season,\n",
    "        season_type=season_type\n",
    "    ).get_data_frames()[0]\n",
    "    \n",
    "    df = df.rename(columns={\"TeamID\" : \"TEAM_ID\",\n",
    "                            \"TeamName\" : \"TEAM_NAME\",\n",
    "                            \"WINS\" : \"W\"})\n",
    "    return df.drop(columns=[\"TEAM_NAME\"])"
   ]
  },
  {
   "cell_type": "code",
   "execution_count": 8,
   "id": "0720949d",
   "metadata": {},
   "outputs": [],
   "source": [
    "def generate_season_matrix(season, n_games):\n",
    "    features = generate_df(season, n_games)\n",
    "    wins = get_wins(season)\n",
    "    df = features.merge(wins, on=\"TEAM_ID\", how=\"inner\")\n",
    "    df.dropna(subset=FEATURES, inplace=True)\n",
    "    return df\n",
    "    "
   ]
  },
  {
   "cell_type": "code",
   "execution_count": 9,
   "id": "2ac8d554",
   "metadata": {},
   "outputs": [],
   "source": [
    "# Function to fit a linear regression model to the training data\n",
    "def train_lr_model(X_train, y_train):\n",
    "    model = LinearRegression()\n",
    "    model.fit(X_train, y_train)\n",
    "    return model"
   ]
  },
  {
   "cell_type": "code",
   "execution_count": 10,
   "id": "77806a34",
   "metadata": {},
   "outputs": [],
   "source": [
    "# Function to valuate the fit of the Linear Regression model\n",
    "def evaluate_model_lr(model, X_test, y_test):\n",
    "    score = model.score(X_test, y_test)\n",
    "    print(f\"R^2 Stat on test set: {score: .4f}\")"
   ]
  },
  {
   "cell_type": "code",
   "execution_count": 24,
   "id": "c1b15c33",
   "metadata": {},
   "outputs": [],
   "source": [
    "# Plot with Plotly for interactivity\n",
    "def plotly_plot_lr(df, actual_col=\"Actual_Wins\", predicted_col=\"Predicted_Wins\"):\n",
    "    fig = px.scatter(\n",
    "        df,\n",
    "        x=actual_col,\n",
    "        y=predicted_col,\n",
    "        hover_data=[\"TEAM_NAME\"],\n",
    "        labels={actual_col: \"Actual Wins\", predicted_col: \"Predicted Wins\"},\n",
    "        title=\"Actual Wins vs. Predicted Wins (Test Season: 2023-24)\"\n",
    "    )\n",
    "    \n",
    "    # Plot regression\n",
    "    min_val = min(df[actual_col].min(), df[predicted_col].min())\n",
    "    max_val = max(df[actual_col].max(), df[predicted_col].max())\n",
    "    fig.add_shape(\n",
    "        type=\"line\",\n",
    "        x0=min_val, y0=min_val, x1=max_val, y1=max_val,\n",
    "        line=dict(color=\"red\", dash=\"dash\")\n",
    "    )\n",
    "\n",
    "    fig.show()"
   ]
  },
  {
   "cell_type": "code",
   "execution_count": 12,
   "id": "549ec4ac",
   "metadata": {},
   "outputs": [],
   "source": [
    "# Generate final team record predictions from Linear Regression Model\n",
    "def predict_final_record_lr(model, df, features=FEATURES):\n",
    "\n",
    "    X_current = df[features]\n",
    "    predicted_wins = model.predict(X_current)\n",
    "\n",
    "    results_df = pd.DataFrame({\n",
    "        \"TEAM_NAME\": df[\"TEAM_NAME\"],\n",
    "        \"Predicted_Wins\": predicted_wins\n",
    "    })\n",
    "\n",
    "    # Round prediction to nearest integer\n",
    "    results_df[\"Predicted_Wins\"] = results_df[\"Predicted_Wins\"].round().astype(int)\n",
    "    results_df[\"Predicted_Losses\"] = 82 - results_df[\"Predicted_Wins\"]\n",
    "    \n",
    "    return results_df"
   ]
  },
  {
   "cell_type": "code",
   "execution_count": null,
   "id": "4fb2004b",
   "metadata": {},
   "outputs": [
    {
     "name": "stdout",
     "output_type": "stream",
     "text": [
      "Network Calls:  0\n",
      "R2 on 2023-2024 data: 0.7625\n"
     ]
    },
    {
     "data": {
      "application/vnd.plotly.v1+json": {
       "config": {
        "plotlyServerURL": "https://plot.ly"
       },
       "data": [
        {
         "customdata": [
          [
           "Atlanta Hawks"
          ],
          [
           "Boston Celtics"
          ],
          [
           "Cleveland Cavaliers"
          ],
          [
           "New Orleans Pelicans"
          ],
          [
           "Chicago Bulls"
          ],
          [
           "Dallas Mavericks"
          ],
          [
           "Denver Nuggets"
          ],
          [
           "Golden State Warriors"
          ],
          [
           "Houston Rockets"
          ],
          [
           "Los Angeles Clippers"
          ],
          [
           "Los Angeles Lakers"
          ],
          [
           "Miami Heat"
          ],
          [
           "Milwaukee Bucks"
          ],
          [
           "Minnesota Timberwolves"
          ],
          [
           "Brooklyn Nets"
          ],
          [
           "New York Knicks"
          ],
          [
           "Orlando Magic"
          ],
          [
           "Indiana Pacers"
          ],
          [
           "Philadelphia 76ers"
          ],
          [
           "Phoenix Suns"
          ],
          [
           "Portland Trail Blazers"
          ],
          [
           "Sacramento Kings"
          ],
          [
           "San Antonio Spurs"
          ],
          [
           "Oklahoma City Thunder"
          ],
          [
           "Toronto Raptors"
          ],
          [
           "Utah Jazz"
          ],
          [
           "Memphis Grizzlies"
          ],
          [
           "Washington Wizards"
          ],
          [
           "Detroit Pistons"
          ],
          [
           "Charlotte Hornets"
          ]
         ],
         "hovertemplate": "Actual Wins=%{x}<br>Predicted Wins=%{y}<br>TEAM_NAME=%{customdata[0]}<extra></extra>",
         "legendgroup": "",
         "marker": {
          "color": "#636efa",
          "symbol": "circle"
         },
         "mode": "markers",
         "name": "",
         "orientation": "v",
         "showlegend": false,
         "type": "scatter",
         "x": {
          "bdata": "JEAwMScyOS4pMy8uMTggMi8vLzEVLhY5GR8bDw4V",
          "dtype": "i1"
         },
         "xaxis": "x",
         "y": {
          "bdata": "G0UrMCouPDQoMjMwNjUjKyUvRiwXMCE7HB0iGAwT",
          "dtype": "i1"
         },
         "yaxis": "y"
        }
       ],
       "layout": {
        "legend": {
         "tracegroupgap": 0
        },
        "shapes": [
         {
          "line": {
           "color": "red",
           "dash": "dash"
          },
          "type": "line",
          "x0": 12,
          "x1": 70,
          "y0": 12,
          "y1": 70
         }
        ],
        "template": {
         "data": {
          "bar": [
           {
            "error_x": {
             "color": "#2a3f5f"
            },
            "error_y": {
             "color": "#2a3f5f"
            },
            "marker": {
             "line": {
              "color": "#E5ECF6",
              "width": 0.5
             },
             "pattern": {
              "fillmode": "overlay",
              "size": 10,
              "solidity": 0.2
             }
            },
            "type": "bar"
           }
          ],
          "barpolar": [
           {
            "marker": {
             "line": {
              "color": "#E5ECF6",
              "width": 0.5
             },
             "pattern": {
              "fillmode": "overlay",
              "size": 10,
              "solidity": 0.2
             }
            },
            "type": "barpolar"
           }
          ],
          "carpet": [
           {
            "aaxis": {
             "endlinecolor": "#2a3f5f",
             "gridcolor": "white",
             "linecolor": "white",
             "minorgridcolor": "white",
             "startlinecolor": "#2a3f5f"
            },
            "baxis": {
             "endlinecolor": "#2a3f5f",
             "gridcolor": "white",
             "linecolor": "white",
             "minorgridcolor": "white",
             "startlinecolor": "#2a3f5f"
            },
            "type": "carpet"
           }
          ],
          "choropleth": [
           {
            "colorbar": {
             "outlinewidth": 0,
             "ticks": ""
            },
            "type": "choropleth"
           }
          ],
          "contour": [
           {
            "colorbar": {
             "outlinewidth": 0,
             "ticks": ""
            },
            "colorscale": [
             [
              0,
              "#0d0887"
             ],
             [
              0.1111111111111111,
              "#46039f"
             ],
             [
              0.2222222222222222,
              "#7201a8"
             ],
             [
              0.3333333333333333,
              "#9c179e"
             ],
             [
              0.4444444444444444,
              "#bd3786"
             ],
             [
              0.5555555555555556,
              "#d8576b"
             ],
             [
              0.6666666666666666,
              "#ed7953"
             ],
             [
              0.7777777777777778,
              "#fb9f3a"
             ],
             [
              0.8888888888888888,
              "#fdca26"
             ],
             [
              1,
              "#f0f921"
             ]
            ],
            "type": "contour"
           }
          ],
          "contourcarpet": [
           {
            "colorbar": {
             "outlinewidth": 0,
             "ticks": ""
            },
            "type": "contourcarpet"
           }
          ],
          "heatmap": [
           {
            "colorbar": {
             "outlinewidth": 0,
             "ticks": ""
            },
            "colorscale": [
             [
              0,
              "#0d0887"
             ],
             [
              0.1111111111111111,
              "#46039f"
             ],
             [
              0.2222222222222222,
              "#7201a8"
             ],
             [
              0.3333333333333333,
              "#9c179e"
             ],
             [
              0.4444444444444444,
              "#bd3786"
             ],
             [
              0.5555555555555556,
              "#d8576b"
             ],
             [
              0.6666666666666666,
              "#ed7953"
             ],
             [
              0.7777777777777778,
              "#fb9f3a"
             ],
             [
              0.8888888888888888,
              "#fdca26"
             ],
             [
              1,
              "#f0f921"
             ]
            ],
            "type": "heatmap"
           }
          ],
          "histogram": [
           {
            "marker": {
             "pattern": {
              "fillmode": "overlay",
              "size": 10,
              "solidity": 0.2
             }
            },
            "type": "histogram"
           }
          ],
          "histogram2d": [
           {
            "colorbar": {
             "outlinewidth": 0,
             "ticks": ""
            },
            "colorscale": [
             [
              0,
              "#0d0887"
             ],
             [
              0.1111111111111111,
              "#46039f"
             ],
             [
              0.2222222222222222,
              "#7201a8"
             ],
             [
              0.3333333333333333,
              "#9c179e"
             ],
             [
              0.4444444444444444,
              "#bd3786"
             ],
             [
              0.5555555555555556,
              "#d8576b"
             ],
             [
              0.6666666666666666,
              "#ed7953"
             ],
             [
              0.7777777777777778,
              "#fb9f3a"
             ],
             [
              0.8888888888888888,
              "#fdca26"
             ],
             [
              1,
              "#f0f921"
             ]
            ],
            "type": "histogram2d"
           }
          ],
          "histogram2dcontour": [
           {
            "colorbar": {
             "outlinewidth": 0,
             "ticks": ""
            },
            "colorscale": [
             [
              0,
              "#0d0887"
             ],
             [
              0.1111111111111111,
              "#46039f"
             ],
             [
              0.2222222222222222,
              "#7201a8"
             ],
             [
              0.3333333333333333,
              "#9c179e"
             ],
             [
              0.4444444444444444,
              "#bd3786"
             ],
             [
              0.5555555555555556,
              "#d8576b"
             ],
             [
              0.6666666666666666,
              "#ed7953"
             ],
             [
              0.7777777777777778,
              "#fb9f3a"
             ],
             [
              0.8888888888888888,
              "#fdca26"
             ],
             [
              1,
              "#f0f921"
             ]
            ],
            "type": "histogram2dcontour"
           }
          ],
          "mesh3d": [
           {
            "colorbar": {
             "outlinewidth": 0,
             "ticks": ""
            },
            "type": "mesh3d"
           }
          ],
          "parcoords": [
           {
            "line": {
             "colorbar": {
              "outlinewidth": 0,
              "ticks": ""
             }
            },
            "type": "parcoords"
           }
          ],
          "pie": [
           {
            "automargin": true,
            "type": "pie"
           }
          ],
          "scatter": [
           {
            "fillpattern": {
             "fillmode": "overlay",
             "size": 10,
             "solidity": 0.2
            },
            "type": "scatter"
           }
          ],
          "scatter3d": [
           {
            "line": {
             "colorbar": {
              "outlinewidth": 0,
              "ticks": ""
             }
            },
            "marker": {
             "colorbar": {
              "outlinewidth": 0,
              "ticks": ""
             }
            },
            "type": "scatter3d"
           }
          ],
          "scattercarpet": [
           {
            "marker": {
             "colorbar": {
              "outlinewidth": 0,
              "ticks": ""
             }
            },
            "type": "scattercarpet"
           }
          ],
          "scattergeo": [
           {
            "marker": {
             "colorbar": {
              "outlinewidth": 0,
              "ticks": ""
             }
            },
            "type": "scattergeo"
           }
          ],
          "scattergl": [
           {
            "marker": {
             "colorbar": {
              "outlinewidth": 0,
              "ticks": ""
             }
            },
            "type": "scattergl"
           }
          ],
          "scattermap": [
           {
            "marker": {
             "colorbar": {
              "outlinewidth": 0,
              "ticks": ""
             }
            },
            "type": "scattermap"
           }
          ],
          "scattermapbox": [
           {
            "marker": {
             "colorbar": {
              "outlinewidth": 0,
              "ticks": ""
             }
            },
            "type": "scattermapbox"
           }
          ],
          "scatterpolar": [
           {
            "marker": {
             "colorbar": {
              "outlinewidth": 0,
              "ticks": ""
             }
            },
            "type": "scatterpolar"
           }
          ],
          "scatterpolargl": [
           {
            "marker": {
             "colorbar": {
              "outlinewidth": 0,
              "ticks": ""
             }
            },
            "type": "scatterpolargl"
           }
          ],
          "scatterternary": [
           {
            "marker": {
             "colorbar": {
              "outlinewidth": 0,
              "ticks": ""
             }
            },
            "type": "scatterternary"
           }
          ],
          "surface": [
           {
            "colorbar": {
             "outlinewidth": 0,
             "ticks": ""
            },
            "colorscale": [
             [
              0,
              "#0d0887"
             ],
             [
              0.1111111111111111,
              "#46039f"
             ],
             [
              0.2222222222222222,
              "#7201a8"
             ],
             [
              0.3333333333333333,
              "#9c179e"
             ],
             [
              0.4444444444444444,
              "#bd3786"
             ],
             [
              0.5555555555555556,
              "#d8576b"
             ],
             [
              0.6666666666666666,
              "#ed7953"
             ],
             [
              0.7777777777777778,
              "#fb9f3a"
             ],
             [
              0.8888888888888888,
              "#fdca26"
             ],
             [
              1,
              "#f0f921"
             ]
            ],
            "type": "surface"
           }
          ],
          "table": [
           {
            "cells": {
             "fill": {
              "color": "#EBF0F8"
             },
             "line": {
              "color": "white"
             }
            },
            "header": {
             "fill": {
              "color": "#C8D4E3"
             },
             "line": {
              "color": "white"
             }
            },
            "type": "table"
           }
          ]
         },
         "layout": {
          "annotationdefaults": {
           "arrowcolor": "#2a3f5f",
           "arrowhead": 0,
           "arrowwidth": 1
          },
          "autotypenumbers": "strict",
          "coloraxis": {
           "colorbar": {
            "outlinewidth": 0,
            "ticks": ""
           }
          },
          "colorscale": {
           "diverging": [
            [
             0,
             "#8e0152"
            ],
            [
             0.1,
             "#c51b7d"
            ],
            [
             0.2,
             "#de77ae"
            ],
            [
             0.3,
             "#f1b6da"
            ],
            [
             0.4,
             "#fde0ef"
            ],
            [
             0.5,
             "#f7f7f7"
            ],
            [
             0.6,
             "#e6f5d0"
            ],
            [
             0.7,
             "#b8e186"
            ],
            [
             0.8,
             "#7fbc41"
            ],
            [
             0.9,
             "#4d9221"
            ],
            [
             1,
             "#276419"
            ]
           ],
           "sequential": [
            [
             0,
             "#0d0887"
            ],
            [
             0.1111111111111111,
             "#46039f"
            ],
            [
             0.2222222222222222,
             "#7201a8"
            ],
            [
             0.3333333333333333,
             "#9c179e"
            ],
            [
             0.4444444444444444,
             "#bd3786"
            ],
            [
             0.5555555555555556,
             "#d8576b"
            ],
            [
             0.6666666666666666,
             "#ed7953"
            ],
            [
             0.7777777777777778,
             "#fb9f3a"
            ],
            [
             0.8888888888888888,
             "#fdca26"
            ],
            [
             1,
             "#f0f921"
            ]
           ],
           "sequentialminus": [
            [
             0,
             "#0d0887"
            ],
            [
             0.1111111111111111,
             "#46039f"
            ],
            [
             0.2222222222222222,
             "#7201a8"
            ],
            [
             0.3333333333333333,
             "#9c179e"
            ],
            [
             0.4444444444444444,
             "#bd3786"
            ],
            [
             0.5555555555555556,
             "#d8576b"
            ],
            [
             0.6666666666666666,
             "#ed7953"
            ],
            [
             0.7777777777777778,
             "#fb9f3a"
            ],
            [
             0.8888888888888888,
             "#fdca26"
            ],
            [
             1,
             "#f0f921"
            ]
           ]
          },
          "colorway": [
           "#636efa",
           "#EF553B",
           "#00cc96",
           "#ab63fa",
           "#FFA15A",
           "#19d3f3",
           "#FF6692",
           "#B6E880",
           "#FF97FF",
           "#FECB52"
          ],
          "font": {
           "color": "#2a3f5f"
          },
          "geo": {
           "bgcolor": "white",
           "lakecolor": "white",
           "landcolor": "#E5ECF6",
           "showlakes": true,
           "showland": true,
           "subunitcolor": "white"
          },
          "hoverlabel": {
           "align": "left"
          },
          "hovermode": "closest",
          "mapbox": {
           "style": "light"
          },
          "paper_bgcolor": "white",
          "plot_bgcolor": "#E5ECF6",
          "polar": {
           "angularaxis": {
            "gridcolor": "white",
            "linecolor": "white",
            "ticks": ""
           },
           "bgcolor": "#E5ECF6",
           "radialaxis": {
            "gridcolor": "white",
            "linecolor": "white",
            "ticks": ""
           }
          },
          "scene": {
           "xaxis": {
            "backgroundcolor": "#E5ECF6",
            "gridcolor": "white",
            "gridwidth": 2,
            "linecolor": "white",
            "showbackground": true,
            "ticks": "",
            "zerolinecolor": "white"
           },
           "yaxis": {
            "backgroundcolor": "#E5ECF6",
            "gridcolor": "white",
            "gridwidth": 2,
            "linecolor": "white",
            "showbackground": true,
            "ticks": "",
            "zerolinecolor": "white"
           },
           "zaxis": {
            "backgroundcolor": "#E5ECF6",
            "gridcolor": "white",
            "gridwidth": 2,
            "linecolor": "white",
            "showbackground": true,
            "ticks": "",
            "zerolinecolor": "white"
           }
          },
          "shapedefaults": {
           "line": {
            "color": "#2a3f5f"
           }
          },
          "ternary": {
           "aaxis": {
            "gridcolor": "white",
            "linecolor": "white",
            "ticks": ""
           },
           "baxis": {
            "gridcolor": "white",
            "linecolor": "white",
            "ticks": ""
           },
           "bgcolor": "#E5ECF6",
           "caxis": {
            "gridcolor": "white",
            "linecolor": "white",
            "ticks": ""
           }
          },
          "title": {
           "x": 0.05
          },
          "xaxis": {
           "automargin": true,
           "gridcolor": "white",
           "linecolor": "white",
           "ticks": "",
           "title": {
            "standoff": 15
           },
           "zerolinecolor": "white",
           "zerolinewidth": 2
          },
          "yaxis": {
           "automargin": true,
           "gridcolor": "white",
           "linecolor": "white",
           "ticks": "",
           "title": {
            "standoff": 15
           },
           "zerolinecolor": "white",
           "zerolinewidth": 2
          }
         }
        },
        "title": {
         "text": "Actual Wins vs. Predicted Wins (Test Season: 2023-24)"
        },
        "xaxis": {
         "anchor": "y",
         "domain": [
          0,
          1
         ],
         "title": {
          "text": "Actual Wins"
         }
        },
        "yaxis": {
         "anchor": "x",
         "domain": [
          0,
          1
         ],
         "title": {
          "text": "Predicted Wins"
         }
        }
       }
      }
     },
     "metadata": {},
     "output_type": "display_data"
    },
    {
     "name": "stdout",
     "output_type": "stream",
     "text": [
      "             TEAM_NAME  Actual_Wins  Predicted_Wins  Predicted_Losses\n",
      "        Boston Celtics           64              69                13\n",
      "        Denver Nuggets           57              60                22\n",
      " Oklahoma City Thunder           57              59                23\n",
      "Minnesota Timberwolves           56              53                29\n",
      "  Los Angeles Clippers           51              50                32\n",
      "      Dallas Mavericks           50              46                36\n",
      "       New York Knicks           50              43                39\n",
      "          Phoenix Suns           49              44                38\n",
      "       Milwaukee Bucks           49              54                28\n",
      "  New Orleans Pelicans           49              48                34\n",
      "   Cleveland Cavaliers           48              43                39\n",
      "        Indiana Pacers           47              47                35\n",
      "    Los Angeles Lakers           47              51                31\n",
      "    Philadelphia 76ers           47              70                12\n",
      "         Orlando Magic           47              37                45\n",
      " Golden State Warriors           46              52                30\n",
      "      Sacramento Kings           46              48                34\n",
      "            Miami Heat           46              48                34\n",
      "       Houston Rockets           41              40                42\n",
      "         Chicago Bulls           39              42                40\n",
      "         Atlanta Hawks           36              27                55\n",
      "         Brooklyn Nets           32              35                47\n",
      "             Utah Jazz           31              29                53\n",
      "     Memphis Grizzlies           27              34                48\n",
      "       Toronto Raptors           25              28                54\n",
      "     San Antonio Spurs           22              33                49\n",
      "Portland Trail Blazers           21              23                59\n",
      "     Charlotte Hornets           21              19                63\n",
      "    Washington Wizards           15              24                58\n",
      "       Detroit Pistons           14              12                70\n"
     ]
    }
   ],
   "source": [
    "N_GAMES = 20\n",
    "# Train Model\n",
    "train_df = generate_season_matrix(\"2022-23\", N_GAMES)\n",
    "X_train = train_df[FEATURES]\n",
    "y_train = train_df[\"W\"]\n",
    "\n",
    "model = train_lr_model(X_train, y_train)\n",
    "\n",
    "test_df = generate_season_matrix(\"2023-24\", N_GAMES)\n",
    "X_test = test_df[FEATURES]\n",
    "y_test = test_df[\"W\"]\n",
    "\n",
    "\n",
    "# Generate Predictions\n",
    "y_pred = model.predict(X_test).round()\n",
    "\n",
    "result = test_df[[\"TEAM_NAME\", \"W\"]].copy()\n",
    "result[\"Predicted_Wins\"] = y_pred.astype(int)\n",
    "result[\"Predicted_Losses\"] = 82 - result[\"Predicted_Wins\"]\n",
    "\n",
    "print(\"Network Calls: \", NETWORK_CALLS)\n",
    "# Get R^2\n",
    "r2 = model.score(X_test, y_test)\n",
    "\n",
    "print(f\"R2 on 2023-2024 data: {r2:.2f}\")\n",
    "\n",
    "# Generate plot\n",
    "plotly_plot_lr(result, actual_col=\"W\", predicted_col=\"Predicted_Wins\")\n",
    "\n",
    "# Print chart of Predicted vs. Actual Wins\n",
    "show_df = result.rename(columns={\"W\" : \"Actual_Wins\"}).sort_values(\"Actual_Wins\", ascending=False)\n",
    "print(show_df.to_string(index=False))\n"
   ]
  },
  {
   "cell_type": "code",
   "execution_count": 29,
   "id": "46afe431",
   "metadata": {},
   "outputs": [],
   "source": [
    "def fit_model_and_evaluate(name, model, X_train, y_train, X_test, y_test):\n",
    "    model.fit(X_train, y_train)\n",
    "    r2 = model.score(X_test, y_test)\n",
    "    print(f\"{name}:  R^2 Score: {r2:.3f}\")\n",
    "    result_df = predict_final_record_lr(model, test_df)\n",
    "    result_df[\"Actual_Wins\"] = y_test.values\n",
    "\n",
    "    plotly_plot_lr(result_df)\n",
    "    \n",
    "    return model"
   ]
  },
  {
   "cell_type": "code",
   "execution_count": 30,
   "id": "9b33ba35",
   "metadata": {},
   "outputs": [
    {
     "name": "stdout",
     "output_type": "stream",
     "text": [
      "Linear Regression:  R^2 Score: 0.762\n"
     ]
    },
    {
     "data": {
      "application/vnd.plotly.v1+json": {
       "config": {
        "plotlyServerURL": "https://plot.ly"
       },
       "data": [
        {
         "customdata": [
          [
           "Atlanta Hawks"
          ],
          [
           "Boston Celtics"
          ],
          [
           "Cleveland Cavaliers"
          ],
          [
           "New Orleans Pelicans"
          ],
          [
           "Chicago Bulls"
          ],
          [
           "Dallas Mavericks"
          ],
          [
           "Denver Nuggets"
          ],
          [
           "Golden State Warriors"
          ],
          [
           "Houston Rockets"
          ],
          [
           "Los Angeles Clippers"
          ],
          [
           "Los Angeles Lakers"
          ],
          [
           "Miami Heat"
          ],
          [
           "Milwaukee Bucks"
          ],
          [
           "Minnesota Timberwolves"
          ],
          [
           "Brooklyn Nets"
          ],
          [
           "New York Knicks"
          ],
          [
           "Orlando Magic"
          ],
          [
           "Indiana Pacers"
          ],
          [
           "Philadelphia 76ers"
          ],
          [
           "Phoenix Suns"
          ],
          [
           "Portland Trail Blazers"
          ],
          [
           "Sacramento Kings"
          ],
          [
           "San Antonio Spurs"
          ],
          [
           "Oklahoma City Thunder"
          ],
          [
           "Toronto Raptors"
          ],
          [
           "Utah Jazz"
          ],
          [
           "Memphis Grizzlies"
          ],
          [
           "Washington Wizards"
          ],
          [
           "Detroit Pistons"
          ],
          [
           "Charlotte Hornets"
          ]
         ],
         "hovertemplate": "Actual Wins=%{x}<br>Predicted Wins=%{y}<br>TEAM_NAME=%{customdata[0]}<extra></extra>",
         "legendgroup": "",
         "marker": {
          "color": "#636efa",
          "symbol": "circle"
         },
         "mode": "markers",
         "name": "",
         "orientation": "v",
         "showlegend": false,
         "type": "scatter",
         "x": {
          "bdata": "JEAwMScyOS4pMy8uMTggMi8vLzEVLhY5GR8bDw4V",
          "dtype": "i1"
         },
         "xaxis": "x",
         "y": {
          "bdata": "G0UrMCouPDQoMjMwNjUjKyUvRiwXMCE7HB0iGAwT",
          "dtype": "i1"
         },
         "yaxis": "y"
        }
       ],
       "layout": {
        "legend": {
         "tracegroupgap": 0
        },
        "shapes": [
         {
          "line": {
           "color": "red",
           "dash": "dash"
          },
          "type": "line",
          "x0": 12,
          "x1": 70,
          "y0": 12,
          "y1": 70
         }
        ],
        "template": {
         "data": {
          "bar": [
           {
            "error_x": {
             "color": "#2a3f5f"
            },
            "error_y": {
             "color": "#2a3f5f"
            },
            "marker": {
             "line": {
              "color": "#E5ECF6",
              "width": 0.5
             },
             "pattern": {
              "fillmode": "overlay",
              "size": 10,
              "solidity": 0.2
             }
            },
            "type": "bar"
           }
          ],
          "barpolar": [
           {
            "marker": {
             "line": {
              "color": "#E5ECF6",
              "width": 0.5
             },
             "pattern": {
              "fillmode": "overlay",
              "size": 10,
              "solidity": 0.2
             }
            },
            "type": "barpolar"
           }
          ],
          "carpet": [
           {
            "aaxis": {
             "endlinecolor": "#2a3f5f",
             "gridcolor": "white",
             "linecolor": "white",
             "minorgridcolor": "white",
             "startlinecolor": "#2a3f5f"
            },
            "baxis": {
             "endlinecolor": "#2a3f5f",
             "gridcolor": "white",
             "linecolor": "white",
             "minorgridcolor": "white",
             "startlinecolor": "#2a3f5f"
            },
            "type": "carpet"
           }
          ],
          "choropleth": [
           {
            "colorbar": {
             "outlinewidth": 0,
             "ticks": ""
            },
            "type": "choropleth"
           }
          ],
          "contour": [
           {
            "colorbar": {
             "outlinewidth": 0,
             "ticks": ""
            },
            "colorscale": [
             [
              0,
              "#0d0887"
             ],
             [
              0.1111111111111111,
              "#46039f"
             ],
             [
              0.2222222222222222,
              "#7201a8"
             ],
             [
              0.3333333333333333,
              "#9c179e"
             ],
             [
              0.4444444444444444,
              "#bd3786"
             ],
             [
              0.5555555555555556,
              "#d8576b"
             ],
             [
              0.6666666666666666,
              "#ed7953"
             ],
             [
              0.7777777777777778,
              "#fb9f3a"
             ],
             [
              0.8888888888888888,
              "#fdca26"
             ],
             [
              1,
              "#f0f921"
             ]
            ],
            "type": "contour"
           }
          ],
          "contourcarpet": [
           {
            "colorbar": {
             "outlinewidth": 0,
             "ticks": ""
            },
            "type": "contourcarpet"
           }
          ],
          "heatmap": [
           {
            "colorbar": {
             "outlinewidth": 0,
             "ticks": ""
            },
            "colorscale": [
             [
              0,
              "#0d0887"
             ],
             [
              0.1111111111111111,
              "#46039f"
             ],
             [
              0.2222222222222222,
              "#7201a8"
             ],
             [
              0.3333333333333333,
              "#9c179e"
             ],
             [
              0.4444444444444444,
              "#bd3786"
             ],
             [
              0.5555555555555556,
              "#d8576b"
             ],
             [
              0.6666666666666666,
              "#ed7953"
             ],
             [
              0.7777777777777778,
              "#fb9f3a"
             ],
             [
              0.8888888888888888,
              "#fdca26"
             ],
             [
              1,
              "#f0f921"
             ]
            ],
            "type": "heatmap"
           }
          ],
          "histogram": [
           {
            "marker": {
             "pattern": {
              "fillmode": "overlay",
              "size": 10,
              "solidity": 0.2
             }
            },
            "type": "histogram"
           }
          ],
          "histogram2d": [
           {
            "colorbar": {
             "outlinewidth": 0,
             "ticks": ""
            },
            "colorscale": [
             [
              0,
              "#0d0887"
             ],
             [
              0.1111111111111111,
              "#46039f"
             ],
             [
              0.2222222222222222,
              "#7201a8"
             ],
             [
              0.3333333333333333,
              "#9c179e"
             ],
             [
              0.4444444444444444,
              "#bd3786"
             ],
             [
              0.5555555555555556,
              "#d8576b"
             ],
             [
              0.6666666666666666,
              "#ed7953"
             ],
             [
              0.7777777777777778,
              "#fb9f3a"
             ],
             [
              0.8888888888888888,
              "#fdca26"
             ],
             [
              1,
              "#f0f921"
             ]
            ],
            "type": "histogram2d"
           }
          ],
          "histogram2dcontour": [
           {
            "colorbar": {
             "outlinewidth": 0,
             "ticks": ""
            },
            "colorscale": [
             [
              0,
              "#0d0887"
             ],
             [
              0.1111111111111111,
              "#46039f"
             ],
             [
              0.2222222222222222,
              "#7201a8"
             ],
             [
              0.3333333333333333,
              "#9c179e"
             ],
             [
              0.4444444444444444,
              "#bd3786"
             ],
             [
              0.5555555555555556,
              "#d8576b"
             ],
             [
              0.6666666666666666,
              "#ed7953"
             ],
             [
              0.7777777777777778,
              "#fb9f3a"
             ],
             [
              0.8888888888888888,
              "#fdca26"
             ],
             [
              1,
              "#f0f921"
             ]
            ],
            "type": "histogram2dcontour"
           }
          ],
          "mesh3d": [
           {
            "colorbar": {
             "outlinewidth": 0,
             "ticks": ""
            },
            "type": "mesh3d"
           }
          ],
          "parcoords": [
           {
            "line": {
             "colorbar": {
              "outlinewidth": 0,
              "ticks": ""
             }
            },
            "type": "parcoords"
           }
          ],
          "pie": [
           {
            "automargin": true,
            "type": "pie"
           }
          ],
          "scatter": [
           {
            "fillpattern": {
             "fillmode": "overlay",
             "size": 10,
             "solidity": 0.2
            },
            "type": "scatter"
           }
          ],
          "scatter3d": [
           {
            "line": {
             "colorbar": {
              "outlinewidth": 0,
              "ticks": ""
             }
            },
            "marker": {
             "colorbar": {
              "outlinewidth": 0,
              "ticks": ""
             }
            },
            "type": "scatter3d"
           }
          ],
          "scattercarpet": [
           {
            "marker": {
             "colorbar": {
              "outlinewidth": 0,
              "ticks": ""
             }
            },
            "type": "scattercarpet"
           }
          ],
          "scattergeo": [
           {
            "marker": {
             "colorbar": {
              "outlinewidth": 0,
              "ticks": ""
             }
            },
            "type": "scattergeo"
           }
          ],
          "scattergl": [
           {
            "marker": {
             "colorbar": {
              "outlinewidth": 0,
              "ticks": ""
             }
            },
            "type": "scattergl"
           }
          ],
          "scattermap": [
           {
            "marker": {
             "colorbar": {
              "outlinewidth": 0,
              "ticks": ""
             }
            },
            "type": "scattermap"
           }
          ],
          "scattermapbox": [
           {
            "marker": {
             "colorbar": {
              "outlinewidth": 0,
              "ticks": ""
             }
            },
            "type": "scattermapbox"
           }
          ],
          "scatterpolar": [
           {
            "marker": {
             "colorbar": {
              "outlinewidth": 0,
              "ticks": ""
             }
            },
            "type": "scatterpolar"
           }
          ],
          "scatterpolargl": [
           {
            "marker": {
             "colorbar": {
              "outlinewidth": 0,
              "ticks": ""
             }
            },
            "type": "scatterpolargl"
           }
          ],
          "scatterternary": [
           {
            "marker": {
             "colorbar": {
              "outlinewidth": 0,
              "ticks": ""
             }
            },
            "type": "scatterternary"
           }
          ],
          "surface": [
           {
            "colorbar": {
             "outlinewidth": 0,
             "ticks": ""
            },
            "colorscale": [
             [
              0,
              "#0d0887"
             ],
             [
              0.1111111111111111,
              "#46039f"
             ],
             [
              0.2222222222222222,
              "#7201a8"
             ],
             [
              0.3333333333333333,
              "#9c179e"
             ],
             [
              0.4444444444444444,
              "#bd3786"
             ],
             [
              0.5555555555555556,
              "#d8576b"
             ],
             [
              0.6666666666666666,
              "#ed7953"
             ],
             [
              0.7777777777777778,
              "#fb9f3a"
             ],
             [
              0.8888888888888888,
              "#fdca26"
             ],
             [
              1,
              "#f0f921"
             ]
            ],
            "type": "surface"
           }
          ],
          "table": [
           {
            "cells": {
             "fill": {
              "color": "#EBF0F8"
             },
             "line": {
              "color": "white"
             }
            },
            "header": {
             "fill": {
              "color": "#C8D4E3"
             },
             "line": {
              "color": "white"
             }
            },
            "type": "table"
           }
          ]
         },
         "layout": {
          "annotationdefaults": {
           "arrowcolor": "#2a3f5f",
           "arrowhead": 0,
           "arrowwidth": 1
          },
          "autotypenumbers": "strict",
          "coloraxis": {
           "colorbar": {
            "outlinewidth": 0,
            "ticks": ""
           }
          },
          "colorscale": {
           "diverging": [
            [
             0,
             "#8e0152"
            ],
            [
             0.1,
             "#c51b7d"
            ],
            [
             0.2,
             "#de77ae"
            ],
            [
             0.3,
             "#f1b6da"
            ],
            [
             0.4,
             "#fde0ef"
            ],
            [
             0.5,
             "#f7f7f7"
            ],
            [
             0.6,
             "#e6f5d0"
            ],
            [
             0.7,
             "#b8e186"
            ],
            [
             0.8,
             "#7fbc41"
            ],
            [
             0.9,
             "#4d9221"
            ],
            [
             1,
             "#276419"
            ]
           ],
           "sequential": [
            [
             0,
             "#0d0887"
            ],
            [
             0.1111111111111111,
             "#46039f"
            ],
            [
             0.2222222222222222,
             "#7201a8"
            ],
            [
             0.3333333333333333,
             "#9c179e"
            ],
            [
             0.4444444444444444,
             "#bd3786"
            ],
            [
             0.5555555555555556,
             "#d8576b"
            ],
            [
             0.6666666666666666,
             "#ed7953"
            ],
            [
             0.7777777777777778,
             "#fb9f3a"
            ],
            [
             0.8888888888888888,
             "#fdca26"
            ],
            [
             1,
             "#f0f921"
            ]
           ],
           "sequentialminus": [
            [
             0,
             "#0d0887"
            ],
            [
             0.1111111111111111,
             "#46039f"
            ],
            [
             0.2222222222222222,
             "#7201a8"
            ],
            [
             0.3333333333333333,
             "#9c179e"
            ],
            [
             0.4444444444444444,
             "#bd3786"
            ],
            [
             0.5555555555555556,
             "#d8576b"
            ],
            [
             0.6666666666666666,
             "#ed7953"
            ],
            [
             0.7777777777777778,
             "#fb9f3a"
            ],
            [
             0.8888888888888888,
             "#fdca26"
            ],
            [
             1,
             "#f0f921"
            ]
           ]
          },
          "colorway": [
           "#636efa",
           "#EF553B",
           "#00cc96",
           "#ab63fa",
           "#FFA15A",
           "#19d3f3",
           "#FF6692",
           "#B6E880",
           "#FF97FF",
           "#FECB52"
          ],
          "font": {
           "color": "#2a3f5f"
          },
          "geo": {
           "bgcolor": "white",
           "lakecolor": "white",
           "landcolor": "#E5ECF6",
           "showlakes": true,
           "showland": true,
           "subunitcolor": "white"
          },
          "hoverlabel": {
           "align": "left"
          },
          "hovermode": "closest",
          "mapbox": {
           "style": "light"
          },
          "paper_bgcolor": "white",
          "plot_bgcolor": "#E5ECF6",
          "polar": {
           "angularaxis": {
            "gridcolor": "white",
            "linecolor": "white",
            "ticks": ""
           },
           "bgcolor": "#E5ECF6",
           "radialaxis": {
            "gridcolor": "white",
            "linecolor": "white",
            "ticks": ""
           }
          },
          "scene": {
           "xaxis": {
            "backgroundcolor": "#E5ECF6",
            "gridcolor": "white",
            "gridwidth": 2,
            "linecolor": "white",
            "showbackground": true,
            "ticks": "",
            "zerolinecolor": "white"
           },
           "yaxis": {
            "backgroundcolor": "#E5ECF6",
            "gridcolor": "white",
            "gridwidth": 2,
            "linecolor": "white",
            "showbackground": true,
            "ticks": "",
            "zerolinecolor": "white"
           },
           "zaxis": {
            "backgroundcolor": "#E5ECF6",
            "gridcolor": "white",
            "gridwidth": 2,
            "linecolor": "white",
            "showbackground": true,
            "ticks": "",
            "zerolinecolor": "white"
           }
          },
          "shapedefaults": {
           "line": {
            "color": "#2a3f5f"
           }
          },
          "ternary": {
           "aaxis": {
            "gridcolor": "white",
            "linecolor": "white",
            "ticks": ""
           },
           "baxis": {
            "gridcolor": "white",
            "linecolor": "white",
            "ticks": ""
           },
           "bgcolor": "#E5ECF6",
           "caxis": {
            "gridcolor": "white",
            "linecolor": "white",
            "ticks": ""
           }
          },
          "title": {
           "x": 0.05
          },
          "xaxis": {
           "automargin": true,
           "gridcolor": "white",
           "linecolor": "white",
           "ticks": "",
           "title": {
            "standoff": 15
           },
           "zerolinecolor": "white",
           "zerolinewidth": 2
          },
          "yaxis": {
           "automargin": true,
           "gridcolor": "white",
           "linecolor": "white",
           "ticks": "",
           "title": {
            "standoff": 15
           },
           "zerolinecolor": "white",
           "zerolinewidth": 2
          }
         }
        },
        "title": {
         "text": "Actual Wins vs. Predicted Wins (Test Season: 2023-24)"
        },
        "xaxis": {
         "anchor": "y",
         "domain": [
          0,
          1
         ],
         "title": {
          "text": "Actual Wins"
         }
        },
        "yaxis": {
         "anchor": "x",
         "domain": [
          0,
          1
         ],
         "title": {
          "text": "Predicted Wins"
         }
        }
       }
      }
     },
     "metadata": {},
     "output_type": "display_data"
    }
   ],
   "source": [
    "ols = fit_model_and_evaluate(\"Linear Regression\", LinearRegression(), X_train, y_train, X_test, y_test)\n"
   ]
  },
  {
   "cell_type": "markdown",
   "id": "67559fcb",
   "metadata": {},
   "source": [
    "### Linear Model Evaluation\n",
    "It appears that, at least with a linear model, Effective Field Goal Percentage is by far the most important feature being used in the predictions, followed by Opponent Effective Field Goal Percentage. This makes sense as points scored vs points allowed would be the most directly linked variable related to the outcome of games, and efficiency in scoring and defending should make a big difference in that.\n",
    "\n",
    "The coefficients show that the features are strongly correlated with wins (with the exception of free throw rates)."
   ]
  },
  {
   "cell_type": "code",
   "execution_count": null,
   "id": "d00b53b6",
   "metadata": {},
   "outputs": [
    {
     "name": "stdout",
     "output_type": "stream",
     "text": [
      "                            OLS Regression Results                            \n",
      "==============================================================================\n",
      "Dep. Variable:                      W   R-squared:                       0.761\n",
      "Model:                            OLS   Adj. R-squared:                  0.670\n",
      "Method:                 Least Squares   F-statistic:                     8.362\n",
      "Date:                Wed, 30 Apr 2025   Prob (F-statistic):           4.59e-05\n",
      "Time:                        14:39:29   Log-Likelihood:                -89.735\n",
      "No. Observations:                  30   AIC:                             197.5\n",
      "Df Residuals:                      21   BIC:                             210.1\n",
      "Df Model:                           8                                         \n",
      "Covariance Type:            nonrobust                                         \n",
      "===================================================================================================\n",
      "                                      coef    std err          t      P>|t|      [0.025      0.975]\n",
      "---------------------------------------------------------------------------------------------------\n",
      "const                              68.5264     73.328      0.935      0.361     -83.967     221.020\n",
      "effectiveFieldGoalPercentage      363.4426     85.788      4.237      0.000     185.036     541.849\n",
      "freeThrowAttemptRate               39.4908     52.236      0.756      0.458     -69.139     148.121\n",
      "teamTurnoverPercentage           -294.8676    123.479     -2.388      0.026    -551.655     -38.080\n",
      "offensiveReboundPercentage        120.7183     51.016      2.366      0.028      14.625     226.811\n",
      "oppEffectiveFieldGoalPercentage  -375.8589     74.529     -5.043      0.000    -530.851    -220.867\n",
      "oppFreeThrowAttemptRate          -110.6476     55.333     -2.000      0.059    -225.719       4.424\n",
      "oppTeamTurnoverPercentage         305.2604     89.318      3.418      0.003     119.513     491.008\n",
      "oppOffensiveReboundPercentage    -132.7997     56.868     -2.335      0.030    -251.063     -14.536\n",
      "==============================================================================\n",
      "Omnibus:                        4.884   Durbin-Watson:                   2.294\n",
      "Prob(Omnibus):                  0.087   Jarque-Bera (JB):                3.209\n",
      "Skew:                           0.680   Prob(JB):                        0.201\n",
      "Kurtosis:                       3.849   Cond. No.                         183.\n",
      "==============================================================================\n",
      "\n",
      "Notes:\n",
      "[1] Standard Errors assume that the covariance matrix of the errors is correctly specified.\n"
     ]
    }
   ],
   "source": [
    "import statsmodels.api as sm\n",
    "\n",
    "X_sm = sm.add_constant(train_df[FEATURES])\n",
    "ols = sm.OLS(train_df[\"W\"], X_sm).fit()\n",
    "print(ols.summary())\n",
    "\n"
   ]
  },
  {
   "cell_type": "code",
   "execution_count": 20,
   "id": "b24e2604",
   "metadata": {},
   "outputs": [],
   "source": [
    "from sklearn.pipeline import make_pipeline\n",
    "from sklearn.preprocessing import StandardScaler\n",
    "from sklearn.model_selection import cross_val_score\n",
    "from sklearn.metrics import r2_score\n",
    "\n",
    "def evaluate_model(model, name, cv=5, verbose=True):\n",
    "    cv_r2 = cross_val_score(model, X_train, y_train, cv=cv, scoring=\"r2\").mean()\n",
    "    model.fit(X_train, y_train)\n",
    "    test_r2 = r2_score(y_test, model.predict(X_test))\n",
    "    if verbose:\n",
    "        print(f\"{name or type(model[-1]).__name__:12s}\"\n",
    "              f\"CV R2 = {cv_r2:.3f}\\n\"\n",
    "              f\"Test R2 = {test_r2:.3f}\")\n",
    "    return cv_r2, test_r2"
   ]
  },
  {
   "cell_type": "code",
   "execution_count": 21,
   "id": "ed38ffd7",
   "metadata": {},
   "outputs": [
    {
     "name": "stdout",
     "output_type": "stream",
     "text": [
      "OLS         CV R2 = 0.236\n",
      "Test R2 = 0.762\n"
     ]
    },
    {
     "data": {
      "text/plain": [
       "(np.float64(0.23560107832573762), 0.762494687728835)"
      ]
     },
     "execution_count": 21,
     "metadata": {},
     "output_type": "execute_result"
    }
   ],
   "source": [
    "ols = make_pipeline(StandardScaler(), LinearRegression())\n",
    "evaluate_model(ols, \"OLS\")"
   ]
  },
  {
   "cell_type": "markdown",
   "id": "c33f2824",
   "metadata": {},
   "source": [
    "# Ridge Regression\n",
    "Now I will fit a Ridge Regression model to compare to the OLS model. This will standardize the features and correct for large amounts of colinearity."
   ]
  },
  {
   "cell_type": "code",
   "execution_count": null,
   "id": "4e9ef63b",
   "metadata": {},
   "outputs": [],
   "source": [
    "from sklearn.linear_model import RidgeCV\n",
    "from sklearn.preprocessing import StandardScaler\n",
    "from sklearn.linear_model import make_pipeline\n",
    "# Streamline Model evaluation using sklearn Pipelines\n",
    "pipelines = {\n",
    "    \"OLS\" : make_pipeline(StandardScaler(), LinearRegression()),\n",
    "    \"Ridge\" : make_pipeline(StandardScaler(), RidgeCV(alphas=[0.1,1,10], cv=5))\n",
    "}\n",
    "# Generate our Ridge Regression model, find the best alpha\n",
    "ridge = make_pipeline(\n",
    "    StandardScaler(),\n",
    "    RidgeCV(alphas=[0.01, 0.1, 1, 10, 100], cv=5)\n",
    ").fit(train_df[FEATURES], train_df[\"W\"])\n",
    "\n",
    "print"
   ]
  }
 ],
 "metadata": {
  "kernelspec": {
   "display_name": "Python 3",
   "language": "python",
   "name": "python3"
  },
  "language_info": {
   "codemirror_mode": {
    "name": "ipython",
    "version": 3
   },
   "file_extension": ".py",
   "mimetype": "text/x-python",
   "name": "python",
   "nbconvert_exporter": "python",
   "pygments_lexer": "ipython3",
   "version": "3.13.1"
  }
 },
 "nbformat": 4,
 "nbformat_minor": 5
}
