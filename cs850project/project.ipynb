{
 "cells": [
  {
   "cell_type": "markdown",
   "id": "5a7ff92e",
   "metadata": {},
   "source": [
    "CS850 Final Project"
   ]
  },
  {
   "cell_type": "code",
   "execution_count": null,
   "id": "92d39e8e",
   "metadata": {},
   "outputs": [
    {
     "name": "stdout",
     "output_type": "stream",
     "text": [
      "Index(['TEAM_ID', 'TEAM_NAME', 'GP', 'W', 'L', 'W_PCT', 'MIN', 'FGM', 'FGA',\n",
      "       'FG_PCT', 'FG3M', 'FG3A', 'FG3_PCT', 'FTM', 'FTA', 'FT_PCT', 'OREB',\n",
      "       'DREB', 'REB', 'AST', 'TOV', 'STL', 'BLK', 'BLKA', 'PF', 'PFD', 'PTS',\n",
      "       'PLUS_MINUS', 'GP_RANK', 'W_RANK', 'L_RANK', 'W_PCT_RANK', 'MIN_RANK',\n",
      "       'FGM_RANK', 'FGA_RANK', 'FG_PCT_RANK', 'FG3M_RANK', 'FG3A_RANK',\n",
      "       'FG3_PCT_RANK', 'FTM_RANK', 'FTA_RANK', 'FT_PCT_RANK', 'OREB_RANK',\n",
      "       'DREB_RANK', 'REB_RANK', 'AST_RANK', 'TOV_RANK', 'STL_RANK', 'BLK_RANK',\n",
      "       'BLKA_RANK', 'PF_RANK', 'PFD_RANK', 'PTS_RANK', 'PLUS_MINUS_RANK'],\n",
      "      dtype='object')\n"
     ]
    }
   ],
   "source": [
    "import pandas as pd\n",
    "import csv\n",
    "import numpy as np\n",
    "from nba_api.stats.static import teams\n",
    "from nba_api.stats.endpoints import leaguedashteamstats, leaguegamefinder, teamgamelog, leaguegamelog, teamyearbyyearstats, leaguestandingsv3, teaminfocommon\n",
    "import statsmodels.api as sum\n",
    "from matplotlib.pyplot import subplots\n",
    "\n",
    "\n",
    "#generate a dictionary of all nba teams\n",
    "teams = teams.get_teams()\n",
    "#print(teams[:3])\n",
    "\n",
    "teamStats = leaguedashteamstats.LeagueDashTeamStats(season=\"2024-25\")\n",
    "teamStatsDF = teamStats.get_data_frames()[0]\n",
    "print(teamStatsDF.columns)\n",
    "\n",
    "def statsToCSV(filename, df):\n",
    "    dfCSV = df.to_csv(filename, index=False)\n",
    "    \n",
    "    \n",
    "statsToCSV('teamStats.csv', teamStatsDF)"
   ]
  },
  {
   "cell_type": "code",
   "execution_count": null,
   "id": "96d057b0",
   "metadata": {},
   "outputs": [
    {
     "ename": "NameError",
     "evalue": "name 'leaguestandings' is not defined",
     "output_type": "error",
     "traceback": [
      "\u001b[31m---------------------------------------------------------------------------\u001b[39m",
      "\u001b[31mNameError\u001b[39m                                 Traceback (most recent call last)",
      "\u001b[36mCell\u001b[39m\u001b[36m \u001b[39m\u001b[32mIn[3]\u001b[39m\u001b[32m, line 4\u001b[39m\n\u001b[32m      1\u001b[39m \u001b[38;5;28;01mfrom\u001b[39;00m\u001b[38;5;250m \u001b[39m\u001b[34;01msklearn\u001b[39;00m\u001b[34;01m.\u001b[39;00m\u001b[34;01mlinear_model\u001b[39;00m\u001b[38;5;250m \u001b[39m\u001b[38;5;28;01mimport\u001b[39;00m LinearRegression\n\u001b[32m      3\u001b[39m \u001b[38;5;66;03m# Get Season Standings\u001b[39;00m\n\u001b[32m----> \u001b[39m\u001b[32m4\u001b[39m response_2025 = \u001b[43mleaguestandings\u001b[49m.LeagueStandings(\n\u001b[32m      5\u001b[39m     season=\u001b[33m\"\u001b[39m\u001b[33m2024-2025\u001b[39m\u001b[33m\"\u001b[39m,\n\u001b[32m      6\u001b[39m     season_type=\u001b[33m\"\u001b[39m\u001b[33mRegular Season\u001b[39m\u001b[33m\"\u001b[39m\n\u001b[32m      7\u001b[39m ).get_dict\n\u001b[32m      9\u001b[39m \u001b[38;5;66;03m# Format the Data\u001b[39;00m\n\u001b[32m     10\u001b[39m result_2025 = response_2025[\u001b[33m'\u001b[39m\u001b[33mresultSets\u001b[39m\u001b[33m'\u001b[39m][\u001b[32m0\u001b[39m]\n",
      "\u001b[31mNameError\u001b[39m: name 'leaguestandings' is not defined"
     ]
    }
   ],
   "source": [
    "from sklearn.linear_model import LinearRegression\n",
    "\n",
    "# Get Season Standings\n",
    "response_2025 = leaguestandingsv3.LeagueStandingsV3(\n",
    "    season=\"2024-2025\",\n",
    "    season_type=\"Regular Season\"\n",
    ").get_dict\n",
    "\n",
    "# Format the Data\n",
    "result_2025 = response_2025['resultSets'][0]\n",
    "headers = result_2025['headers']\n",
    "rows = result_2025['rowSet']\n",
    "\n",
    "\n"
   ]
  }
 ],
 "metadata": {
  "kernelspec": {
   "display_name": "Python 3",
   "language": "python",
   "name": "python3"
  },
  "language_info": {
   "codemirror_mode": {
    "name": "ipython",
    "version": 3
   },
   "file_extension": ".py",
   "mimetype": "text/x-python",
   "name": "python",
   "nbconvert_exporter": "python",
   "pygments_lexer": "ipython3",
   "version": "3.13.1"
  }
 },
 "nbformat": 4,
 "nbformat_minor": 5
}
