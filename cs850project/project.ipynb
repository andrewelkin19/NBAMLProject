{
 "cells": [
  {
   "cell_type": "markdown",
   "id": "5a7ff92e",
   "metadata": {},
   "source": [
    "CS850 Final Project"
   ]
  },
  {
   "cell_type": "code",
   "execution_count": null,
   "id": "92d39e8e",
   "metadata": {},
   "outputs": [],
   "source": [
    "import pandas as pd\n",
    "from nba_api.stats.static import teams as static_teams\n",
    "from nba_api.stats.endpoints import LeagueDashTeamStats, TeamGameLog,\n",
    "from sklearn.linear_model import LinearRegression\n",
    "from sklearn.model_selection import train_test_split\n",
    "import matplotlib.pyplot as plt\n",
    "import plotly.express as px\n",
    "\n",
    "DEFAULT_FEATURES = [\n",
    "    \"FG_PCT\", \n",
    "    \"FG3_PCT\",\n",
    "    \"FT_PCT\",\n",
    "    \"REB\",\n",
    "    \"AST\",\n",
    "    \"TOV\",\n",
    "    \"FG3M\",\n",
    "    \"DEF_RATING\",\n",
    "    \"OFF_RATING\"\n",
    "]\n",
    "\n",
    "# Function to pull team season data from the api\n",
    "def get_nba_data(season='2022-23', season_type='Regular Season'):\n",
    "    team_stats = LeagueDashTeamStats(\n",
    "        season=season,\n",
    "        season_type_all_star=season_type,\n",
    "        per_mode_detailed='PerGame'\n",
    "    ).get_data_frames()[0]\n",
    "        \n",
    "    team_stats_adv = LeagueDashTeamStats(\n",
    "        season=season,\n",
    "        season_type_all_star=season_type,\n",
    "        per_mode_detailed=\"PerGame\",\n",
    "        measure_type_detailed_defense=\"Advanced\"\n",
    "    ).get_data_frames()[0][[\"TEAM_ID\", \"DEF_RATING\", \"OFF_RATING\"]]\n",
    "    \n",
    "\n",
    "    # Get data frame of team stats\n",
    "    df = team_stats.merge(team_stats_adv, on=\"TEAM_ID\", how=\"left\")\n",
    "    return df\n",
    "\n",
    "# Function to clean the data\n",
    "def clean_data(df):\n",
    "    #float_cols = [\"FG_PCT\", \"FG3_PCT\", \"FT_PCT\", \"REB\", \"AST\", \"TOV\", \"PLUS_MINUS\"]\n",
    "    float_cols = [\"FG_PCT\", \"FG3_PCT\", \"FT_PCT\", \"REB\", \"AST\", \"TOV\", \"FG3M\", \"DEF_RATING\", \"OFF_RATING\"]\n",
    "    # Ensure data is numerical\n",
    "    for col in float_cols:\n",
    "        df[col] = pd.to_numeric(df[col], errors='coerce')\n",
    "\n",
    "    # Remove missing values\n",
    "    df.dropna(subset=float_cols, inplace=True)\n",
    "    return df\n",
    "\n",
    "# Function to split the data into training and test sets\n",
    "def split_data(df, feature_cols, target_col=\"W\"):\n",
    "    X = df[feature_cols]\n",
    "    y = df[target_col]\n",
    "\n",
    "    # Split data\n",
    "    X_train, X_test, y_train, y_test = train_test_split(\n",
    "        X, y, test_size=0.2, random_state=42\n",
    "    )\n",
    "    return X_train, X_test, y_train, y_test\n",
    "\n",
    "# Function to fit a linear regression model to the training data\n",
    "def train_lr_model(X_train, y_train):\n",
    "    model = LinearRegression()\n",
    "    model.fit(X_train, y_train)\n",
    "    return model\n",
    "\n",
    "# Function to valuate the fit of the Linear Regression model\n",
    "def evaluate_model_lr(model, X_test, y_test):\n",
    "    score = model.score(X_test, y_test)\n",
    "    print(f\"R^2 Stat on test set: {score: .4f}\")\n",
    "\n",
    "# Generate final team record predictions from Linear Regression Model\n",
    "def predict_final_record_lr(model, df, feature_cols):\n",
    "    features_cols = [\n",
    "        \"FG_PCT\", \n",
    "        \"FG3_PCT\", \n",
    "        \"FT_PCT\", \n",
    "        \"REB\", \n",
    "        \"AST\", \n",
    "        \"TOV\", \n",
    "        \"FG3M\",\n",
    "        \"DEF_RATING\",\n",
    "        \"OFF_RATING\"\n",
    "    ]\n",
    "    X_current = df[features_cols]\n",
    "    predicted_wins = model.predict(X_current)\n",
    "\n",
    "    results_df = pd.DataFrame({\n",
    "        \"TEAM_NAME\": df[\"TEAM_NAME\"],\n",
    "        \"Predicted_Wins\": predicted_wins\n",
    "    })\n",
    "\n",
    "    # Round prediction to nearest integer\n",
    "    results_df[\"Predicted_Wins\"] = results_df[\"Predicted_Wins\"].round().astype(int)\n",
    "    results_df[\"Predicted_Losses\"] = 82 - results_df[\"Predicted_Wins\"]\n",
    "    \n",
    "    return results_df\n",
    "\n",
    "# Function to plot the Linear Regression model\n",
    "def plot_lr_fit(y_actual, y_hat):\n",
    "    plt.figure(figsize=(8,6))\n",
    "\n",
    "    #Display actual vs predicted datapoints\n",
    "    plt.scatter(y_actual, y_hat, alpha=0.7, label=\"Predicted Wins\", color=\"blue\")\n",
    "\n",
    "    # Plot the LR\n",
    "    min_val = min(y_actual.min(), y_hat.min())\n",
    "    max_val = max(y_actual.max(), y_hat.max())\n",
    "    plt.plot([min_val, max_val], [min_val, max_val], color=\"red\", lw=2, label=\"Perfect Fit (y = x)\")\n",
    "\n",
    "    plt.xlabel(\"Actual Wins\")\n",
    "    plt.ylabel(\"Predicted Wins\")\n",
    "    plt.title(\"Actual Wins vs. Predicted Wins\")\n",
    "    plt.legend()\n",
    "    plt.show()\n",
    "\n",
    "# Plot with Plotly for interactivity\n",
    "def plotly_plot_lr(df, actual_col=\"W\", predicted_col=\"Predicted_Wins\"):\n",
    "    fig = px.scatter(\n",
    "        df,\n",
    "        x=actual_col,\n",
    "        y=predicted_col,\n",
    "        hover_data=[\"TEAM_NAME\"],\n",
    "        labels={actual_col: \"Actual Wins\", predicted_col: \"Predicted Wins\"},\n",
    "        title=\"Actual Wins vs. Predicted Wins (Test Season: 2023-24)\"\n",
    "    )\n",
    "    \n",
    "    # Plot regression\n",
    "    min_val = min(df[actual_col].min(), df[predicted_col].min())\n",
    "    max_val = max(df[actual_col].max(), df[predicted_col].max())\n",
    "    fig.add_shape(\n",
    "        type=\"line\",\n",
    "        x0=min_val, y0=min_val, x1=max_val, y1=max_val,\n",
    "        line=dict(color=\"red\", dash=\"dash\")\n",
    "    )\n",
    "\n",
    "    fig.show()\n",
    "    \n",
    "\n"
   ]
  },
  {
   "cell_type": "code",
   "execution_count": 23,
   "id": "96d057b0",
   "metadata": {},
   "outputs": [
    {
     "data": {
      "application/vnd.plotly.v1+json": {
       "config": {
        "plotlyServerURL": "https://plot.ly"
       },
       "data": [
        {
         "customdata": [
          [
           "Atlanta Hawks"
          ],
          [
           "Boston Celtics"
          ],
          [
           "Brooklyn Nets"
          ],
          [
           "Charlotte Hornets"
          ],
          [
           "Chicago Bulls"
          ],
          [
           "Cleveland Cavaliers"
          ],
          [
           "Dallas Mavericks"
          ],
          [
           "Denver Nuggets"
          ],
          [
           "Detroit Pistons"
          ],
          [
           "Golden State Warriors"
          ],
          [
           "Houston Rockets"
          ],
          [
           "Indiana Pacers"
          ],
          [
           "LA Clippers"
          ],
          [
           "Los Angeles Lakers"
          ],
          [
           "Memphis Grizzlies"
          ],
          [
           "Miami Heat"
          ],
          [
           "Milwaukee Bucks"
          ],
          [
           "Minnesota Timberwolves"
          ],
          [
           "New Orleans Pelicans"
          ],
          [
           "New York Knicks"
          ],
          [
           "Oklahoma City Thunder"
          ],
          [
           "Orlando Magic"
          ],
          [
           "Philadelphia 76ers"
          ],
          [
           "Phoenix Suns"
          ],
          [
           "Portland Trail Blazers"
          ],
          [
           "Sacramento Kings"
          ],
          [
           "San Antonio Spurs"
          ],
          [
           "Toronto Raptors"
          ],
          [
           "Utah Jazz"
          ],
          [
           "Washington Wizards"
          ]
         ],
         "hovertemplate": "Actual Wins=%{x}<br>Predicted Wins=%{y}<br>TEAM_NAME=%{customdata[0]}<extra></extra>",
         "legendgroup": "",
         "marker": {
          "color": "#636efa",
          "symbol": "circle"
         },
         "mode": "markers",
         "name": "",
         "orientation": "v",
         "showlegend": false,
         "type": "scatter",
         "x": {
          "bdata": "JEAgFScwMjkOLikvMy8bLjE4MTI5Ly8xFS4WGR8P",
          "dtype": "i1"
         },
         "xaxis": "x",
         "y": {
          "bdata": "JUYjESUwLzcUMSsxMCwZLTE4NTQ6LS8xEy8cGx0W",
          "dtype": "i1"
         },
         "yaxis": "y"
        }
       ],
       "layout": {
        "legend": {
         "tracegroupgap": 0
        },
        "shapes": [
         {
          "line": {
           "color": "red",
           "dash": "dash"
          },
          "type": "line",
          "x0": 14,
          "x1": 70,
          "y0": 14,
          "y1": 70
         }
        ],
        "template": {
         "data": {
          "bar": [
           {
            "error_x": {
             "color": "#2a3f5f"
            },
            "error_y": {
             "color": "#2a3f5f"
            },
            "marker": {
             "line": {
              "color": "#E5ECF6",
              "width": 0.5
             },
             "pattern": {
              "fillmode": "overlay",
              "size": 10,
              "solidity": 0.2
             }
            },
            "type": "bar"
           }
          ],
          "barpolar": [
           {
            "marker": {
             "line": {
              "color": "#E5ECF6",
              "width": 0.5
             },
             "pattern": {
              "fillmode": "overlay",
              "size": 10,
              "solidity": 0.2
             }
            },
            "type": "barpolar"
           }
          ],
          "carpet": [
           {
            "aaxis": {
             "endlinecolor": "#2a3f5f",
             "gridcolor": "white",
             "linecolor": "white",
             "minorgridcolor": "white",
             "startlinecolor": "#2a3f5f"
            },
            "baxis": {
             "endlinecolor": "#2a3f5f",
             "gridcolor": "white",
             "linecolor": "white",
             "minorgridcolor": "white",
             "startlinecolor": "#2a3f5f"
            },
            "type": "carpet"
           }
          ],
          "choropleth": [
           {
            "colorbar": {
             "outlinewidth": 0,
             "ticks": ""
            },
            "type": "choropleth"
           }
          ],
          "contour": [
           {
            "colorbar": {
             "outlinewidth": 0,
             "ticks": ""
            },
            "colorscale": [
             [
              0,
              "#0d0887"
             ],
             [
              0.1111111111111111,
              "#46039f"
             ],
             [
              0.2222222222222222,
              "#7201a8"
             ],
             [
              0.3333333333333333,
              "#9c179e"
             ],
             [
              0.4444444444444444,
              "#bd3786"
             ],
             [
              0.5555555555555556,
              "#d8576b"
             ],
             [
              0.6666666666666666,
              "#ed7953"
             ],
             [
              0.7777777777777778,
              "#fb9f3a"
             ],
             [
              0.8888888888888888,
              "#fdca26"
             ],
             [
              1,
              "#f0f921"
             ]
            ],
            "type": "contour"
           }
          ],
          "contourcarpet": [
           {
            "colorbar": {
             "outlinewidth": 0,
             "ticks": ""
            },
            "type": "contourcarpet"
           }
          ],
          "heatmap": [
           {
            "colorbar": {
             "outlinewidth": 0,
             "ticks": ""
            },
            "colorscale": [
             [
              0,
              "#0d0887"
             ],
             [
              0.1111111111111111,
              "#46039f"
             ],
             [
              0.2222222222222222,
              "#7201a8"
             ],
             [
              0.3333333333333333,
              "#9c179e"
             ],
             [
              0.4444444444444444,
              "#bd3786"
             ],
             [
              0.5555555555555556,
              "#d8576b"
             ],
             [
              0.6666666666666666,
              "#ed7953"
             ],
             [
              0.7777777777777778,
              "#fb9f3a"
             ],
             [
              0.8888888888888888,
              "#fdca26"
             ],
             [
              1,
              "#f0f921"
             ]
            ],
            "type": "heatmap"
           }
          ],
          "histogram": [
           {
            "marker": {
             "pattern": {
              "fillmode": "overlay",
              "size": 10,
              "solidity": 0.2
             }
            },
            "type": "histogram"
           }
          ],
          "histogram2d": [
           {
            "colorbar": {
             "outlinewidth": 0,
             "ticks": ""
            },
            "colorscale": [
             [
              0,
              "#0d0887"
             ],
             [
              0.1111111111111111,
              "#46039f"
             ],
             [
              0.2222222222222222,
              "#7201a8"
             ],
             [
              0.3333333333333333,
              "#9c179e"
             ],
             [
              0.4444444444444444,
              "#bd3786"
             ],
             [
              0.5555555555555556,
              "#d8576b"
             ],
             [
              0.6666666666666666,
              "#ed7953"
             ],
             [
              0.7777777777777778,
              "#fb9f3a"
             ],
             [
              0.8888888888888888,
              "#fdca26"
             ],
             [
              1,
              "#f0f921"
             ]
            ],
            "type": "histogram2d"
           }
          ],
          "histogram2dcontour": [
           {
            "colorbar": {
             "outlinewidth": 0,
             "ticks": ""
            },
            "colorscale": [
             [
              0,
              "#0d0887"
             ],
             [
              0.1111111111111111,
              "#46039f"
             ],
             [
              0.2222222222222222,
              "#7201a8"
             ],
             [
              0.3333333333333333,
              "#9c179e"
             ],
             [
              0.4444444444444444,
              "#bd3786"
             ],
             [
              0.5555555555555556,
              "#d8576b"
             ],
             [
              0.6666666666666666,
              "#ed7953"
             ],
             [
              0.7777777777777778,
              "#fb9f3a"
             ],
             [
              0.8888888888888888,
              "#fdca26"
             ],
             [
              1,
              "#f0f921"
             ]
            ],
            "type": "histogram2dcontour"
           }
          ],
          "mesh3d": [
           {
            "colorbar": {
             "outlinewidth": 0,
             "ticks": ""
            },
            "type": "mesh3d"
           }
          ],
          "parcoords": [
           {
            "line": {
             "colorbar": {
              "outlinewidth": 0,
              "ticks": ""
             }
            },
            "type": "parcoords"
           }
          ],
          "pie": [
           {
            "automargin": true,
            "type": "pie"
           }
          ],
          "scatter": [
           {
            "fillpattern": {
             "fillmode": "overlay",
             "size": 10,
             "solidity": 0.2
            },
            "type": "scatter"
           }
          ],
          "scatter3d": [
           {
            "line": {
             "colorbar": {
              "outlinewidth": 0,
              "ticks": ""
             }
            },
            "marker": {
             "colorbar": {
              "outlinewidth": 0,
              "ticks": ""
             }
            },
            "type": "scatter3d"
           }
          ],
          "scattercarpet": [
           {
            "marker": {
             "colorbar": {
              "outlinewidth": 0,
              "ticks": ""
             }
            },
            "type": "scattercarpet"
           }
          ],
          "scattergeo": [
           {
            "marker": {
             "colorbar": {
              "outlinewidth": 0,
              "ticks": ""
             }
            },
            "type": "scattergeo"
           }
          ],
          "scattergl": [
           {
            "marker": {
             "colorbar": {
              "outlinewidth": 0,
              "ticks": ""
             }
            },
            "type": "scattergl"
           }
          ],
          "scattermap": [
           {
            "marker": {
             "colorbar": {
              "outlinewidth": 0,
              "ticks": ""
             }
            },
            "type": "scattermap"
           }
          ],
          "scattermapbox": [
           {
            "marker": {
             "colorbar": {
              "outlinewidth": 0,
              "ticks": ""
             }
            },
            "type": "scattermapbox"
           }
          ],
          "scatterpolar": [
           {
            "marker": {
             "colorbar": {
              "outlinewidth": 0,
              "ticks": ""
             }
            },
            "type": "scatterpolar"
           }
          ],
          "scatterpolargl": [
           {
            "marker": {
             "colorbar": {
              "outlinewidth": 0,
              "ticks": ""
             }
            },
            "type": "scatterpolargl"
           }
          ],
          "scatterternary": [
           {
            "marker": {
             "colorbar": {
              "outlinewidth": 0,
              "ticks": ""
             }
            },
            "type": "scatterternary"
           }
          ],
          "surface": [
           {
            "colorbar": {
             "outlinewidth": 0,
             "ticks": ""
            },
            "colorscale": [
             [
              0,
              "#0d0887"
             ],
             [
              0.1111111111111111,
              "#46039f"
             ],
             [
              0.2222222222222222,
              "#7201a8"
             ],
             [
              0.3333333333333333,
              "#9c179e"
             ],
             [
              0.4444444444444444,
              "#bd3786"
             ],
             [
              0.5555555555555556,
              "#d8576b"
             ],
             [
              0.6666666666666666,
              "#ed7953"
             ],
             [
              0.7777777777777778,
              "#fb9f3a"
             ],
             [
              0.8888888888888888,
              "#fdca26"
             ],
             [
              1,
              "#f0f921"
             ]
            ],
            "type": "surface"
           }
          ],
          "table": [
           {
            "cells": {
             "fill": {
              "color": "#EBF0F8"
             },
             "line": {
              "color": "white"
             }
            },
            "header": {
             "fill": {
              "color": "#C8D4E3"
             },
             "line": {
              "color": "white"
             }
            },
            "type": "table"
           }
          ]
         },
         "layout": {
          "annotationdefaults": {
           "arrowcolor": "#2a3f5f",
           "arrowhead": 0,
           "arrowwidth": 1
          },
          "autotypenumbers": "strict",
          "coloraxis": {
           "colorbar": {
            "outlinewidth": 0,
            "ticks": ""
           }
          },
          "colorscale": {
           "diverging": [
            [
             0,
             "#8e0152"
            ],
            [
             0.1,
             "#c51b7d"
            ],
            [
             0.2,
             "#de77ae"
            ],
            [
             0.3,
             "#f1b6da"
            ],
            [
             0.4,
             "#fde0ef"
            ],
            [
             0.5,
             "#f7f7f7"
            ],
            [
             0.6,
             "#e6f5d0"
            ],
            [
             0.7,
             "#b8e186"
            ],
            [
             0.8,
             "#7fbc41"
            ],
            [
             0.9,
             "#4d9221"
            ],
            [
             1,
             "#276419"
            ]
           ],
           "sequential": [
            [
             0,
             "#0d0887"
            ],
            [
             0.1111111111111111,
             "#46039f"
            ],
            [
             0.2222222222222222,
             "#7201a8"
            ],
            [
             0.3333333333333333,
             "#9c179e"
            ],
            [
             0.4444444444444444,
             "#bd3786"
            ],
            [
             0.5555555555555556,
             "#d8576b"
            ],
            [
             0.6666666666666666,
             "#ed7953"
            ],
            [
             0.7777777777777778,
             "#fb9f3a"
            ],
            [
             0.8888888888888888,
             "#fdca26"
            ],
            [
             1,
             "#f0f921"
            ]
           ],
           "sequentialminus": [
            [
             0,
             "#0d0887"
            ],
            [
             0.1111111111111111,
             "#46039f"
            ],
            [
             0.2222222222222222,
             "#7201a8"
            ],
            [
             0.3333333333333333,
             "#9c179e"
            ],
            [
             0.4444444444444444,
             "#bd3786"
            ],
            [
             0.5555555555555556,
             "#d8576b"
            ],
            [
             0.6666666666666666,
             "#ed7953"
            ],
            [
             0.7777777777777778,
             "#fb9f3a"
            ],
            [
             0.8888888888888888,
             "#fdca26"
            ],
            [
             1,
             "#f0f921"
            ]
           ]
          },
          "colorway": [
           "#636efa",
           "#EF553B",
           "#00cc96",
           "#ab63fa",
           "#FFA15A",
           "#19d3f3",
           "#FF6692",
           "#B6E880",
           "#FF97FF",
           "#FECB52"
          ],
          "font": {
           "color": "#2a3f5f"
          },
          "geo": {
           "bgcolor": "white",
           "lakecolor": "white",
           "landcolor": "#E5ECF6",
           "showlakes": true,
           "showland": true,
           "subunitcolor": "white"
          },
          "hoverlabel": {
           "align": "left"
          },
          "hovermode": "closest",
          "mapbox": {
           "style": "light"
          },
          "paper_bgcolor": "white",
          "plot_bgcolor": "#E5ECF6",
          "polar": {
           "angularaxis": {
            "gridcolor": "white",
            "linecolor": "white",
            "ticks": ""
           },
           "bgcolor": "#E5ECF6",
           "radialaxis": {
            "gridcolor": "white",
            "linecolor": "white",
            "ticks": ""
           }
          },
          "scene": {
           "xaxis": {
            "backgroundcolor": "#E5ECF6",
            "gridcolor": "white",
            "gridwidth": 2,
            "linecolor": "white",
            "showbackground": true,
            "ticks": "",
            "zerolinecolor": "white"
           },
           "yaxis": {
            "backgroundcolor": "#E5ECF6",
            "gridcolor": "white",
            "gridwidth": 2,
            "linecolor": "white",
            "showbackground": true,
            "ticks": "",
            "zerolinecolor": "white"
           },
           "zaxis": {
            "backgroundcolor": "#E5ECF6",
            "gridcolor": "white",
            "gridwidth": 2,
            "linecolor": "white",
            "showbackground": true,
            "ticks": "",
            "zerolinecolor": "white"
           }
          },
          "shapedefaults": {
           "line": {
            "color": "#2a3f5f"
           }
          },
          "ternary": {
           "aaxis": {
            "gridcolor": "white",
            "linecolor": "white",
            "ticks": ""
           },
           "baxis": {
            "gridcolor": "white",
            "linecolor": "white",
            "ticks": ""
           },
           "bgcolor": "#E5ECF6",
           "caxis": {
            "gridcolor": "white",
            "linecolor": "white",
            "ticks": ""
           }
          },
          "title": {
           "x": 0.05
          },
          "xaxis": {
           "automargin": true,
           "gridcolor": "white",
           "linecolor": "white",
           "ticks": "",
           "title": {
            "standoff": 15
           },
           "zerolinecolor": "white",
           "zerolinewidth": 2
          },
          "yaxis": {
           "automargin": true,
           "gridcolor": "white",
           "linecolor": "white",
           "ticks": "",
           "title": {
            "standoff": 15
           },
           "zerolinecolor": "white",
           "zerolinewidth": 2
          }
         }
        },
        "title": {
         "text": "Actual Wins vs. Predicted Wins (Test Season: 2023-24)"
        },
        "xaxis": {
         "anchor": "y",
         "domain": [
          0,
          1
         ],
         "title": {
          "text": "Actual Wins"
         }
        },
        "yaxis": {
         "anchor": "x",
         "domain": [
          0,
          1
         ],
         "title": {
          "text": "Predicted Wins"
         }
        }
       }
      }
     },
     "metadata": {},
     "output_type": "display_data"
    },
    {
     "name": "stdout",
     "output_type": "stream",
     "text": [
      "R^2 Score on 2023-24:  0.9442\n",
      "Features Used: ['FG_PCT', 'FG3_PCT', 'FT_PCT', 'REB', 'AST', 'TOV', 'FG3M', 'DEF_RATING', 'OFF_RATING']\n",
      "                 TEAM_NAME  Actual Wins  Predicted Wins\n",
      "1           Boston Celtics           64              70\n",
      "7           Denver Nuggets           57              55\n",
      "20   Oklahoma City Thunder           57              58\n",
      "17  Minnesota Timberwolves           56              56\n",
      "12             LA Clippers           51              48\n",
      "19         New York Knicks           50              52\n",
      "6         Dallas Mavericks           50              47\n",
      "18    New Orleans Pelicans           49              53\n",
      "23            Phoenix Suns           49              49\n",
      "16         Milwaukee Bucks           49              49\n",
      "5      Cleveland Cavaliers           48              48\n",
      "22      Philadelphia 76ers           47              47\n",
      "11          Indiana Pacers           47              49\n",
      "13      Los Angeles Lakers           47              44\n",
      "21           Orlando Magic           47              45\n",
      "15              Miami Heat           46              45\n",
      "9    Golden State Warriors           46              49\n",
      "25        Sacramento Kings           46              47\n",
      "10         Houston Rockets           41              43\n",
      "4            Chicago Bulls           39              37\n",
      "0            Atlanta Hawks           36              37\n",
      "2            Brooklyn Nets           32              35\n",
      "28               Utah Jazz           31              29\n",
      "14       Memphis Grizzlies           27              25\n",
      "27         Toronto Raptors           25              27\n",
      "26       San Antonio Spurs           22              28\n",
      "3        Charlotte Hornets           21              17\n",
      "24  Portland Trail Blazers           21              19\n",
      "29      Washington Wizards           15              22\n",
      "8          Detroit Pistons           14              20\n"
     ]
    }
   ],
   "source": [
    "# Get the stats from training year and run training\n",
    "nba_stats_2023 = get_nba_data(season=\"2022-23\", season_type=\"Regular Season\")\n",
    "nba_stats_2023 = clean_data(nba_stats_2023)\n",
    "#feature_cols = [\"FG_PCT\", \"FG3_PCT\", \"FT_PCT\", \"REB\", \"AST\", \"TOV\", \"PLUS_MINUS\"]\n",
    "feature_cols = DEFAULT_FEATURES\n",
    "X_train = nba_stats_2023[feature_cols]\n",
    "y_train = nba_stats_2023[\"W\"]\n",
    "model_lr = train_lr_model(X_train, y_train)\n",
    "\n",
    "# Get different season to predict on\n",
    "nba_stats_2024 = get_nba_data(season=\"2023-24\", season_type=\"Regular Season\")\n",
    "nba_stats_2024 = clean_data(nba_stats_2024)\n",
    "# Get actual wins and features from test season\n",
    "test_actual = nba_stats_2024[[\"TEAM_NAME\", \"W\"]]\n",
    "y_actual = nba_stats_2024[\"W\"]\n",
    "X_test = nba_stats_2024[feature_cols]\n",
    "y_pred = model_lr.predict(X_test)\n",
    "y_pred = [round(val) for val in y_pred]\n",
    "\n",
    "# Generate a DF for plot\n",
    "predictions_df = test_actual.copy()\n",
    "predictions_df[\"Predicted_Wins\"] = y_pred\n",
    "\n",
    "# Generate Plotly plot\n",
    "plotly_plot_lr(predictions_df)\n",
    "\n",
    "# Evaluate Model\n",
    "r2_score = model_lr.score(X_test, y_actual)\n",
    "print(f\"R^2 Score on 2023-24: {r2_score: .4f}\")\n",
    "print(f\"Features Used: {feature_cols}\")\n",
    "\n",
    "# Print table of predictions vs actual win totals\n",
    "predictions_table_lr = predictions_df[[\"TEAM_NAME\", \"W\", \"Predicted_Wins\"]]\n",
    "predictions_table_lr = predictions_table_lr.rename(columns={\"W\": \"Actual Wins\", \"Predicted_Wins\": \"Predicted Wins\"})\n",
    "predictions_table_lr = predictions_table_lr.sort_values(\"Actual Wins\", ascending=False)\n",
    "print(predictions_table_lr)\n",
    "\n"
   ]
  },
  {
   "cell_type": "markdown",
   "id": "c4665444",
   "metadata": {},
   "source": [
    "Plus-Minus increases R^2 score from 0.6579 to 0.9532."
   ]
  },
  {
   "cell_type": "markdown",
   "id": "28a25678",
   "metadata": {},
   "source": [
    "By adding Offensive Rating and Defensive Rating (advanced stats measuring the efficiency of a team's offense and defense), I was able to get the R^2 score back up to an impressive 0.9442 without giving the model Plus/Minus."
   ]
  },
  {
   "cell_type": "markdown",
   "id": "3fff9652",
   "metadata": {},
   "source": [
    "Now I will train on the first n games of a season and predict on the rest."
   ]
  },
  {
   "cell_type": "code",
   "execution_count": 24,
   "id": "3ef26ff9",
   "metadata": {},
   "outputs": [],
   "source": [
    "TRAIN_GAMES = 20\n",
    "BASE_COLS = [\"FG_PCT\", \"FG3_PCT\", \"FT_PCT\", \"REB\", \"AST\", \"TOV\", \"FG3M\"]\n",
    "ADV_COLS = [\"DEF_RATING\", \"OFF_RATING\"]\n",
    "\n",
    "\n",
    "def get_stats(season, n_games=TRAIN_GAMES):\n",
    "    # Get the stats from every game from every team\n",
    "    df_standard, df_adv = [], []\n",
    "    for team in static_teams.get_teams():\n",
    "        team_id = team[\"id\"]\n",
    "        team_name = team[\"full_name\"]\n",
    "        \n",
    "        \n",
    "        game_logs_standard = TeamGameLog(team_id=team_id,\n",
    "                                         season=season,\n",
    "                                         season_type_all_star=\"Regular Season\").get_data_frames()[0].sort_values(\"GAME_DATE\").head(n_games)\n",
    "        standard_row = game_logs_standard[BASE_COLS].mean().to_dict()\n",
    "        standard_row.update({\"TEAM_ID\" : team_id, \"TEAM_NAME\" : team_name})\n",
    "        df_standard.append(\n",
    "            pd.DataFrame([standard_row])\n",
    "        )\n",
    "\n",
    "        # Pull just the training games we want\n",
    "\n",
    "        # Get advanced stats from same training data\n",
    "        game_logs_adv= TeamGameLog(\n",
    "            team_id=team_id, season=season, season_type_all_star=\"Regular Season\",\n",
    "            measure_type_detailed=\"Advanced\"\n",
    "        ).get_data_frames()[0].sort_values(\"GAME_DATE\").head(n_games)\n",
    "\n",
    "        adv_row = game_logs_adv[ADV_COLS].mean().to_dict()\n",
    "        adv_row.update({\"TEAM_ID\" : team_id})\n",
    "        df_adv.append(\n",
    "            pd.DataFrame([adv_row])\n",
    "        )\n",
    "        \n",
    "    df_standard = pd.concat(df_standard, ignore_index=True)\n",
    "    df_adv = pd.concat(df_adv, ignore_index=True)\n",
    "    df = df_standard.merge(df_adv, on=\"TEAM_ID\", how=\"left\")\n",
    "    \n",
    "    return df\n"
   ]
  },
  {
   "cell_type": "markdown",
   "id": "cacc8b0f",
   "metadata": {},
   "source": [
    "Use same LR methods on this data"
   ]
  },
  {
   "cell_type": "code",
   "execution_count": 25,
   "id": "15f8cc76",
   "metadata": {},
   "outputs": [
    {
     "ename": "TypeError",
     "evalue": "TeamGameLog.__init__() got an unexpected keyword argument 'measure_type_detailed'",
     "output_type": "error",
     "traceback": [
      "\u001b[31m---------------------------------------------------------------------------\u001b[39m",
      "\u001b[31mTypeError\u001b[39m                                 Traceback (most recent call last)",
      "\u001b[36mCell\u001b[39m\u001b[36m \u001b[39m\u001b[32mIn[25]\u001b[39m\u001b[32m, line 1\u001b[39m\n\u001b[32m----> \u001b[39m\u001b[32m1\u001b[39m train_data_2023 = \u001b[43mget_stats\u001b[49m\u001b[43m(\u001b[49m\u001b[33;43m\"\u001b[39;49m\u001b[33;43m2022-23\u001b[39;49m\u001b[33;43m\"\u001b[39;49m\u001b[43m)\u001b[49m\n\u001b[32m      2\u001b[39m train_data_2023 = clean_data(train_data_2023)\n\u001b[32m      4\u001b[39m X_train = train_data_2023[DEFAULT_FEATURES]\n",
      "\u001b[36mCell\u001b[39m\u001b[36m \u001b[39m\u001b[32mIn[24]\u001b[39m\u001b[32m, line 26\u001b[39m, in \u001b[36mget_stats\u001b[39m\u001b[34m(season, n_games)\u001b[39m\n\u001b[32m     19\u001b[39m df_standard.append(\n\u001b[32m     20\u001b[39m     pd.DataFrame([standard_row])\n\u001b[32m     21\u001b[39m )\n\u001b[32m     23\u001b[39m \u001b[38;5;66;03m# Pull just the training games we want\u001b[39;00m\n\u001b[32m     24\u001b[39m \n\u001b[32m     25\u001b[39m \u001b[38;5;66;03m# Get advanced stats from same training data\u001b[39;00m\n\u001b[32m---> \u001b[39m\u001b[32m26\u001b[39m game_logs_adv= \u001b[43mTeamGameLog\u001b[49m\u001b[43m(\u001b[49m\n\u001b[32m     27\u001b[39m \u001b[43m    \u001b[49m\u001b[43mteam_id\u001b[49m\u001b[43m=\u001b[49m\u001b[43mteam_id\u001b[49m\u001b[43m,\u001b[49m\u001b[43m \u001b[49m\u001b[43mseason\u001b[49m\u001b[43m=\u001b[49m\u001b[43mseason\u001b[49m\u001b[43m,\u001b[49m\u001b[43m \u001b[49m\u001b[43mseason_type_all_star\u001b[49m\u001b[43m=\u001b[49m\u001b[33;43m\"\u001b[39;49m\u001b[33;43mRegular Season\u001b[39;49m\u001b[33;43m\"\u001b[39;49m\u001b[43m,\u001b[49m\n\u001b[32m     28\u001b[39m \u001b[43m    \u001b[49m\u001b[43mmeasure_type_detailed\u001b[49m\u001b[43m=\u001b[49m\u001b[33;43m\"\u001b[39;49m\u001b[33;43mAdvanced\u001b[39;49m\u001b[33;43m\"\u001b[39;49m\n\u001b[32m     29\u001b[39m \u001b[43m\u001b[49m\u001b[43m)\u001b[49m.get_data_frames()[\u001b[32m0\u001b[39m].sort_values(\u001b[33m\"\u001b[39m\u001b[33mGAME_DATE\u001b[39m\u001b[33m\"\u001b[39m).head(n_games)\n\u001b[32m     31\u001b[39m adv_row = game_logs_adv[ADV_COLS].mean().to_dict()\n\u001b[32m     32\u001b[39m adv_row.update({\u001b[33m\"\u001b[39m\u001b[33mTEAM_ID\u001b[39m\u001b[33m\"\u001b[39m : team_id})\n",
      "\u001b[31mTypeError\u001b[39m: TeamGameLog.__init__() got an unexpected keyword argument 'measure_type_detailed'"
     ]
    }
   ],
   "source": [
    "train_data_2023 = get_stats(\"2022-23\")\n",
    "train_data_2023 = clean_data(train_data_2023)\n",
    "\n",
    "X_train = train_data_2023[DEFAULT_FEATURES]\n",
    "# y_train and y_actual are the same from previous work\n",
    "model_lr = train_lr_model(X_train, y_train)\n",
    "\n",
    "test_data_2024 = get_stats(\"2023-24\")\n",
    "test_data_2024 = clean_data(test_data_2024)\n",
    "\n",
    "X_test = test_data_2024[DEFAULT_FEATURES]\n",
    "y_pred = model_lr.predict(X_test).round()\n",
    "\n",
    "r2 = model_lr.score(X_test, y_actual)\n",
    "print(f\"R^2 using stats after {TRAIN_GAMES} games: {r2:.3f}\")"
   ]
  }
 ],
 "metadata": {
  "kernelspec": {
   "display_name": "Python 3",
   "language": "python",
   "name": "python3"
  },
  "language_info": {
   "codemirror_mode": {
    "name": "ipython",
    "version": 3
   },
   "file_extension": ".py",
   "mimetype": "text/x-python",
   "name": "python",
   "nbconvert_exporter": "python",
   "pygments_lexer": "ipython3",
   "version": "3.13.1"
  }
 },
 "nbformat": 4,
 "nbformat_minor": 5
}
